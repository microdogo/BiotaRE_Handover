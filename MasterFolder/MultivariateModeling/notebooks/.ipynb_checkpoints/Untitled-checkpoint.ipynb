{
 "cells": [
  {
   "cell_type": "code",
   "execution_count": 1,
   "metadata": {},
   "outputs": [],
   "source": [
    "# General Tool Imports\n",
    "\n",
    "import os\n",
    "os.environ['PATH'] = '/home/jovyan/my-conda-envs/qiime2-2019.1/bin:' + os.environ['PATH']\n",
    "os.environ['PROJ_LIB'] = '/home/jovyan/my-conda-envs/qiime2-2019.1/share/proj'\n",
    "\n",
    "import numpy as np\n",
    "import pandas as pd\n",
    "import collections\n",
    "from pickle import load, dump\n",
    "import lasio\n",
    "\n",
    "# Plotting Imports\n",
    "import matplotlib.pyplot as plt\n",
    "import seaborn as sns\n",
    "from matplotlib.patches import Rectangle\n",
    "from mpl_toolkits.basemap import Basemap\n",
    "from matplotlib.lines import Line2D\n",
    "\n",
    "# Biota Imports\n",
    "import biota\n",
    "from biota.database import (get_samples,\n",
    "                            get_sample_data)\n",
    "from biota.util import (rarefy,\n",
    "                        make_tree,\n",
    "                        get_dms,\n",
    "                        filter_dm_and_map,\n",
    "                        get_tax_table)\n",
    "import biota.plot as bpl # used for internal plotting code\n",
    "\n",
    "# SourceTracker Imports\n",
    "from ipyparallel import Client\n",
    "from sourcetracker._sourcetracker import gibbs\n",
    "\n",
    "# Clustering imports\n",
    "from scipy.spatial.distance import pdist\n",
    "from scipy.cluster import hierarchy\n",
    "\n",
    "from scipy.stats import ttest_ind\n",
    "\n",
    "from sklearn.preprocessing import StandardScaler\n",
    "from sklearn.model_selection import train_test_split, cross_validate, cross_val_predict\n",
    "from sklearn.linear_model import LinearRegression\n",
    "from sklearn.ensemble import RandomForestRegressor\n",
    "from sklearn import metrics\n",
    "\n",
    "# Plot images in the notebook\n",
    "%matplotlib inline"
   ]
  },
  {
   "cell_type": "code",
   "execution_count": 62,
   "metadata": {},
   "outputs": [],
   "source": [
    "#FilePath = os.environ['PATH'] = '/home/jovyan/my-conda-envs/qiime2-2019.1/bin:' + os.environ['PATH']\n",
    "#Read geology, completions and production data for ~120 wells\n",
    "#WellData = pd.read_csv(\"/ReservoirEngineering/MultivariateModeling/files/WellData.csv\", index_col=0)\n",
    "#ReservoirEngineering/MultivariateModeling/files\n",
    "#ReservoirEngineering/MultivariateModeling/files/WellData.csv , index_col=0)\n",
    "WellData = pd.read_csv('../files/Biota_Asset_Data_Join_APC.csv')\n",
    "WellSurvey = pd.read_csv('../files/APCSilverTipSurvey2H.csv')"
   ]
  },
  {
   "cell_type": "code",
   "execution_count": 63,
   "metadata": {},
   "outputs": [
    {
     "data": {
      "text/html": [
       "<div>\n",
       "<style scoped>\n",
       "    .dataframe tbody tr th:only-of-type {\n",
       "        vertical-align: middle;\n",
       "    }\n",
       "\n",
       "    .dataframe tbody tr th {\n",
       "        vertical-align: top;\n",
       "    }\n",
       "\n",
       "    .dataframe thead th {\n",
       "        text-align: right;\n",
       "    }\n",
       "</style>\n",
       "<table border=\"1\" class=\"dataframe\">\n",
       "  <thead>\n",
       "    <tr style=\"text-align: right;\">\n",
       "      <th></th>\n",
       "      <th>Well</th>\n",
       "      <th>WellAPI</th>\n",
       "      <th>Formation</th>\n",
       "      <th>Well.Name</th>\n",
       "      <th>API_14</th>\n",
       "      <th>Target</th>\n",
       "      <th>Interval</th>\n",
       "      <th>Formation of DelawareWCv3.7</th>\n",
       "      <th>SH_Lat</th>\n",
       "      <th>SH_Long</th>\n",
       "      <th>...</th>\n",
       "      <th>GOR6m</th>\n",
       "      <th>GOR9m</th>\n",
       "      <th>GOR12m</th>\n",
       "      <th>GOR18m</th>\n",
       "      <th>GOR24m</th>\n",
       "      <th>Time_on_days</th>\n",
       "      <th>Spud_Date</th>\n",
       "      <th>Frac_Date</th>\n",
       "      <th>First_Prod_Timing</th>\n",
       "      <th>Category</th>\n",
       "    </tr>\n",
       "  </thead>\n",
       "  <tbody>\n",
       "    <tr>\n",
       "      <th>0</th>\n",
       "      <td>apc.fee.1.40.3h</td>\n",
       "      <td>4.230000e+13</td>\n",
       "      <td>w1.alpha</td>\n",
       "      <td>APC.FEE.1.40.3H</td>\n",
       "      <td>4.230000e+13</td>\n",
       "      <td>07_W1_ALPHA</td>\n",
       "      <td>ALPHA</td>\n",
       "      <td>WC</td>\n",
       "      <td>31.67057</td>\n",
       "      <td>-103.45410</td>\n",
       "      <td>...</td>\n",
       "      <td>1623.150769</td>\n",
       "      <td>1804.556411</td>\n",
       "      <td>1751.816575</td>\n",
       "      <td>1575.358890</td>\n",
       "      <td>1400.889774</td>\n",
       "      <td>1649.1667</td>\n",
       "      <td>5/13/2012</td>\n",
       "      <td>8/9/2012</td>\n",
       "      <td>4.166667</td>\n",
       "      <td>General</td>\n",
       "    </tr>\n",
       "    <tr>\n",
       "      <th>1</th>\n",
       "      <td>apc.fee.1.40.4h</td>\n",
       "      <td>4.230000e+13</td>\n",
       "      <td>w1.alpha</td>\n",
       "      <td>APC.FEE.1.40.4H</td>\n",
       "      <td>4.230000e+13</td>\n",
       "      <td>07_W1_ALPHA</td>\n",
       "      <td>ALPHA</td>\n",
       "      <td>WC</td>\n",
       "      <td>31.66693</td>\n",
       "      <td>-103.44928</td>\n",
       "      <td>...</td>\n",
       "      <td>1640.544511</td>\n",
       "      <td>2181.544977</td>\n",
       "      <td>2080.118570</td>\n",
       "      <td>1706.740609</td>\n",
       "      <td>1571.141088</td>\n",
       "      <td>1518.4167</td>\n",
       "      <td>6/22/2012</td>\n",
       "      <td>8/10/2012</td>\n",
       "      <td>2.866667</td>\n",
       "      <td>General</td>\n",
       "    </tr>\n",
       "    <tr>\n",
       "      <th>2</th>\n",
       "      <td>apc.fee.1.50.3h</td>\n",
       "      <td>4.230000e+13</td>\n",
       "      <td>NaN</td>\n",
       "      <td>APC.FEE.1.50.UNIT.3H</td>\n",
       "      <td>4.230000e+13</td>\n",
       "      <td>11_MIDDLE_BETA</td>\n",
       "      <td>BETA</td>\n",
       "      <td>WC</td>\n",
       "      <td>31.69715</td>\n",
       "      <td>-103.48970</td>\n",
       "      <td>...</td>\n",
       "      <td>1799.518009</td>\n",
       "      <td>1874.369857</td>\n",
       "      <td>2058.967388</td>\n",
       "      <td>2151.879037</td>\n",
       "      <td>2047.358064</td>\n",
       "      <td>990.6250</td>\n",
       "      <td>9/12/2013</td>\n",
       "      <td>5/9/2014</td>\n",
       "      <td>9.400000</td>\n",
       "      <td>General</td>\n",
       "    </tr>\n",
       "    <tr>\n",
       "      <th>3</th>\n",
       "      <td>apc.fee.1.50.4h</td>\n",
       "      <td>4.230000e+13</td>\n",
       "      <td>middle.beta</td>\n",
       "      <td>APC.FEE.1.50.UNIT.4H</td>\n",
       "      <td>4.230000e+13</td>\n",
       "      <td>11_MIDDLE_BETA</td>\n",
       "      <td>BETA</td>\n",
       "      <td>WC</td>\n",
       "      <td>31.69541</td>\n",
       "      <td>-103.48738</td>\n",
       "      <td>...</td>\n",
       "      <td>1946.100230</td>\n",
       "      <td>1848.067506</td>\n",
       "      <td>1902.519904</td>\n",
       "      <td>2135.705326</td>\n",
       "      <td>2239.518041</td>\n",
       "      <td>1170.4583</td>\n",
       "      <td>9/17/2013</td>\n",
       "      <td>11/20/2013</td>\n",
       "      <td>4.000000</td>\n",
       "      <td>General</td>\n",
       "    </tr>\n",
       "    <tr>\n",
       "      <th>4</th>\n",
       "      <td>ashlock.1.34.2h</td>\n",
       "      <td>4.230000e+13</td>\n",
       "      <td>middle.beta</td>\n",
       "      <td>ASHLOCK.1.34.UNIT.2H</td>\n",
       "      <td>4.230000e+13</td>\n",
       "      <td>11_MIDDLE_BETA</td>\n",
       "      <td>BETA</td>\n",
       "      <td>WC</td>\n",
       "      <td>31.66006</td>\n",
       "      <td>-103.44635</td>\n",
       "      <td>...</td>\n",
       "      <td>1430.344027</td>\n",
       "      <td>1259.982839</td>\n",
       "      <td>1514.462011</td>\n",
       "      <td>1624.986671</td>\n",
       "      <td>2123.046125</td>\n",
       "      <td>1102.5833</td>\n",
       "      <td>12/5/2013</td>\n",
       "      <td>2/28/2014</td>\n",
       "      <td>5.166667</td>\n",
       "      <td>General</td>\n",
       "    </tr>\n",
       "  </tbody>\n",
       "</table>\n",
       "<p>5 rows × 64 columns</p>\n",
       "</div>"
      ],
      "text/plain": [
       "              Well       WellAPI    Formation             Well.Name  \\\n",
       "0  apc.fee.1.40.3h  4.230000e+13     w1.alpha       APC.FEE.1.40.3H   \n",
       "1  apc.fee.1.40.4h  4.230000e+13     w1.alpha       APC.FEE.1.40.4H   \n",
       "2  apc.fee.1.50.3h  4.230000e+13          NaN  APC.FEE.1.50.UNIT.3H   \n",
       "3  apc.fee.1.50.4h  4.230000e+13  middle.beta  APC.FEE.1.50.UNIT.4H   \n",
       "4  ashlock.1.34.2h  4.230000e+13  middle.beta  ASHLOCK.1.34.UNIT.2H   \n",
       "\n",
       "         API_14          Target Interval Formation of DelawareWCv3.7  \\\n",
       "0  4.230000e+13     07_W1_ALPHA    ALPHA                          WC   \n",
       "1  4.230000e+13     07_W1_ALPHA    ALPHA                          WC   \n",
       "2  4.230000e+13  11_MIDDLE_BETA     BETA                          WC   \n",
       "3  4.230000e+13  11_MIDDLE_BETA     BETA                          WC   \n",
       "4  4.230000e+13  11_MIDDLE_BETA     BETA                          WC   \n",
       "\n",
       "     SH_Lat    SH_Long    ...           GOR6m        GOR9m       GOR12m  \\\n",
       "0  31.67057 -103.45410    ...     1623.150769  1804.556411  1751.816575   \n",
       "1  31.66693 -103.44928    ...     1640.544511  2181.544977  2080.118570   \n",
       "2  31.69715 -103.48970    ...     1799.518009  1874.369857  2058.967388   \n",
       "3  31.69541 -103.48738    ...     1946.100230  1848.067506  1902.519904   \n",
       "4  31.66006 -103.44635    ...     1430.344027  1259.982839  1514.462011   \n",
       "\n",
       "        GOR18m       GOR24m  Time_on_days  Spud_Date   Frac_Date  \\\n",
       "0  1575.358890  1400.889774     1649.1667  5/13/2012    8/9/2012   \n",
       "1  1706.740609  1571.141088     1518.4167  6/22/2012   8/10/2012   \n",
       "2  2151.879037  2047.358064      990.6250  9/12/2013    5/9/2014   \n",
       "3  2135.705326  2239.518041     1170.4583  9/17/2013  11/20/2013   \n",
       "4  1624.986671  2123.046125     1102.5833  12/5/2013   2/28/2014   \n",
       "\n",
       "   First_Prod_Timing  Category  \n",
       "0           4.166667   General  \n",
       "1           2.866667   General  \n",
       "2           9.400000   General  \n",
       "3           4.000000   General  \n",
       "4           5.166667   General  \n",
       "\n",
       "[5 rows x 64 columns]"
      ]
     },
     "execution_count": 63,
     "metadata": {},
     "output_type": "execute_result"
    }
   ],
   "source": [
    "WellSurvey.head()\n",
    "WellData.head()"
   ]
  },
  {
   "cell_type": "code",
   "execution_count": 64,
   "metadata": {},
   "outputs": [],
   "source": [
    "Wells = list(WellData['Well'])"
   ]
  },
  {
   "cell_type": "code",
   "execution_count": 75,
   "metadata": {},
   "outputs": [],
   "source": [
    "WellData['FormationColor'] = WellData.Formation"
   ]
  },
  {
   "cell_type": "code",
   "execution_count": 76,
   "metadata": {},
   "outputs": [],
   "source": [
    "WellData.FormationColor.replace({'w1.alpha': 'red',\n",
    "                                'w2.alpha': 'pink',\n",
    "                                'shale.alpha':'orange',\n",
    "                                'upper.beta': 'blue',\n",
    "                                'middle.beta': 'green',\n",
    "                                'lower.beta': 'purple',\n",
    "                                'upper.delta':'black'}, inplace=True)"
   ]
  },
  {
   "cell_type": "code",
   "execution_count": 77,
   "metadata": {},
   "outputs": [],
   "source": [
    "WellData['Marker'] = WellData.Formation"
   ]
  },
  {
   "cell_type": "code",
   "execution_count": 78,
   "metadata": {},
   "outputs": [],
   "source": [
    "WellData.Marker.replace({'w1.alpha': 'o',\n",
    "                        'w2.alpha': 'o',\n",
    "                        'shale.alpha':'o',\n",
    "                        'upper.beta': 'd',\n",
    "                        'middle.beta': 'd',\n",
    "                        'lower.beta': 'd',\n",
    "                        'upper.delta':'s'}, inplace=True)"
   ]
  },
  {
   "cell_type": "code",
   "execution_count": 69,
   "metadata": {},
   "outputs": [
    {
     "name": "stderr",
     "output_type": "stream",
     "text": [
      "/home/jovyan/my-conda-envs/qiime2-2019.1/lib/python3.6/site-packages/ipykernel/__main__.py:2: UserWarning: Pandas doesn't allow columns to be created via a new attribute name - see https://pandas.pydata.org/pandas-docs/stable/indexing.html#attribute-access\n",
      "  from ipykernel import kernelapp as app\n"
     ]
    }
   ],
   "source": [
    "WellData.PResColor = bpl.get_color_map(sample_md=WellData.P_Res, \n",
    "                                         continuous=True, colormap='Reds').copy()"
   ]
  },
  {
   "cell_type": "code",
   "execution_count": null,
   "metadata": {},
   "outputs": [],
   "source": []
  },
  {
   "cell_type": "code",
   "execution_count": 70,
   "metadata": {},
   "outputs": [
    {
     "ename": "IndexError",
     "evalue": "tuple index out of range",
     "output_type": "error",
     "traceback": [
      "\u001b[0;31m---------------------------------------------------------------------------\u001b[0m",
      "\u001b[0;31mIndexError\u001b[0m                                Traceback (most recent call last)",
      "\u001b[0;32m<ipython-input-70-fbd48cf8ab01>\u001b[0m in \u001b[0;36m<module>\u001b[0;34m\u001b[0m\n\u001b[1;32m      3\u001b[0m for xp, yp, c, m in zip(WellData.SH_Long, WellData.SH_Lat, WellData.P_Res, \n\u001b[1;32m      4\u001b[0m                         WellData.Marker):\n\u001b[0;32m----> 5\u001b[0;31m     \u001b[0max\u001b[0m\u001b[0;34m.\u001b[0m\u001b[0mscatter\u001b[0m\u001b[0;34m(\u001b[0m\u001b[0;34m[\u001b[0m\u001b[0mxp\u001b[0m\u001b[0;34m]\u001b[0m\u001b[0;34m,\u001b[0m \u001b[0;34m[\u001b[0m\u001b[0myp\u001b[0m\u001b[0;34m]\u001b[0m\u001b[0;34m,\u001b[0m \u001b[0mc\u001b[0m\u001b[0;34m=\u001b[0m\u001b[0mc\u001b[0m\u001b[0;34m,\u001b[0m \u001b[0mmarker\u001b[0m\u001b[0;34m=\u001b[0m\u001b[0mm\u001b[0m\u001b[0;34m,\u001b[0m \u001b[0ms\u001b[0m\u001b[0;34m=\u001b[0m\u001b[0;36m125\u001b[0m\u001b[0;34m,\u001b[0m \u001b[0malpha\u001b[0m\u001b[0;34m=\u001b[0m\u001b[0;36m0.8\u001b[0m\u001b[0;34m,\u001b[0m \u001b[0medgecolor\u001b[0m\u001b[0;34m=\u001b[0m\u001b[0;34m'k'\u001b[0m\u001b[0;34m)\u001b[0m\u001b[0;34m\u001b[0m\u001b[0;34m\u001b[0m\u001b[0m\n\u001b[0m\u001b[1;32m      6\u001b[0m \u001b[0;34m\u001b[0m\u001b[0m\n\u001b[1;32m      7\u001b[0m \u001b[0max\u001b[0m\u001b[0;34m.\u001b[0m\u001b[0mgrid\u001b[0m\u001b[0;34m(\u001b[0m\u001b[0;34m)\u001b[0m\u001b[0;34m\u001b[0m\u001b[0;34m\u001b[0m\u001b[0m\n",
      "\u001b[0;32m~/my-conda-envs/qiime2-2019.1/lib/python3.6/site-packages/matplotlib/__init__.py\u001b[0m in \u001b[0;36minner\u001b[0;34m(ax, data, *args, **kwargs)\u001b[0m\n\u001b[1;32m   1808\u001b[0m                         \u001b[0;34m\"the Matplotlib list!)\"\u001b[0m \u001b[0;34m%\u001b[0m \u001b[0;34m(\u001b[0m\u001b[0mlabel_namer\u001b[0m\u001b[0;34m,\u001b[0m \u001b[0mfunc\u001b[0m\u001b[0;34m.\u001b[0m\u001b[0m__name__\u001b[0m\u001b[0;34m)\u001b[0m\u001b[0;34m,\u001b[0m\u001b[0;34m\u001b[0m\u001b[0;34m\u001b[0m\u001b[0m\n\u001b[1;32m   1809\u001b[0m                         RuntimeWarning, stacklevel=2)\n\u001b[0;32m-> 1810\u001b[0;31m             \u001b[0;32mreturn\u001b[0m \u001b[0mfunc\u001b[0m\u001b[0;34m(\u001b[0m\u001b[0max\u001b[0m\u001b[0;34m,\u001b[0m \u001b[0;34m*\u001b[0m\u001b[0margs\u001b[0m\u001b[0;34m,\u001b[0m \u001b[0;34m**\u001b[0m\u001b[0mkwargs\u001b[0m\u001b[0;34m)\u001b[0m\u001b[0;34m\u001b[0m\u001b[0;34m\u001b[0m\u001b[0m\n\u001b[0m\u001b[1;32m   1811\u001b[0m \u001b[0;34m\u001b[0m\u001b[0m\n\u001b[1;32m   1812\u001b[0m         inner.__doc__ = _add_data_doc(inner.__doc__,\n",
      "\u001b[0;32m~/my-conda-envs/qiime2-2019.1/lib/python3.6/site-packages/matplotlib/axes/_axes.py\u001b[0m in \u001b[0;36mscatter\u001b[0;34m(self, x, y, s, c, marker, cmap, norm, vmin, vmax, alpha, linewidths, verts, edgecolors, **kwargs)\u001b[0m\n\u001b[1;32m   4209\u001b[0m             \u001b[0;32mtry\u001b[0m\u001b[0;34m:\u001b[0m  \u001b[0;31m# First, does 'c' look suitable for value-mapping?\u001b[0m\u001b[0;34m\u001b[0m\u001b[0;34m\u001b[0m\u001b[0m\n\u001b[1;32m   4210\u001b[0m                 \u001b[0mc_array\u001b[0m \u001b[0;34m=\u001b[0m \u001b[0mnp\u001b[0m\u001b[0;34m.\u001b[0m\u001b[0masanyarray\u001b[0m\u001b[0;34m(\u001b[0m\u001b[0mc\u001b[0m\u001b[0;34m,\u001b[0m \u001b[0mdtype\u001b[0m\u001b[0;34m=\u001b[0m\u001b[0mfloat\u001b[0m\u001b[0;34m)\u001b[0m\u001b[0;34m\u001b[0m\u001b[0;34m\u001b[0m\u001b[0m\n\u001b[0;32m-> 4211\u001b[0;31m                 \u001b[0mn_elem\u001b[0m \u001b[0;34m=\u001b[0m \u001b[0mc_array\u001b[0m\u001b[0;34m.\u001b[0m\u001b[0mshape\u001b[0m\u001b[0;34m[\u001b[0m\u001b[0;36m0\u001b[0m\u001b[0;34m]\u001b[0m\u001b[0;34m\u001b[0m\u001b[0;34m\u001b[0m\u001b[0m\n\u001b[0m\u001b[1;32m   4212\u001b[0m                 \u001b[0;32mif\u001b[0m \u001b[0mc_array\u001b[0m\u001b[0;34m.\u001b[0m\u001b[0mshape\u001b[0m \u001b[0;32min\u001b[0m \u001b[0mxy_shape\u001b[0m\u001b[0;34m:\u001b[0m\u001b[0;34m\u001b[0m\u001b[0;34m\u001b[0m\u001b[0m\n\u001b[1;32m   4213\u001b[0m                     \u001b[0mc\u001b[0m \u001b[0;34m=\u001b[0m \u001b[0mnp\u001b[0m\u001b[0;34m.\u001b[0m\u001b[0mma\u001b[0m\u001b[0;34m.\u001b[0m\u001b[0mravel\u001b[0m\u001b[0;34m(\u001b[0m\u001b[0mc_array\u001b[0m\u001b[0;34m)\u001b[0m\u001b[0;34m\u001b[0m\u001b[0;34m\u001b[0m\u001b[0m\n",
      "\u001b[0;31mIndexError\u001b[0m: tuple index out of range"
     ]
    },
    {
     "data": {
      "image/png": "[encoded data removed]",
      "text/plain": [
       "<Figure size 288x288 with 1 Axes>"
      ]
     },
     "metadata": {
      "needs_background": "light"
     },
     "output_type": "display_data"
    }
   ],
   "source": [
    "fig, ax = plt.subplots(1, figsize=(4, 4))\n",
    "\n",
    "for xp, yp, c, m in zip(WellData.SH_Long, WellData.SH_Lat, WellData.P_Res, \n",
    "                        WellData.Marker):\n",
    "    ax.scatter([xp], [yp], c=c, marker=m, s=125, alpha=0.8, edgecolor='k')\n",
    "\n",
    "ax.grid()\n",
    "plt.tight_layout()\n",
    "ax.set_xlabel('Longitude', size=15)\n",
    "ax.set_ylabel('Latitude', size=15)\n",
    "ax.set_title('Darker Red = Higher Pressure')\n",
    ","
   ]
  },
  {
   "cell_type": "code",
   "execution_count": null,
   "metadata": {},
   "outputs": [],
   "source": [
    "WellData['color'] = WellData.FormationWC\n",
    "WellData['marker'] = 'o'\n",
    "WellData.color.replace('WC':'blue', inplace=True)"
   ]
  },
  {
   "cell_type": "code",
   "execution_count": 79,
   "metadata": {},
   "outputs": [
    {
     "ename": "AttributeError",
     "evalue": "'Series' object has no attribute 'color'",
     "output_type": "error",
     "traceback": [
      "\u001b[0;31m---------------------------------------------------------------------------\u001b[0m",
      "\u001b[0;31mAttributeError\u001b[0m                            Traceback (most recent call last)",
      "\u001b[0;32m<ipython-input-79-c7c3857fd3cf>\u001b[0m in \u001b[0;36m<module>\u001b[0;34m\u001b[0m\n\u001b[1;32m     23\u001b[0m \u001b[0;32mfor\u001b[0m \u001b[0mi\u001b[0m\u001b[0;34m,\u001b[0m \u001b[0mr\u001b[0m \u001b[0;32min\u001b[0m \u001b[0mWells\u001b[0m\u001b[0;34m.\u001b[0m\u001b[0miterrows\u001b[0m\u001b[0;34m(\u001b[0m\u001b[0;34m)\u001b[0m\u001b[0;34m:\u001b[0m\u001b[0;34m\u001b[0m\u001b[0;34m\u001b[0m\u001b[0m\n\u001b[1;32m     24\u001b[0m     \u001b[0mx\u001b[0m\u001b[0;34m,\u001b[0m \u001b[0my\u001b[0m \u001b[0;34m=\u001b[0m \u001b[0mmap\u001b[0m\u001b[0;34m(\u001b[0m\u001b[0mr\u001b[0m\u001b[0;34m.\u001b[0m\u001b[0mSH_Long\u001b[0m\u001b[0;34m,\u001b[0m \u001b[0mr\u001b[0m\u001b[0;34m.\u001b[0m\u001b[0mSH_Lat\u001b[0m\u001b[0;34m)\u001b[0m\u001b[0;34m\u001b[0m\u001b[0;34m\u001b[0m\u001b[0m\n\u001b[0;32m---> 25\u001b[0;31m     \u001b[0mmap\u001b[0m\u001b[0;34m.\u001b[0m\u001b[0mplot\u001b[0m\u001b[0;34m(\u001b[0m\u001b[0mx\u001b[0m\u001b[0;34m,\u001b[0m \u001b[0my\u001b[0m\u001b[0;34m,\u001b[0m \u001b[0mmarker\u001b[0m\u001b[0;34m=\u001b[0m\u001b[0mr\u001b[0m\u001b[0;34m.\u001b[0m\u001b[0mMarker\u001b[0m\u001b[0;34m,\u001b[0m \u001b[0mc\u001b[0m\u001b[0;34m=\u001b[0m\u001b[0mr\u001b[0m\u001b[0;34m.\u001b[0m\u001b[0mcolor\u001b[0m\u001b[0;34m,\u001b[0m \u001b[0mms\u001b[0m\u001b[0;34m=\u001b[0m\u001b[0;36m10\u001b[0m\u001b[0;34m,\u001b[0m \u001b[0malpha\u001b[0m\u001b[0;34m=\u001b[0m\u001b[0;36m0.5\u001b[0m\u001b[0;34m)\u001b[0m\u001b[0;34m\u001b[0m\u001b[0;34m\u001b[0m\u001b[0m\n\u001b[0m\u001b[1;32m     26\u001b[0m    \u001b[0;31m# if i in ['silvertip.76.7.unit.a.8h']:\u001b[0m\u001b[0;34m\u001b[0m\u001b[0;34m\u001b[0m\u001b[0;34m\u001b[0m\u001b[0m\n\u001b[1;32m     27\u001b[0m     \u001b[0;31m#    ax.annotate(i, (x+500, y+500))\u001b[0m\u001b[0;34m\u001b[0m\u001b[0;34m\u001b[0m\u001b[0;34m\u001b[0m\u001b[0m\n",
      "\u001b[0;32m~/my-conda-envs/qiime2-2019.1/lib/python3.6/site-packages/pandas/core/generic.py\u001b[0m in \u001b[0;36m__getattr__\u001b[0;34m(self, name)\u001b[0m\n\u001b[1;32m   4374\u001b[0m             \u001b[0;32mif\u001b[0m \u001b[0mself\u001b[0m\u001b[0;34m.\u001b[0m\u001b[0m_info_axis\u001b[0m\u001b[0;34m.\u001b[0m\u001b[0m_can_hold_identifiers_and_holds_name\u001b[0m\u001b[0;34m(\u001b[0m\u001b[0mname\u001b[0m\u001b[0;34m)\u001b[0m\u001b[0;34m:\u001b[0m\u001b[0;34m\u001b[0m\u001b[0;34m\u001b[0m\u001b[0m\n\u001b[1;32m   4375\u001b[0m                 \u001b[0;32mreturn\u001b[0m \u001b[0mself\u001b[0m\u001b[0;34m[\u001b[0m\u001b[0mname\u001b[0m\u001b[0;34m]\u001b[0m\u001b[0;34m\u001b[0m\u001b[0;34m\u001b[0m\u001b[0m\n\u001b[0;32m-> 4376\u001b[0;31m             \u001b[0;32mreturn\u001b[0m \u001b[0mobject\u001b[0m\u001b[0;34m.\u001b[0m\u001b[0m__getattribute__\u001b[0m\u001b[0;34m(\u001b[0m\u001b[0mself\u001b[0m\u001b[0;34m,\u001b[0m \u001b[0mname\u001b[0m\u001b[0;34m)\u001b[0m\u001b[0;34m\u001b[0m\u001b[0;34m\u001b[0m\u001b[0m\n\u001b[0m\u001b[1;32m   4377\u001b[0m \u001b[0;34m\u001b[0m\u001b[0m\n\u001b[1;32m   4378\u001b[0m     \u001b[0;32mdef\u001b[0m \u001b[0m__setattr__\u001b[0m\u001b[0;34m(\u001b[0m\u001b[0mself\u001b[0m\u001b[0;34m,\u001b[0m \u001b[0mname\u001b[0m\u001b[0;34m,\u001b[0m \u001b[0mvalue\u001b[0m\u001b[0;34m)\u001b[0m\u001b[0;34m:\u001b[0m\u001b[0;34m\u001b[0m\u001b[0;34m\u001b[0m\u001b[0m\n",
      "\u001b[0;31mAttributeError\u001b[0m: 'Series' object has no attribute 'color'"
     ]
    },
    {
     "data": {
      "image/png": "[encoded data removed]",
      "text/plain": [
       "<Figure size 720x720 with 1 Axes>"
      ]
     },
     "metadata": {},
     "output_type": "display_data"
    }
   ],
   "source": [
    "fig, ax = plt.subplots(figsize=(10,10))\n",
    "\n",
    "Wells = WellData.groupby('Well.Name').first()\n",
    "#Wells = Wells.loc[Wells.longitude < 0]\n",
    "lat = list(Wells.SH_Lat.astype(float))\n",
    "long = list(Wells.SH_Long.astype(float))\n",
    "\n",
    "buffer = 0.05\n",
    "\n",
    "map = Basemap(llcrnrlon=min(Wells.SH_Long)-buffer, urcrnrlon=max(Wells.SH_Long)+buffer,\n",
    "                  lon_0=0.5*(min(Wells.SH_Long)+max(Wells.SH_Long)),\n",
    "                  llcrnrlat=min(Wells.SH_Lat)-buffer, urcrnrlat=max(Wells.SH_Lat)+buffer,\n",
    "                  lat_0=0.5*(min(Wells.SH_Lat)+max(Wells.SH_Lat)),\n",
    "                  projection='tmerc')\n",
    "# add county boundaries\n",
    "map.readshapefile('/home/jovyan/my-conda-envs/qiime2-2019.1/share/basemap/cb_2017_us_county_500k',\n",
    "                  'counties',drawbounds=True,\n",
    "                  linewidth=0.45,color='gray')\n",
    "# add state boundaries\n",
    "map.readshapefile('/home/jovyan/my-conda-envs/qiime2-2019.1/share/basemap/st99_d00','states',\n",
    "                  drawbounds=True,linewidth=1,color='black')\n",
    "\n",
    "for i, r in Wells.iterrows():\n",
    "    x, y = map(r.SH_Long, r.SH_Lat)\n",
    "    map.plot(x, y, marker=r.marker, c=r.color, ms=10, alpha=0.5)\n",
    "   # if i in ['silvertip.76.7.unit.a.8h']:\n",
    "    #    ax.annotate(i, (x+500, y+500))\n",
    "    \n",
    "# map.drawmapscale(min(long)+0.15, min(lat), 0.5*(min(long)+max(long)), 0.5*(min(lat)+max(lat)), \n",
    "#                  length=10, barstyle='simple', units='mi')\n",
    "\n",
    "F0 = Line2D([],[], marker='o', color='w', markerfacecolor='red', label='wellcutting', markersize=10)\n",
    "F1 = Line2D([],[], marker='o', color='w', markerfacecolor='blue', label='produced.fluid', markersize=10)\n",
    "ax.legend(handles=[F0,F1],loc='center left', bbox_to_anchor=(1.05, 0.5))\n",
    "\n",
    "#fig.savefig('../images/APC_cuttings_vs_fluids_map_QCed.png', dpi=300, bbox_inches='tight')"
   ]
  },
  {
   "cell_type": "code",
   "execution_count": 56,
   "metadata": {},
   "outputs": [
    {
     "name": "stdout",
     "output_type": "stream",
     "text": [
      "The filtering function dropped 0 samples and 16460 features\n",
      "The sample method dropped 1 samples with no sequence data.\n"
     ]
    }
   ],
   "source": [
    "query = {'Well': {'$in': Wells}}\n",
    "\n",
    "samples, data, features = get_sample_data(query)"
   ]
  },
  {
   "cell_type": "code",
   "execution_count": 32,
   "metadata": {},
   "outputs": [
    {
     "data": {
      "image/png": "[encoded data removed]",
      "text/plain": [
       "<Figure size 432x288 with 1 Axes>"
      ]
     },
     "metadata": {
      "needs_background": "light"
     },
     "output_type": "display_data"
    }
   ],
   "source": [
    "from mpl_toolkits.mplot3d import Axes3D\n",
    "#fig = plt.figure()\n",
    "#ax = fig.add_subplot(111, projection='3d')"
   ]
  },
  {
   "cell_type": "code",
   "execution_count": 57,
   "metadata": {},
   "outputs": [],
   "source": [
    "#zdata = WellSurvey['MD']\n",
    "#ydata = WellSurvey['Inclination']\n",
    "#xdata = WellSurvey['Azimuth']\n",
    "#ax = plt.axes(projection='3d')\n",
    "#ax.scatter3D(xdata, ydata, zdata, cmap='Greens');"
   ]
  },
  {
   "cell_type": "code",
   "execution_count": null,
   "metadata": {},
   "outputs": [],
   "source": [
    "ThresData = WellData"
   ]
  }
 ],
 "metadata": {
  "kernelspec": {
   "display_name": "Python [conda env:qiime2-2019.1]",
   "language": "python",
   "name": "conda-env-qiime2-2019.1-py"
  },
  "language_info": {
   "codemirror_mode": {
    "name": "ipython",
    "version": 3
   },
   "file_extension": ".py",
   "mimetype": "text/x-python",
   "name": "python",
   "nbconvert_exporter": "python",
   "pygments_lexer": "ipython3",
   "version": "3.6.7"
  }
 },
 "nbformat": 4,
 "nbformat_minor": 2
}
