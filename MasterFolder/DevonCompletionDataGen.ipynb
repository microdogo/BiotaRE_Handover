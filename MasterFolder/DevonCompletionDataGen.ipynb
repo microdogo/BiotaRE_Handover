{
 "cells": [
  {
   "cell_type": "code",
   "execution_count": null,
   "metadata": {},
   "outputs": [],
   "source": []
  },
  {
   "cell_type": "code",
   "execution_count": 3,
   "metadata": {},
   "outputs": [],
   "source": [
    "# Declaring path variables to make Basemap work in jupyter hub. Make sure that the conda environment path matches yours\n",
    "import os\n",
    "os.environ['PATH'] = '/home/jovyan/my-conda-envs/qiime2-2019.1/bin:' + os.environ['PATH']\n",
    "os.environ['PROJ_LIB'] = '/home/jovyan/my-conda-envs/qiime2-2019.1/share/proj'\n",
    "\n",
    " #General Tool Imports\n",
    "import numpy as np\n",
    "import pandas as pd\n",
    "import matplotlib.pyplot as plt\n",
    "from matplotlib.lines import Line2D\n",
    "from mpl_toolkits.basemap import Basemap\n",
    "import biota\n",
    "import biota.plot as bpl\n",
    "import collections\n",
    "import matplotlib.patches as patches\n",
    "from matplotlib.patches import Rectangle\n",
    "import math\n",
    "import pickle \n",
    "\n",
    "import lasio\n",
    "\n",
    "\n",
    "\n",
    "%matplotlib inline"
   ]
  },
  {
   "cell_type": "code",
   "execution_count": 8,
   "metadata": {},
   "outputs": [],
   "source": [
    "fmdict = {'MOSASAURUS 4-16N-9W 11H':'MRMC 400',\n",
    "'MOSASAURUS 4-16N-9W 12H':'MRMC 200',\n",
    "'MOSASAURUS 4-16N-9W 13H':'MRMC 300',\n",
    "'MOSASAURUS 4-16N-9W 14H':'MRMC 200',\n",
    "'MOSASAURUS 4-16N-9W 1H':'MRMC 300',\n",
    "'MOSASAURUS 4-16N-9W 2H':'MRMC 400',\n",
    "'MOSASAURUS 4-16N-9W 3H':'MRMC 200',\n",
    "'MOSASAURUS 4-16N-9W 4H':'MRMC 200',\n",
    "'MOSASAURUS 4-16N-9W 5H':'MRMC 400',\n",
    "'MOSASAURUS 4-16N-9W 6H':'WFD',\n",
    "'MOSASAURUS 4-16N-9W 7H':'MRMC 200',\n",
    "'MOSASAURUS 4-16N-9W 8H':'MRMC 300',\n",
    "'MOSASAURUS 4-16N-9W 9H':'MRMC 200',\n",
    "'SHOWBOAT 10_3-16N-9W 10HX':'MRMC 300',\n",
    "'SHOWBOAT 10_3-16N-9W 11HX':'MRMC 200',\n",
    "'SHOWBOAT 10_3-16N-9W 12HX':'MRMC 400',\n",
    "'SHOWBOAT 10_3-16N-9W 2HX':'MRMC 300',\n",
    "'SHOWBOAT 10_3-16N-9W 3HX':'MRMC 400',\n",
    "'SHOWBOAT 10_3-16N-9W 5HX':'MRMC 200',\n",
    "'SHOWBOAT 10_3-16N-9W 6HX':'MRMC 300',\n",
    "'SHOWBOAT 10_3-16N-9W 7HX':'MRMC 200',\n",
    "'SHOWBOAT 10_3-16N-9W 8HX':'MRMC 400',\n",
    "'SHOWBOAT 10_3-16N-9W 9HX':'MRMC 200'}"
   ]
  },
  {
   "cell_type": "code",
   "execution_count": 15,
   "metadata": {},
   "outputs": [],
   "source": [
    "Paddict = {'MOSASAURUS 4-16N-9W 11H':'MOSASAURUS',\n",
    "'MOSASAURUS 4-16N-9W 12H':'MOSASAURUS',\n",
    "'MOSASAURUS 4-16N-9W 13H':'MOSASAURUS',\n",
    "'MOSASAURUS 4-16N-9W 14H':'MOSASAURUS',\n",
    "'MOSASAURUS 4-16N-9W 1H':'MOSASAURUS',\n",
    "'MOSASAURUS 4-16N-9W 2H':'MOSASAURUS',\n",
    "'MOSASAURUS 4-16N-9W 3H':'MOSASAURUS',\n",
    "'MOSASAURUS 4-16N-9W 4H':'MOSASAURUS',\n",
    "'MOSASAURUS 4-16N-9W 5H':'MOSASAURUS',\n",
    "'MOSASAURUS 4-16N-9W 6H':'MOSASAURUS',\n",
    "'MOSASAURUS 4-16N-9W 7H':'MOSASAURUS',\n",
    "'MOSASAURUS 4-16N-9W 8H':'MOSASAURUS',\n",
    "'MOSASAURUS 4-16N-9W 9H':'MOSASAURUS',\n",
    "'SHOWBOAT 10_3-16N-9W 10HX':'SHOWBOAT',\n",
    "'SHOWBOAT 10_3-16N-9W 11HX':'SHOWBOAT',\n",
    "'SHOWBOAT 10_3-16N-9W 12HX':'SHOWBOAT',\n",
    "'SHOWBOAT 10_3-16N-9W 2HX':'SHOWBOAT',\n",
    "'SHOWBOAT 10_3-16N-9W 3HX':'SHOWBOAT',\n",
    "'SHOWBOAT 10_3-16N-9W 5HX':'SHOWBOAT',\n",
    "'SHOWBOAT 10_3-16N-9W 6HX':'SHOWBOAT',\n",
    "'SHOWBOAT 10_3-16N-9W 7HX':'SHOWBOAT',\n",
    "'SHOWBOAT 10_3-16N-9W 8HX':'SHOWBOAT',\n",
    "'SHOWBOAT 10_3-16N-9W 9HX':'SHOWBOAT'}"
   ]
  },
  {
   "cell_type": "code",
   "execution_count": 5,
   "metadata": {},
   "outputs": [],
   "source": [
    "DF = pd.read_excel('PI Data for ShoMo.xlsx')"
   ]
  },
  {
   "cell_type": "code",
   "execution_count": 11,
   "metadata": {},
   "outputs": [],
   "source": [
    "DF['Formation'] = DF['WELL NAME'].map(fmdict)"
   ]
  },
  {
   "cell_type": "code",
   "execution_count": 16,
   "metadata": {},
   "outputs": [],
   "source": [
    "DF['Pad'] = DF['WELL NAME'].map(Paddict)"
   ]
  },
  {
   "cell_type": "code",
   "execution_count": null,
   "metadata": {},
   "outputs": [],
   "source": [
    "##for i,well in enumerate(Chapdfs):\n",
    "  #  DF[well]['Formation'] = Chapdfs[well]['Well'].map(fmdict)"
   ]
  },
  {
   "cell_type": "code",
   "execution_count": 13,
   "metadata": {},
   "outputs": [],
   "source": [
    "#DF.head()"
   ]
  },
  {
   "cell_type": "code",
   "execution_count": 17,
   "metadata": {},
   "outputs": [],
   "source": [
    "DF.to_csv('../PI Data.csv')"
   ]
  },
  {
   "cell_type": "code",
   "execution_count": null,
   "metadata": {},
   "outputs": [],
   "source": []
  }
 ],
 "metadata": {
  "kernelspec": {
   "display_name": "Python [conda env:qiime2-2019.1]",
   "language": "python",
   "name": "conda-env-qiime2-2019.1-py"
  },
  "language_info": {
   "codemirror_mode": {
    "name": "ipython",
    "version": 3
   },
   "file_extension": ".py",
   "mimetype": "text/x-python",
   "name": "python",
   "nbconvert_exporter": "python",
   "pygments_lexer": "ipython3",
   "version": "3.6.7"
  }
 },
 "nbformat": 4,
 "nbformat_minor": 2
}
