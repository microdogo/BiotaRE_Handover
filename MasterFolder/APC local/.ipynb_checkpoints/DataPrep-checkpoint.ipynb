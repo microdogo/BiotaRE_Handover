{
 "cells": [
  {
   "cell_type": "code",
   "execution_count": 1,
   "metadata": {},
   "outputs": [],
   "source": [
    "# Declaring path variables to make Basemap work in jupyter hub. Make sure that the conda environment path matches yours\n",
    "import os\n",
    "os.environ['PATH'] = '/home/jovyan/my-conda-envs/qiime2-2019.1/bin:' + os.environ['PATH']\n",
    "os.environ['PROJ_LIB'] = '/home/jovyan/my-conda-envs/qiime2-2019.1/share/proj'"
   ]
  },
  {
   "cell_type": "code",
   "execution_count": 2,
   "metadata": {},
   "outputs": [],
   "source": [
    "# General Tool Imports\n",
    "import numpy as np\n",
    "import pandas as pd\n",
    "import matplotlib.pyplot as plt\n",
    "from matplotlib.lines import Line2D\n",
    "from mpl_toolkits.basemap import Basemap\n",
    "import biota\n",
    "import biota.plot as bpl\n",
    "import seaborn as sns\n",
    "import collections\n",
    "import matplotlib.patches as patches\n",
    "from matplotlib.patches import Rectangle\n",
    "import math\n",
    "\n",
    "from biota.database import (get_samples,\n",
    "                            get_sample_data,\n",
    "                            get_pg_connection,\n",
    "                            get_data)\n",
    "from biota.util import (rarefy,\n",
    "                        make_tree,\n",
    "                        get_dms,\n",
    "                        filter_dm_and_map,\n",
    "                        get_tax_table)\n",
    "from IPython.core.display import display, HTML\n",
    "from pickle import dump, load\n",
    "\n",
    "import lasio\n",
    "\n",
    "# SQL Query imports\n",
    "from sqlalchemy import create_engine, engine, inspect\n",
    "\n",
    "from functools import partial\n",
    "\n",
    "from ipyparallel import Client\n",
    "from sourcetracker import gibbs\n",
    "\n",
    "# Clustering imports\n",
    "from scipy.spatial.distance import pdist\n",
    "from scipy.cluster import hierarchy\n",
    "from skbio.stats.ordination import pcoa\n",
    "\n",
    "from biota.util import assign_formations\n",
    "\n",
    "\n",
    "%matplotlib inline"
   ]
  },
  {
   "cell_type": "code",
   "execution_count": null,
   "metadata": {},
   "outputs": [],
   "source": []
  },
  {
   "cell_type": "code",
   "execution_count": null,
   "metadata": {},
   "outputs": [],
   "source": [
    "file_names = ['Silvertip A 1H.csv','Silvertip A 2H.csv','Silvertip A 3H.csv','Silvertip A 4H.csv','Silvertip A 5H.csv','Silvertip A 6H.csv','Silvertip A 7H.csv','Silvertip A 8H.csv',\\\n",
    "              'Silvertip A 9H.csv','Silvertip A 10H.csv','Silvertip B 2H.csv','Silvertip B 3H.csv']"
   ]
  },
  {
   "cell_type": "code",
   "execution_count": null,
   "metadata": {},
   "outputs": [],
   "source": [
    "file_names"
   ]
  },
  {
   "cell_type": "code",
   "execution_count": null,
   "metadata": {},
   "outputs": [],
   "source": [
    "for file in file_names:\n",
    "    file = pd.read_csv(file_name)"
   ]
  },
  {
   "cell_type": "code",
   "execution_count": 3,
   "metadata": {},
   "outputs": [],
   "source": [
    "H1_df = pd.read_csv('Silvertip A 1H.csv')"
   ]
  },
  {
   "cell_type": "code",
   "execution_count": 4,
   "metadata": {},
   "outputs": [],
   "source": [
    "#Transpose Data\n",
    "H1_df = H1_df.T\n",
    "\n",
    "# Set col headers as row 1 values\n",
    "H1_df.columns = H1_df.iloc[0]\n",
    "\n",
    "#Rearrange Stages in DF\n",
    "H1_df.insert(0, 'Stages', value = H1_df.index)\n",
    "\n",
    "#Reset Index so Stage is a col\n",
    "H1_df = H1_df.set_index('Well Name').copy()"
   ]
  },
  {
   "cell_type": "code",
   "execution_count": 13,
   "metadata": {},
   "outputs": [
    {
     "data": {
      "text/html": [
       "<div>\n",
       "<style scoped>\n",
       "    .dataframe tbody tr th:only-of-type {\n",
       "        vertical-align: middle;\n",
       "    }\n",
       "\n",
       "    .dataframe tbody tr th {\n",
       "        vertical-align: top;\n",
       "    }\n",
       "\n",
       "    .dataframe thead th {\n",
       "        text-align: right;\n",
       "    }\n",
       "</style>\n",
       "<table border=\"1\" class=\"dataframe\">\n",
       "  <thead>\n",
       "    <tr style=\"text-align: right;\">\n",
       "      <th>Stage</th>\n",
       "      <th>Stages</th>\n",
       "      <th>Top Perf</th>\n",
       "      <th>Bottom Perf</th>\n",
       "      <th>Num Perfs</th>\n",
       "      <th>Plug Depth</th>\n",
       "      <th>TVD</th>\n",
       "      <th>Capacity Top Perf</th>\n",
       "      <th>Capacity Bottom Perf</th>\n",
       "      <th>Capacity Plug</th>\n",
       "      <th>Date</th>\n",
       "      <th>...</th>\n",
       "      <th>Total Proppant</th>\n",
       "      <th>100 Mesh</th>\n",
       "      <th>Delivered Total Prop</th>\n",
       "      <th>Plexslick 957, gal</th>\n",
       "      <th>Chemplex 4-N-1, gal</th>\n",
       "      <th>Payzone 845, gal</th>\n",
       "      <th>Payzone 850, gal</th>\n",
       "      <th>Payzone 217, gal</th>\n",
       "      <th>Stim741 Gel, gal</th>\n",
       "      <th>15% HCl Acid, gal</th>\n",
       "    </tr>\n",
       "    <tr>\n",
       "      <th>Well Name</th>\n",
       "      <th></th>\n",
       "      <th></th>\n",
       "      <th></th>\n",
       "      <th></th>\n",
       "      <th></th>\n",
       "      <th></th>\n",
       "      <th></th>\n",
       "      <th></th>\n",
       "      <th></th>\n",
       "      <th></th>\n",
       "      <th></th>\n",
       "      <th></th>\n",
       "      <th></th>\n",
       "      <th></th>\n",
       "      <th></th>\n",
       "      <th></th>\n",
       "      <th></th>\n",
       "      <th></th>\n",
       "      <th></th>\n",
       "      <th></th>\n",
       "      <th></th>\n",
       "    </tr>\n",
       "  </thead>\n",
       "  <tbody>\n",
       "    <tr>\n",
       "      <th>Silvertip A 1H</th>\n",
       "      <td>1</td>\n",
       "      <td>23,230</td>\n",
       "      <td>23,392</td>\n",
       "      <td>24</td>\n",
       "      <td>23,411</td>\n",
       "      <td>12,540</td>\n",
       "      <td>423.5</td>\n",
       "      <td>425.9</td>\n",
       "      <td>426.2</td>\n",
       "      <td>5/3/18</td>\n",
       "      <td>...</td>\n",
       "      <td>443,960</td>\n",
       "      <td>443,960</td>\n",
       "      <td>443,960</td>\n",
       "      <td>511</td>\n",
       "      <td>7</td>\n",
       "      <td>99</td>\n",
       "      <td>38</td>\n",
       "      <td>99</td>\n",
       "      <td>30</td>\n",
       "      <td>1,237</td>\n",
       "    </tr>\n",
       "    <tr>\n",
       "      <th>Silvertip A 1H</th>\n",
       "      <td>2</td>\n",
       "      <td>23,029</td>\n",
       "      <td>23,191</td>\n",
       "      <td>24</td>\n",
       "      <td>23,210</td>\n",
       "      <td>12,534</td>\n",
       "      <td>420.5</td>\n",
       "      <td>422.9</td>\n",
       "      <td>423.2</td>\n",
       "      <td>5/4/18</td>\n",
       "      <td>...</td>\n",
       "      <td>248,520</td>\n",
       "      <td>248,520</td>\n",
       "      <td>248,520</td>\n",
       "      <td>366</td>\n",
       "      <td>8</td>\n",
       "      <td>67</td>\n",
       "      <td>28</td>\n",
       "      <td>67</td>\n",
       "      <td>20</td>\n",
       "      <td>1,264</td>\n",
       "    </tr>\n",
       "    <tr>\n",
       "      <th>Silvertip A 1H</th>\n",
       "      <td>3</td>\n",
       "      <td>22,829</td>\n",
       "      <td>22,990</td>\n",
       "      <td>24</td>\n",
       "      <td>23,009</td>\n",
       "      <td>12,531</td>\n",
       "      <td>417.5</td>\n",
       "      <td>419.9</td>\n",
       "      <td>420.2</td>\n",
       "      <td>5/4/18</td>\n",
       "      <td>...</td>\n",
       "      <td>502,480</td>\n",
       "      <td>502,480</td>\n",
       "      <td>502,480</td>\n",
       "      <td>570</td>\n",
       "      <td>7</td>\n",
       "      <td>111</td>\n",
       "      <td>42</td>\n",
       "      <td>111</td>\n",
       "      <td>20</td>\n",
       "      <td>1,111</td>\n",
       "    </tr>\n",
       "    <tr>\n",
       "      <th>Silvertip A 1H</th>\n",
       "      <td>4</td>\n",
       "      <td>22,628</td>\n",
       "      <td>22,790</td>\n",
       "      <td>24</td>\n",
       "      <td>22,809</td>\n",
       "      <td>12,523</td>\n",
       "      <td>414.5</td>\n",
       "      <td>416.9</td>\n",
       "      <td>417.2</td>\n",
       "      <td>5/5/18</td>\n",
       "      <td>...</td>\n",
       "      <td>504,680</td>\n",
       "      <td>504,680</td>\n",
       "      <td>504,680</td>\n",
       "      <td>596</td>\n",
       "      <td>8</td>\n",
       "      <td>118</td>\n",
       "      <td>46</td>\n",
       "      <td>118</td>\n",
       "      <td>20</td>\n",
       "      <td>1,251</td>\n",
       "    </tr>\n",
       "    <tr>\n",
       "      <th>Silvertip A 1H</th>\n",
       "      <td>5</td>\n",
       "      <td>22,427</td>\n",
       "      <td>22,589</td>\n",
       "      <td>32</td>\n",
       "      <td>22,608</td>\n",
       "      <td>12,509</td>\n",
       "      <td>411.5</td>\n",
       "      <td>413.9</td>\n",
       "      <td>414.2</td>\n",
       "      <td>5/5/18</td>\n",
       "      <td>...</td>\n",
       "      <td>496,340</td>\n",
       "      <td>496,340</td>\n",
       "      <td>496,340</td>\n",
       "      <td>503</td>\n",
       "      <td>7</td>\n",
       "      <td>102</td>\n",
       "      <td>38</td>\n",
       "      <td>102</td>\n",
       "      <td>20</td>\n",
       "      <td>1,206</td>\n",
       "    </tr>\n",
       "  </tbody>\n",
       "</table>\n",
       "<p>5 rows × 39 columns</p>\n",
       "</div>"
      ],
      "text/plain": [
       "Stage          Stages Top Perf Bottom Perf Num Perfs Plug Depth     TVD  \\\n",
       "Well Name                                                                 \n",
       "Silvertip A 1H      1   23,230      23,392        24     23,411  12,540   \n",
       "Silvertip A 1H      2   23,029      23,191        24     23,210  12,534   \n",
       "Silvertip A 1H      3   22,829      22,990        24     23,009  12,531   \n",
       "Silvertip A 1H      4   22,628      22,790        24     22,809  12,523   \n",
       "Silvertip A 1H      5   22,427      22,589        32     22,608  12,509   \n",
       "\n",
       "Stage          Capacity Top Perf Capacity Bottom Perf Capacity Plug    Date  \\\n",
       "Well Name                                                                     \n",
       "Silvertip A 1H             423.5                425.9         426.2  5/3/18   \n",
       "Silvertip A 1H             420.5                422.9         423.2  5/4/18   \n",
       "Silvertip A 1H             417.5                419.9         420.2  5/4/18   \n",
       "Silvertip A 1H             414.5                416.9         417.2  5/5/18   \n",
       "Silvertip A 1H             411.5                413.9         414.2  5/5/18   \n",
       "\n",
       "Stage                 ...        Total Proppant 100 Mesh Delivered Total Prop  \\\n",
       "Well Name             ...                                                       \n",
       "Silvertip A 1H        ...               443,960  443,960              443,960   \n",
       "Silvertip A 1H        ...               248,520  248,520              248,520   \n",
       "Silvertip A 1H        ...               502,480  502,480              502,480   \n",
       "Silvertip A 1H        ...               504,680  504,680              504,680   \n",
       "Silvertip A 1H        ...               496,340  496,340              496,340   \n",
       "\n",
       "Stage          Plexslick 957, gal Chemplex 4-N-1, gal Payzone 845, gal  \\\n",
       "Well Name                                                                \n",
       "Silvertip A 1H                511                   7               99   \n",
       "Silvertip A 1H                366                   8               67   \n",
       "Silvertip A 1H                570                   7              111   \n",
       "Silvertip A 1H                596                   8              118   \n",
       "Silvertip A 1H                503                   7              102   \n",
       "\n",
       "Stage          Payzone 850, gal Payzone 217, gal Stim741 Gel, gal  \\\n",
       "Well Name                                                           \n",
       "Silvertip A 1H               38               99               30   \n",
       "Silvertip A 1H               28               67               20   \n",
       "Silvertip A 1H               42              111               20   \n",
       "Silvertip A 1H               46              118               20   \n",
       "Silvertip A 1H               38              102               20   \n",
       "\n",
       "Stage          15% HCl Acid, gal  \n",
       "Well Name                         \n",
       "Silvertip A 1H             1,237  \n",
       "Silvertip A 1H             1,264  \n",
       "Silvertip A 1H             1,111  \n",
       "Silvertip A 1H             1,251  \n",
       "Silvertip A 1H             1,206  \n",
       "\n",
       "[5 rows x 39 columns]"
      ]
     },
     "execution_count": 13,
     "metadata": {},
     "output_type": "execute_result"
    }
   ],
   "source": [
    "H1_df.head()"
   ]
  },
  {
   "cell_type": "code",
   "execution_count": 10,
   "metadata": {},
   "outputs": [],
   "source": []
  },
  {
   "cell_type": "code",
   "execution_count": null,
   "metadata": {},
   "outputs": [],
   "source": [
    "#drop 1st row\n",
    "H1_df = H1_df.drop(H1_df.index[0]).copy()"
   ]
  },
  {
   "cell_type": "code",
   "execution_count": 12,
   "metadata": {},
   "outputs": [],
   "source": []
  },
  {
   "cell_type": "code",
   "execution_count": 8,
   "metadata": {},
   "outputs": [
    {
     "data": {
      "text/html": [
       "<div>\n",
       "<style scoped>\n",
       "    .dataframe tbody tr th:only-of-type {\n",
       "        vertical-align: middle;\n",
       "    }\n",
       "\n",
       "    .dataframe tbody tr th {\n",
       "        vertical-align: top;\n",
       "    }\n",
       "\n",
       "    .dataframe thead th {\n",
       "        text-align: right;\n",
       "    }\n",
       "</style>\n",
       "<table border=\"1\" class=\"dataframe\">\n",
       "  <thead>\n",
       "    <tr style=\"text-align: right;\">\n",
       "      <th>Stage</th>\n",
       "      <th>Stages</th>\n",
       "      <th>Top Perf</th>\n",
       "      <th>Bottom Perf</th>\n",
       "      <th>Num Perfs</th>\n",
       "      <th>Plug Depth</th>\n",
       "      <th>TVD</th>\n",
       "      <th>Capacity Top Perf</th>\n",
       "      <th>Capacity Bottom Perf</th>\n",
       "      <th>Capacity Plug</th>\n",
       "      <th>Date</th>\n",
       "      <th>...</th>\n",
       "      <th>100 Mesh</th>\n",
       "      <th>Delivered Total Prop</th>\n",
       "      <th>Plexslick 957, gal</th>\n",
       "      <th>Chemplex 4-N-1, gal</th>\n",
       "      <th>Payzone 845, gal</th>\n",
       "      <th>Payzone 850, gal</th>\n",
       "      <th>Payzone 217, gal</th>\n",
       "      <th>Stim741 Gel, gal</th>\n",
       "      <th>15% HCl Acid, gal</th>\n",
       "      <th>Well Name</th>\n",
       "    </tr>\n",
       "  </thead>\n",
       "  <tbody>\n",
       "    <tr>\n",
       "      <th>Stage</th>\n",
       "      <td>Stage</td>\n",
       "      <td>Top Perf</td>\n",
       "      <td>Bottom Perf</td>\n",
       "      <td>Num Perfs</td>\n",
       "      <td>Plug Depth</td>\n",
       "      <td>TVD</td>\n",
       "      <td>Capacity Top Perf</td>\n",
       "      <td>Capacity Bottom Perf</td>\n",
       "      <td>Capacity Plug</td>\n",
       "      <td>Date</td>\n",
       "      <td>...</td>\n",
       "      <td>100 Mesh</td>\n",
       "      <td>Delivered Total Prop</td>\n",
       "      <td>Plexslick 957, gal</td>\n",
       "      <td>Chemplex 4-N-1, gal</td>\n",
       "      <td>Payzone 845, gal</td>\n",
       "      <td>Payzone 850, gal</td>\n",
       "      <td>Payzone 217, gal</td>\n",
       "      <td>Stim741 Gel, gal</td>\n",
       "      <td>15% HCl Acid, gal</td>\n",
       "      <td>Well Name</td>\n",
       "    </tr>\n",
       "    <tr>\n",
       "      <th>1</th>\n",
       "      <td>1</td>\n",
       "      <td>23,230</td>\n",
       "      <td>23,392</td>\n",
       "      <td>24</td>\n",
       "      <td>23,411</td>\n",
       "      <td>12,540</td>\n",
       "      <td>423.5</td>\n",
       "      <td>425.9</td>\n",
       "      <td>426.2</td>\n",
       "      <td>5/3/18</td>\n",
       "      <td>...</td>\n",
       "      <td>443,960</td>\n",
       "      <td>443,960</td>\n",
       "      <td>511</td>\n",
       "      <td>7</td>\n",
       "      <td>99</td>\n",
       "      <td>38</td>\n",
       "      <td>99</td>\n",
       "      <td>30</td>\n",
       "      <td>1,237</td>\n",
       "      <td>Silvertip A 1H</td>\n",
       "    </tr>\n",
       "    <tr>\n",
       "      <th>2</th>\n",
       "      <td>2</td>\n",
       "      <td>23,029</td>\n",
       "      <td>23,191</td>\n",
       "      <td>24</td>\n",
       "      <td>23,210</td>\n",
       "      <td>12,534</td>\n",
       "      <td>420.5</td>\n",
       "      <td>422.9</td>\n",
       "      <td>423.2</td>\n",
       "      <td>5/4/18</td>\n",
       "      <td>...</td>\n",
       "      <td>248,520</td>\n",
       "      <td>248,520</td>\n",
       "      <td>366</td>\n",
       "      <td>8</td>\n",
       "      <td>67</td>\n",
       "      <td>28</td>\n",
       "      <td>67</td>\n",
       "      <td>20</td>\n",
       "      <td>1,264</td>\n",
       "      <td>Silvertip A 1H</td>\n",
       "    </tr>\n",
       "    <tr>\n",
       "      <th>3</th>\n",
       "      <td>3</td>\n",
       "      <td>22,829</td>\n",
       "      <td>22,990</td>\n",
       "      <td>24</td>\n",
       "      <td>23,009</td>\n",
       "      <td>12,531</td>\n",
       "      <td>417.5</td>\n",
       "      <td>419.9</td>\n",
       "      <td>420.2</td>\n",
       "      <td>5/4/18</td>\n",
       "      <td>...</td>\n",
       "      <td>502,480</td>\n",
       "      <td>502,480</td>\n",
       "      <td>570</td>\n",
       "      <td>7</td>\n",
       "      <td>111</td>\n",
       "      <td>42</td>\n",
       "      <td>111</td>\n",
       "      <td>20</td>\n",
       "      <td>1,111</td>\n",
       "      <td>Silvertip A 1H</td>\n",
       "    </tr>\n",
       "    <tr>\n",
       "      <th>4</th>\n",
       "      <td>4</td>\n",
       "      <td>22,628</td>\n",
       "      <td>22,790</td>\n",
       "      <td>24</td>\n",
       "      <td>22,809</td>\n",
       "      <td>12,523</td>\n",
       "      <td>414.5</td>\n",
       "      <td>416.9</td>\n",
       "      <td>417.2</td>\n",
       "      <td>5/5/18</td>\n",
       "      <td>...</td>\n",
       "      <td>504,680</td>\n",
       "      <td>504,680</td>\n",
       "      <td>596</td>\n",
       "      <td>8</td>\n",
       "      <td>118</td>\n",
       "      <td>46</td>\n",
       "      <td>118</td>\n",
       "      <td>20</td>\n",
       "      <td>1,251</td>\n",
       "      <td>Silvertip A 1H</td>\n",
       "    </tr>\n",
       "  </tbody>\n",
       "</table>\n",
       "<p>5 rows × 40 columns</p>\n",
       "</div>"
      ],
      "text/plain": [
       "Stage Stages  Top Perf  Bottom Perf  Num Perfs  Plug Depth     TVD  \\\n",
       "Stage  Stage  Top Perf  Bottom Perf  Num Perfs  Plug Depth     TVD   \n",
       "1          1    23,230       23,392         24      23,411  12,540   \n",
       "2          2    23,029       23,191         24      23,210  12,534   \n",
       "3          3    22,829       22,990         24      23,009  12,531   \n",
       "4          4    22,628       22,790         24      22,809  12,523   \n",
       "\n",
       "Stage  Capacity Top Perf  Capacity Bottom Perf  Capacity Plug    Date  \\\n",
       "Stage  Capacity Top Perf  Capacity Bottom Perf  Capacity Plug    Date   \n",
       "1                  423.5                 425.9          426.2  5/3/18   \n",
       "2                  420.5                 422.9          423.2  5/4/18   \n",
       "3                  417.5                 419.9          420.2  5/4/18   \n",
       "4                  414.5                 416.9          417.2  5/5/18   \n",
       "\n",
       "Stage       ...        100 Mesh  Delivered Total Prop  Plexslick 957, gal  \\\n",
       "Stage       ...        100 Mesh  Delivered Total Prop  Plexslick 957, gal   \n",
       "1           ...         443,960               443,960                 511   \n",
       "2           ...         248,520               248,520                 366   \n",
       "3           ...         502,480               502,480                 570   \n",
       "4           ...         504,680               504,680                 596   \n",
       "\n",
       "Stage  Chemplex 4-N-1, gal  Payzone 845, gal  Payzone 850, gal  \\\n",
       "Stage  Chemplex 4-N-1, gal  Payzone 845, gal  Payzone 850, gal   \n",
       "1                        7                99                38   \n",
       "2                        8                67                28   \n",
       "3                        7               111                42   \n",
       "4                        8               118                46   \n",
       "\n",
       "Stage  Payzone 217, gal  Stim741 Gel, gal  15% HCl Acid, gal       Well Name  \n",
       "Stage  Payzone 217, gal  Stim741 Gel, gal  15% HCl Acid, gal       Well Name  \n",
       "1                    99                30              1,237  Silvertip A 1H  \n",
       "2                    67                20              1,264  Silvertip A 1H  \n",
       "3                   111                20              1,111  Silvertip A 1H  \n",
       "4                   118                20              1,251  Silvertip A 1H  \n",
       "\n",
       "[5 rows x 40 columns]"
      ]
     },
     "execution_count": 8,
     "metadata": {},
     "output_type": "execute_result"
    }
   ],
   "source": [
    "H1_df.head()"
   ]
  },
  {
   "cell_type": "code",
   "execution_count": null,
   "metadata": {},
   "outputs": [],
   "source": []
  },
  {
   "cell_type": "code",
   "execution_count": null,
   "metadata": {},
   "outputs": [],
   "source": [
    "#drop 1st row\n",
    "H1_df = H1_df.drop(H1_df.index[0])"
   ]
  },
  {
   "cell_type": "code",
   "execution_count": null,
   "metadata": {},
   "outputs": [],
   "source": [
    "H1_df.head()"
   ]
  },
  {
   "cell_type": "code",
   "execution_count": null,
   "metadata": {},
   "outputs": [],
   "source": [
    "#Reset Index so Stage is a col\n",
    "H1_df.set_index('Well Name')"
   ]
  },
  {
   "cell_type": "code",
   "execution_count": null,
   "metadata": {},
   "outputs": [],
   "source": [
    "# Set col headers as row 1 values\n",
    "#H1_df.columns = H1_df.iloc[0]"
   ]
  },
  {
   "cell_type": "code",
   "execution_count": null,
   "metadata": {},
   "outputs": [],
   "source": [
    "H1_df.head()"
   ]
  },
  {
   "cell_type": "code",
   "execution_count": null,
   "metadata": {},
   "outputs": [],
   "source": [
    "#Rearrange Stages in DF\n",
    "H1_df.insert(0, 'Stage', value = H1_df['Tempstages'])"
   ]
  },
  {
   "cell_type": "code",
   "execution_count": null,
   "metadata": {},
   "outputs": [],
   "source": [
    "# Set col headers as row 1 values\n",
    "H1_df.columns = H1_df.iloc[0]"
   ]
  },
  {
   "cell_type": "code",
   "execution_count": null,
   "metadata": {},
   "outputs": [],
   "source": [
    "H1_df.head()"
   ]
  },
  {
   "cell_type": "code",
   "execution_count": null,
   "metadata": {},
   "outputs": [],
   "source": [
    "ProdData_T['TempStage'] = ProdData_T.index"
   ]
  },
  {
   "cell_type": "code",
   "execution_count": null,
   "metadata": {},
   "outputs": [],
   "source": [
    "ProdData_T.head()"
   ]
  },
  {
   "cell_type": "code",
   "execution_count": null,
   "metadata": {},
   "outputs": [],
   "source": [
    "#Rearrange Stages in DF\n",
    "ProdData_T.insert(0, 'Stages', value = ProdData_T['TempStage'])"
   ]
  },
  {
   "cell_type": "code",
   "execution_count": null,
   "metadata": {},
   "outputs": [],
   "source": [
    "ProdData_T.head()"
   ]
  },
  {
   "cell_type": "code",
   "execution_count": null,
   "metadata": {},
   "outputs": [],
   "source": []
  },
  {
   "cell_type": "code",
   "execution_count": null,
   "metadata": {},
   "outputs": [],
   "source": [
    "# Set col headers as row 1 values\n",
    "ProdData_T.columns = ProdData_T.iloc[0]"
   ]
  },
  {
   "cell_type": "code",
   "execution_count": null,
   "metadata": {},
   "outputs": [],
   "source": [
    "ProdData_T.head()"
   ]
  },
  {
   "cell_type": "code",
   "execution_count": null,
   "metadata": {},
   "outputs": [],
   "source": [
    "ProdData_T.rename(columns={'Stage': 'Stages'}, inplace=True)"
   ]
  },
  {
   "cell_type": "code",
   "execution_count": null,
   "metadata": {},
   "outputs": [],
   "source": [
    "ProdData_T.head()"
   ]
  },
  {
   "cell_type": "code",
   "execution_count": null,
   "metadata": {},
   "outputs": [],
   "source": [
    "#drop 1st row\n",
    "ProdData_T = ProdData_T.reindex(ProdData_T.index.drop('Stage'))"
   ]
  },
  {
   "cell_type": "code",
   "execution_count": null,
   "metadata": {},
   "outputs": [],
   "source": [
    "ProdData_T.head()"
   ]
  },
  {
   "cell_type": "code",
   "execution_count": null,
   "metadata": {},
   "outputs": [],
   "source": [
    "#Add Wellname to DF\n",
    "ProdData_T.insert(0, 'Well', '1H')\n",
    "\n",
    "#drop 1st row\n",
    "#ProdData_T = ProdData_T.reindex(ProdData_T.index.drop('Stage'))"
   ]
  },
  {
   "cell_type": "code",
   "execution_count": null,
   "metadata": {},
   "outputs": [],
   "source": []
  },
  {
   "cell_type": "code",
   "execution_count": null,
   "metadata": {},
   "outputs": [],
   "source": [
    "ProdData_T.head()"
   ]
  },
  {
   "cell_type": "code",
   "execution_count": null,
   "metadata": {},
   "outputs": [],
   "source": [
    "print(ProdData_T.dtypes)\n",
    "\n",
    "#ax = sns.lineplot(x=\"Payzone 850, gal\", y=\"Average Rate, bpm\",data = ProdData_T)"
   ]
  },
  {
   "cell_type": "code",
   "execution_count": null,
   "metadata": {},
   "outputs": [],
   "source": [
    "ProdData_T = ProdData_T.drop(columns = \"Well\")"
   ]
  },
  {
   "cell_type": "code",
   "execution_count": null,
   "metadata": {},
   "outputs": [],
   "source": [
    "ProdData_T.head()"
   ]
  },
  {
   "cell_type": "code",
   "execution_count": null,
   "metadata": {},
   "outputs": [],
   "source": [
    "ProdData_T = ProdData_T.astype('float')"
   ]
  },
  {
   "cell_type": "code",
   "execution_count": null,
   "metadata": {},
   "outputs": [],
   "source": [
    "ProdData_T.head()"
   ]
  },
  {
   "cell_type": "code",
   "execution_count": null,
   "metadata": {},
   "outputs": [],
   "source": [
    "print(ProdData_T.dtypes)"
   ]
  },
  {
   "cell_type": "code",
   "execution_count": null,
   "metadata": {},
   "outputs": [],
   "source": [
    "ProdData_T = ProdData_T.iloc[:, :-1].copy()"
   ]
  },
  {
   "cell_type": "code",
   "execution_count": null,
   "metadata": {},
   "outputs": [],
   "source": [
    "x = ProdData_T[\"TVD, ft\"]\n",
    "y = ProdData_T[\"Average Rate, bpm\"]\n",
    "\n",
    "z = ProdData_T[\"Stages\"]"
   ]
  },
  {
   "cell_type": "code",
   "execution_count": null,
   "metadata": {},
   "outputs": [],
   "source": [
    "\n",
    "ax = sns.lineplot(ProdData_T['Stages'], ProdData_T['Average Rate, bpm'])\n",
    "\n"
   ]
  },
  {
   "cell_type": "code",
   "execution_count": null,
   "metadata": {},
   "outputs": [],
   "source": []
  },
  {
   "cell_type": "code",
   "execution_count": null,
   "metadata": {},
   "outputs": [],
   "source": [
    "#drop 1st row\n",
    "ProdData_T = ProdData_T.reindex(ProdData_T.index.drop('Stage'))"
   ]
  },
  {
   "cell_type": "code",
   "execution_count": null,
   "metadata": {},
   "outputs": [],
   "source": [
    "Pro"
   ]
  },
  {
   "cell_type": "code",
   "execution_count": null,
   "metadata": {},
   "outputs": [],
   "source": [
    "# Set col headers as row 1 values\n",
    "#ProdData_T.columns = ProdData_T.iloc[0]\n",
    "\n",
    "#drop 1st row\n",
    "#ProdData_T = ProdData_T.reindex(ProdData_T.index.drop('Stage'))\n"
   ]
  },
  {
   "cell_type": "code",
   "execution_count": null,
   "metadata": {},
   "outputs": [],
   "source": [
    "#Add Wellname to DF\n",
    "#ProdData_T.insert(0, 'Well', '1H')"
   ]
  },
  {
   "cell_type": "code",
   "execution_count": null,
   "metadata": {},
   "outputs": [],
   "source": [
    "#ProdData_T"
   ]
  },
  {
   "cell_type": "code",
   "execution_count": null,
   "metadata": {},
   "outputs": [],
   "source": [
    "#ProdData_T.reset_index()\n",
    "#ProdData_T[\"Stage\"]\n",
    "\n",
    "ax = sns.lineplot(x=\"Stage\", y=\"Average Rate, bpm\", data=ProdData_T)\n",
    "\n"
   ]
  },
  {
   "cell_type": "code",
   "execution_count": null,
   "metadata": {},
   "outputs": [],
   "source": []
  }
 ],
 "metadata": {
  "kernelspec": {
   "display_name": "Python [conda env:qiime2-2019.1]",
   "language": "python",
   "name": "conda-env-qiime2-2019.1-py"
  },
  "language_info": {
   "codemirror_mode": {
    "name": "ipython",
    "version": 3
   },
   "file_extension": ".py",
   "mimetype": "text/x-python",
   "name": "python",
   "nbconvert_exporter": "python",
   "pygments_lexer": "ipython3",
   "version": "3.6.7"
  }
 },
 "nbformat": 4,
 "nbformat_minor": 2
}
