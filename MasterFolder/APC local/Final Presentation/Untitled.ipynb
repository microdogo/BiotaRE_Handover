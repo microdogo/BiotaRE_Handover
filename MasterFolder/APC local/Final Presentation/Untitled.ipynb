{
 "cells": [
  {
   "cell_type": "code",
   "execution_count": 1,
   "metadata": {},
   "outputs": [],
   "source": [
    "import os\n",
    "\n",
    "# ***IMPORTANT***\n",
    "# Be sure to modify the 'qiime2-20XX.X' to indicate the version of qiime you are using\n",
    "os.environ['PATH'] = '/home/jovyan/my-conda-envs/qiime2-2019.1/bin:' + os.environ['PATH']\n",
    "os.environ['PROJ_LIB'] = '/home/jovyan/my-conda-envs/qiime2-2019.1/share/proj'"
   ]
  },
  {
   "cell_type": "code",
   "execution_count": 2,
   "metadata": {},
   "outputs": [],
   "source": [
    "import pandas as pd\n",
    "import matplotlib.pyplot as plt\n",
    "from matplotlib.patches import Rectangle\n",
    "from IPython.core.display import display, HTML\n",
    "from ipyparallel import Client\n",
    "import math\n",
    "import numpy as np\n",
    "\n",
    "# SQL Query imports\n",
    "from sqlalchemy import create_engine, engine\n",
    "\n",
    "import biota\n",
    "from biota.database import get_data\n",
    "from biota.util import assign_formations, rarefy\n",
    "import biota.plot as bpl\n",
    "from sourcetracker import gibbs\n",
    "\n",
    "%matplotlib inline"
   ]
  },
  {
   "cell_type": "code",
   "execution_count": 3,
   "metadata": {},
   "outputs": [],
   "source": [
    "\n",
    "# Step 1: Connect to Database\n",
    "host = 'biota-pg.cldeduw9cmn5.us-east-1.rds.amazonaws.com'\n",
    "drivername='postgresql'\n",
    "username='wilkins'\n",
    "password='glassy_tinware_madonna'\n",
    "port=5432\n",
    "database='biotadb'\n",
    "\n",
    "con = create_engine(engine.url.URL(drivername=drivername,\n",
    "                                   username=username,\n",
    "                                   password=password,\n",
    "                                   port=port,\n",
    "                                   database=database,\n",
    "                                   host=host))"
   ]
  },
  {
   "cell_type": "code",
   "execution_count": 29,
   "metadata": {},
   "outputs": [],
   "source": [
    "# Step 2: Define the tables and columns we want returned\n",
    "# field columns we are interested in\n",
    "field_columns = ['collectiondate', 'fieldsampletype']\n",
    "field_columns = ', '.join(['field.{}'.format(e) for e in field_columns])\n",
    "\n",
    "# well columns we are interested in\n",
    "well_columns = ['wellname','company', 'well_name_company', 'targetformation']\n",
    "well_columns = ', '.join(['well.{}'.format(e) for e in well_columns])\n",
    "\n",
    "# sequence columns we are interested in\n",
    "sequence_columns = ['necplate']\n",
    "sequence_columns = ', '.join(['sequence.{}'.format(e) for e in sequence_columns])"
   ]
  },
  {
   "cell_type": "code",
   "execution_count": 30,
   "metadata": {},
   "outputs": [],
   "source": [
    "## These wells are in the order for gunbarrel view\n",
    "target_wells = [\"silvertip.76.7.unit.a.3h\",\n",
    "                    \"silvertip.76.7.unit.a.1h\",\n",
    "                    \"silvertip.76.7.unit.a.2h\",\n",
    "                    \"silvertip.76.7.unit.a.4h\",\n",
    "                    \"silvertip.76.7.unit.a.5h\",\n",
    "                    \"silvertip.76.7.unit.a.6h\",\n",
    "                    \"silvertip.76.7.unit.a.7h\",\n",
    "                    \"silvertip.76.7.unit.a.8h\",\n",
    "                    \"silvertip.76.7.unit.a.9h\",\n",
    "                    \"silvertip.76.7.unit.a.10h\",\n",
    "                    \"silvertip.76.7.unit.b.2h\",\n",
    "                    \"silvertip.76.7.unit.b.3h\"]\n",
    "\n",
    "# Step 3: Format the query\n",
    "query = \"\"\"\n",
    "SELECT {}, {}, {}\n",
    "FROM field\n",
    "LEFT JOIN bridge\n",
    "    ON field.fieldsampleuuid = bridge.fieldsampleuuid \n",
    "LEFT JOIN sequence\n",
    "    ON bridge.sequencesampleuuid = sequence.sequencesampleuuid\n",
    "INNER JOIN well\n",
    "    ON field.welluuid=well.welluuid\n",
    "    \n",
    "WHERE company = 'anadarko.petroleum.corporation'\n",
    "AND wellname IN ({})\n",
    "AND usage = 'customer'\n",
    "AND fieldsampletype = 'produced.fluid'\n",
    "\"\"\".format(field_columns, sequence_columns, well_columns,\n",
    "           (', '.join(\"'\" + item + \"'\" for item in target_wells)))"
   ]
  },
  {
   "cell_type": "code",
   "execution_count": 32,
   "metadata": {},
   "outputs": [],
   "source": [
    "customer_samples = pd.read_sql_query(query, con)"
   ]
  },
  {
   "cell_type": "code",
   "execution_count": 43,
   "metadata": {},
   "outputs": [
    {
     "data": {
      "text/plain": [
       "wellname\n",
       "silvertip.76.7.unit.a.10h    103\n",
       "silvertip.76.7.unit.a.1h      85\n",
       "silvertip.76.7.unit.a.2h      75\n",
       "silvertip.76.7.unit.a.3h      84\n",
       "silvertip.76.7.unit.a.4h      90\n",
       "silvertip.76.7.unit.a.5h     104\n",
       "silvertip.76.7.unit.a.6h      90\n",
       "silvertip.76.7.unit.a.7h     101\n",
       "silvertip.76.7.unit.a.8h     111\n",
       "silvertip.76.7.unit.a.9h     101\n",
       "silvertip.76.7.unit.b.2h      87\n",
       "silvertip.76.7.unit.b.3h      92\n",
       "dtype: int64"
      ]
     },
     "execution_count": 43,
     "metadata": {},
     "output_type": "execute_result"
    }
   ],
   "source": [
    "customer_samples.groupby(['wellname']).size()"
   ]
  },
  {
   "cell_type": "code",
   "execution_count": 48,
   "metadata": {},
   "outputs": [
    {
     "ename": "SyntaxError",
     "evalue": "invalid syntax (<ipython-input-48-9613e353215e>, line 1)",
     "output_type": "error",
     "traceback": [
      "\u001b[0;36m  File \u001b[0;32m\"<ipython-input-48-9613e353215e>\"\u001b[0;36m, line \u001b[0;32m1\u001b[0m\n\u001b[0;31m    customer_samples.['silvertip.76.7.unit.a.6h']['collectiondate']\u001b[0m\n\u001b[0m                     ^\u001b[0m\n\u001b[0;31mSyntaxError\u001b[0m\u001b[0;31m:\u001b[0m invalid syntax\n"
     ]
    }
   ],
   "source": [
    "customer_samples['wellname'] = 'silvertip.76.7.unit.a.6h']['collectiondate']"
   ]
  },
  {
   "cell_type": "code",
   "execution_count": 72,
   "metadata": {},
   "outputs": [],
   "source": [
    "df = customer_samples.loc[customer_samples['wellname'] == 'silvertip.76.7.unit.a.1h']"
   ]
  },
  {
   "cell_type": "code",
   "execution_count": 73,
   "metadata": {},
   "outputs": [],
   "source": [
    "fofo = df.collectiondate.unique()"
   ]
  },
  {
   "cell_type": "code",
   "execution_count": 74,
   "metadata": {},
   "outputs": [
    {
     "name": "stdout",
     "output_type": "stream",
     "text": [
      "[datetime.date(2018, 11, 1) datetime.date(2018, 11, 8)\n",
      " datetime.date(2018, 12, 5) datetime.date(2018, 12, 19)\n",
      " datetime.date(2019, 2, 14) datetime.date(2019, 3, 5)\n",
      " datetime.date(2019, 3, 19) datetime.date(2019, 5, 6)\n",
      " datetime.date(2019, 5, 15) datetime.date(2019, 5, 20)\n",
      " datetime.date(2019, 5, 29) datetime.date(2019, 6, 11)\n",
      " datetime.date(2019, 6, 15) datetime.date(2019, 6, 19)\n",
      " datetime.date(2019, 6, 24) datetime.date(2019, 7, 11)\n",
      " datetime.date(2019, 7, 18)]\n"
     ]
    }
   ],
   "source": [
    "print (fofo)"
   ]
  },
  {
   "cell_type": "code",
   "execution_count": 55,
   "metadata": {},
   "outputs": [
    {
     "ename": "TypeError",
     "evalue": "'method' object is not subscriptable",
     "output_type": "error",
     "traceback": [
      "\u001b[0;31m---------------------------------------------------------------------------\u001b[0m",
      "\u001b[0;31mTypeError\u001b[0m                                 Traceback (most recent call last)",
      "\u001b[0;32m<ipython-input-55-76550eaa7536>\u001b[0m in \u001b[0;36m<module>\u001b[0;34m\u001b[0m\n\u001b[0;32m----> 1\u001b[0;31m \u001b[0mdf\u001b[0m\u001b[0;34m.\u001b[0m\u001b[0mgroupby\u001b[0m\u001b[0;34m[\u001b[0m\u001b[0;34m'collectiondate'\u001b[0m\u001b[0;34m]\u001b[0m\u001b[0;34m\u001b[0m\u001b[0;34m\u001b[0m\u001b[0m\n\u001b[0m",
      "\u001b[0;31mTypeError\u001b[0m: 'method' object is not subscriptable"
     ]
    }
   ],
   "source": [
    "df.groupby['collectiondate']"
   ]
  },
  {
   "cell_type": "code",
   "execution_count": 63,
   "metadata": {},
   "outputs": [],
   "source": [
    "datesdf = {}\n",
    "for well in target_wells:\n",
    "    df = customer_samples.loc[customer_samples['wellname'] == well]\n",
    "    datesdf[well] =  df.collectiondate.unique()"
   ]
  },
  {
   "cell_type": "code",
   "execution_count": 97,
   "metadata": {},
   "outputs": [
    {
     "ename": "AttributeError",
     "evalue": "'numpy.ndarray' object has no attribute 'strftime'",
     "output_type": "error",
     "traceback": [
      "\u001b[0;31m---------------------------------------------------------------------------\u001b[0m",
      "\u001b[0;31mAttributeError\u001b[0m                            Traceback (most recent call last)",
      "\u001b[0;32m<ipython-input-97-943fd3b32494>\u001b[0m in \u001b[0;36m<module>\u001b[0;34m\u001b[0m\n\u001b[0;32m----> 1\u001b[0;31m \u001b[0mdfdate2\u001b[0m \u001b[0;34m=\u001b[0m \u001b[0mdatesdf\u001b[0m\u001b[0;34m[\u001b[0m\u001b[0;34m'silvertip.76.7.unit.b.3h'\u001b[0m\u001b[0;34m]\u001b[0m\u001b[0;34m.\u001b[0m\u001b[0mstrftime\u001b[0m\u001b[0;34m(\u001b[0m\u001b[0;34m'%m/%d/%Y'\u001b[0m\u001b[0;34m)\u001b[0m\u001b[0;34m\u001b[0m\u001b[0;34m\u001b[0m\u001b[0m\n\u001b[0m",
      "\u001b[0;31mAttributeError\u001b[0m: 'numpy.ndarray' object has no attribute 'strftime'"
     ]
    }
   ],
   "source": [
    "dfdate2 = datesdf['silvertip.76.7.unit.b.3h'].strftime('%m/%d/%Y')"
   ]
  },
  {
   "cell_type": "code",
   "execution_count": 95,
   "metadata": {},
   "outputs": [],
   "source": [
    "dfdate = pd.to_datetime(datesdf['silvertip.76.7.unit.b.3h'])"
   ]
  },
  {
   "cell_type": "code",
   "execution_count": 96,
   "metadata": {},
   "outputs": [
    {
     "data": {
      "text/plain": [
       "DatetimeIndex(['2019-01-09', '2019-01-17', '2019-03-12', '2019-03-19',\n",
       "               '2019-03-21', '2019-04-04', '2019-04-30', '2019-04-23',\n",
       "               '2019-05-06', '2019-05-15', '2019-05-20', '2019-05-29',\n",
       "               '2019-06-11', '2019-06-15', '2019-06-19', '2019-06-24',\n",
       "               '2019-07-11', '2019-07-17'],\n",
       "              dtype='datetime64[ns]', freq=None)"
      ]
     },
     "execution_count": 96,
     "metadata": {},
     "output_type": "execute_result"
    }
   ],
   "source": [
    "dfdate"
   ]
  },
  {
   "cell_type": "code",
   "execution_count": 44,
   "metadata": {},
   "outputs": [
    {
     "ename": "ValueError",
     "evalue": "No axis named collectiondate for object type <class 'pandas.core.frame.DataFrame'>",
     "output_type": "error",
     "traceback": [
      "\u001b[0;31m---------------------------------------------------------------------------\u001b[0m",
      "\u001b[0;31mValueError\u001b[0m                                Traceback (most recent call last)",
      "\u001b[0;32m<ipython-input-44-3519062f7f4b>\u001b[0m in \u001b[0;36m<module>\u001b[0;34m\u001b[0m\n\u001b[0;32m----> 1\u001b[0;31m \u001b[0mgrouped\u001b[0m \u001b[0;34m=\u001b[0m \u001b[0mcustomer_samples\u001b[0m\u001b[0;34m.\u001b[0m\u001b[0mgroupby\u001b[0m\u001b[0;34m(\u001b[0m\u001b[0;34m'wellname'\u001b[0m\u001b[0;34m,\u001b[0m\u001b[0;34m'collectiondate'\u001b[0m\u001b[0;34m)\u001b[0m\u001b[0;34m\u001b[0m\u001b[0;34m\u001b[0m\u001b[0m\n\u001b[0m\u001b[1;32m      2\u001b[0m \u001b[0;34m\u001b[0m\u001b[0m\n\u001b[1;32m      3\u001b[0m \u001b[0mcustomer_samples\u001b[0m \u001b[0;34m=\u001b[0m \u001b[0mgrouped\u001b[0m\u001b[0;34m.\u001b[0m\u001b[0maggregate\u001b[0m\u001b[0;34m(\u001b[0m\u001b[0;32mlambda\u001b[0m \u001b[0mx\u001b[0m\u001b[0;34m:\u001b[0m \u001b[0mtuple\u001b[0m\u001b[0;34m(\u001b[0m\u001b[0mx\u001b[0m\u001b[0;34m)\u001b[0m\u001b[0;34m)\u001b[0m\u001b[0;34m\u001b[0m\u001b[0;34m\u001b[0m\u001b[0m\n\u001b[1;32m      4\u001b[0m \u001b[0;34m\u001b[0m\u001b[0m\n\u001b[1;32m      5\u001b[0m \u001b[0mcustomer_samples\u001b[0m\u001b[0;34m[\u001b[0m\u001b[0;34m'grouped'\u001b[0m\u001b[0;34m]\u001b[0m \u001b[0;34m=\u001b[0m \u001b[0mcustomer_samples\u001b[0m\u001b[0;34m[\u001b[0m\u001b[0;34m'wellname'\u001b[0m\u001b[0;34m]\u001b[0m \u001b[0;34m+\u001b[0m \u001b[0mcustomer_samples\u001b[0m\u001b[0;34m[\u001b[0m\u001b[0;34m'collectiondate'\u001b[0m\u001b[0;34m]\u001b[0m\u001b[0;34m\u001b[0m\u001b[0;34m\u001b[0m\u001b[0m\n",
      "\u001b[0;32m~/my-conda-envs/qiime2-2019.1/lib/python3.6/site-packages/pandas/core/generic.py\u001b[0m in \u001b[0;36mgroupby\u001b[0;34m(self, by, axis, level, as_index, sort, group_keys, squeeze, observed, **kwargs)\u001b[0m\n\u001b[1;32m   6660\u001b[0m         \u001b[0;32mif\u001b[0m \u001b[0mlevel\u001b[0m \u001b[0;32mis\u001b[0m \u001b[0;32mNone\u001b[0m \u001b[0;32mand\u001b[0m \u001b[0mby\u001b[0m \u001b[0;32mis\u001b[0m \u001b[0;32mNone\u001b[0m\u001b[0;34m:\u001b[0m\u001b[0;34m\u001b[0m\u001b[0;34m\u001b[0m\u001b[0m\n\u001b[1;32m   6661\u001b[0m             \u001b[0;32mraise\u001b[0m \u001b[0mTypeError\u001b[0m\u001b[0;34m(\u001b[0m\u001b[0;34m\"You have to supply one of 'by' and 'level'\"\u001b[0m\u001b[0;34m)\u001b[0m\u001b[0;34m\u001b[0m\u001b[0;34m\u001b[0m\u001b[0m\n\u001b[0;32m-> 6662\u001b[0;31m         \u001b[0maxis\u001b[0m \u001b[0;34m=\u001b[0m \u001b[0mself\u001b[0m\u001b[0;34m.\u001b[0m\u001b[0m_get_axis_number\u001b[0m\u001b[0;34m(\u001b[0m\u001b[0maxis\u001b[0m\u001b[0;34m)\u001b[0m\u001b[0;34m\u001b[0m\u001b[0;34m\u001b[0m\u001b[0m\n\u001b[0m\u001b[1;32m   6663\u001b[0m         return groupby(self, by=by, axis=axis, level=level, as_index=as_index,\n\u001b[1;32m   6664\u001b[0m                        \u001b[0msort\u001b[0m\u001b[0;34m=\u001b[0m\u001b[0msort\u001b[0m\u001b[0;34m,\u001b[0m \u001b[0mgroup_keys\u001b[0m\u001b[0;34m=\u001b[0m\u001b[0mgroup_keys\u001b[0m\u001b[0;34m,\u001b[0m \u001b[0msqueeze\u001b[0m\u001b[0;34m=\u001b[0m\u001b[0msqueeze\u001b[0m\u001b[0;34m,\u001b[0m\u001b[0;34m\u001b[0m\u001b[0;34m\u001b[0m\u001b[0m\n",
      "\u001b[0;32m~/my-conda-envs/qiime2-2019.1/lib/python3.6/site-packages/pandas/core/generic.py\u001b[0m in \u001b[0;36m_get_axis_number\u001b[0;34m(self, axis)\u001b[0m\n\u001b[1;32m    373\u001b[0m                 \u001b[0;32mpass\u001b[0m\u001b[0;34m\u001b[0m\u001b[0;34m\u001b[0m\u001b[0m\n\u001b[1;32m    374\u001b[0m         raise ValueError('No axis named {0} for object type {1}'\n\u001b[0;32m--> 375\u001b[0;31m                          .format(axis, type(self)))\n\u001b[0m\u001b[1;32m    376\u001b[0m \u001b[0;34m\u001b[0m\u001b[0m\n\u001b[1;32m    377\u001b[0m     \u001b[0;32mdef\u001b[0m \u001b[0m_get_axis_name\u001b[0m\u001b[0;34m(\u001b[0m\u001b[0mself\u001b[0m\u001b[0;34m,\u001b[0m \u001b[0maxis\u001b[0m\u001b[0;34m)\u001b[0m\u001b[0;34m:\u001b[0m\u001b[0;34m\u001b[0m\u001b[0;34m\u001b[0m\u001b[0m\n",
      "\u001b[0;31mValueError\u001b[0m: No axis named collectiondate for object type <class 'pandas.core.frame.DataFrame'>"
     ]
    }
   ],
   "source": [
    "#grouped = customer_samples.groupby('wellname','collectiondate')\n",
    "\n",
    "#customer_samples = grouped.aggregate(lambda x: tuple(x))\n",
    "\n",
    "#customer_samples['grouped'] = customer_samples['wellname'] + customer_samples['collectiondate']"
   ]
  },
  {
   "cell_type": "code",
   "execution_count": 42,
   "metadata": {},
   "outputs": [
    {
     "data": {
      "text/plain": [
       "wellname                   collectiondate\n",
       "silvertip.76.7.unit.a.10h  2018-12-12         5\n",
       "                           2019-01-09         4\n",
       "                           2019-01-17         5\n",
       "                           2019-01-30         5\n",
       "                           2019-03-12         5\n",
       "                           2019-03-19         5\n",
       "                           2019-03-21         4\n",
       "                           2019-04-04         5\n",
       "                           2019-04-17         5\n",
       "                           2019-04-23         5\n",
       "                           2019-04-30         5\n",
       "                           2019-05-06         5\n",
       "                           2019-05-15         5\n",
       "                           2019-05-20         5\n",
       "                           2019-05-29         5\n",
       "                           2019-06-11         5\n",
       "                           2019-06-15         5\n",
       "                           2019-06-19         5\n",
       "                           2019-06-24         5\n",
       "                           2019-07-11         5\n",
       "                           2019-07-17         5\n",
       "silvertip.76.7.unit.a.1h   2018-11-01         5\n",
       "                           2018-11-08         5\n",
       "                           2018-12-05         5\n",
       "                           2018-12-19         5\n",
       "                           2019-02-14         5\n",
       "                           2019-03-05         5\n",
       "                           2019-03-19         5\n",
       "                           2019-05-06         5\n",
       "                           2019-05-15         5\n",
       "                                             ..\n",
       "silvertip.76.7.unit.b.2h   2019-04-23         5\n",
       "                           2019-04-30         5\n",
       "                           2019-05-06         5\n",
       "                           2019-05-15         5\n",
       "                           2019-05-20         5\n",
       "                           2019-05-29         5\n",
       "                           2019-06-11         5\n",
       "                           2019-06-15         5\n",
       "                           2019-06-19         5\n",
       "                           2019-06-24         5\n",
       "                           2019-07-11         5\n",
       "                           2019-07-17         5\n",
       "silvertip.76.7.unit.b.3h   2019-01-09         5\n",
       "                           2019-01-17         2\n",
       "                           2019-03-12         5\n",
       "                           2019-03-19         5\n",
       "                           2019-03-21         5\n",
       "                           2019-04-04         5\n",
       "                           2019-04-23         5\n",
       "                           2019-04-30         5\n",
       "                           2019-05-06         5\n",
       "                           2019-05-15         5\n",
       "                           2019-05-20         5\n",
       "                           2019-05-29         5\n",
       "                           2019-06-11         5\n",
       "                           2019-06-15         5\n",
       "                           2019-06-19        10\n",
       "                           2019-06-24         5\n",
       "                           2019-07-11         5\n",
       "                           2019-07-17         5\n",
       "Length: 228, dtype: int64"
      ]
     },
     "execution_count": 42,
     "metadata": {},
     "output_type": "execute_result"
    }
   ],
   "source": [
    "customer_samples.groupby(['wellname', 'collectiondate']).size()"
   ]
  },
  {
   "cell_type": "code",
   "execution_count": 40,
   "metadata": {},
   "outputs": [
    {
     "name": "stdout",
     "output_type": "stream",
     "text": [
      "<pandas.core.groupby.groupby.DataFrameGroupBy object at 0x7f5b6ea220f0>\n"
     ]
    }
   ],
   "source": [
    "print(listd)"
   ]
  },
  {
   "cell_type": "code",
   "execution_count": 6,
   "metadata": {},
   "outputs": [
    {
     "name": "stdout",
     "output_type": "stream",
     "text": [
      "There are 0 field samples that haven't been sequenced\n",
      "There are 43 sequence samples that weren't sent for sequencing\n"
     ]
    }
   ],
   "source": [
    "\n",
    "# Step 4: Submit the query to the database to get the customer samples\n",
    "customer_samples = pd.read_sql_query(query, con)\n",
    "\n",
    "# Step 5: Tidy up and GROUP data\n",
    "# tidy up\n",
    "customer_samples.rename(columns={'collectionlocation': 'fieldsamplecollectionlocation',\n",
    "                        'wellname': 'wellname'}, inplace=True)\n",
    "\n",
    "# Import default groupings\n",
    "from biota.database import DEFAULT_SQL_GROUPINGS\n",
    "DEFAULT_SQL_GROUPINGS = {key.lower(): value for key, value in DEFAULT_SQL_GROUPINGS.items() \\\n",
    "                         if key in customer_samples.columns}\n",
    "DEFAULT_SQL_GROUPINGS['labid'] = 'first'\n",
    "DEFAULT_SQL_GROUPINGS['necfieldsampleuuid'] = 'first'\n",
    "DEFAULT_SQL_GROUPINGS['forseqrun'] = 'first'\n",
    "DEFAULT_SQL_GROUPINGS['firstproductiondate'] = 'first'\n",
    "DEFAULT_SQL_GROUPINGS['targetformation'] = 'first'\n",
    "\n",
    "## Grab all the MDs and TVDs contributing to a single sequencing sample and save them as a list\n",
    "mds = customer_samples.groupby('sequencesampleuuid')['md'].apply(list).rename('md_list')\n",
    "tvds = customer_samples.groupby('sequencesampleuuid')['tvd'].apply(list).rename('tvd_list')\n",
    "\n",
    "## Warn if there are field samples that haven't been sequenced \n",
    "print(\"There are {} field samples that haven't been sequenced\".format(customer_samples.loc[customer_samples.sequencesampleuuid.isnull()\n",
    "                                                                                    ].fieldsampleuuid.nunique()))\n",
    "## group by sequencesampleuuid according to DEFAULT_GROUPINGS\n",
    "customer_samples = customer_samples.groupby('sequencesampleuuid').agg(DEFAULT_SQL_GROUPINGS)\n",
    "\n",
    "## Warn if there are sequence samples that weren't sent for sequencing\n",
    "print(\"There are {} sequence samples that weren't sent for sequencing\".format(customer_samples.loc[customer_samples.forseqrun != 1].shape[0]))\n",
    "\n",
    "## concat\n",
    "customer_samples = pd.concat([customer_samples, mds, tvds], axis=1)\n",
    "customer_samples.index = customer_samples.index.astype(str)"
   ]
  },
  {
   "cell_type": "code",
   "execution_count": null,
   "metadata": {},
   "outputs": [],
   "source": [
    "# Use modifed query code from above\n",
    "well_query = {'Company': 'occidental.petroleum.corporation', \n",
    "              'Well': 'peck.state.258.6h'}\n",
    "samples, data, features = get_sample_data(well_query)\n",
    "samples.CollectionDate = pd.to_datetime(samples.CollectionDate).apply(lambda x: x.strftime('%Y-%m-%d'))"
   ]
  },
  {
   "cell_type": "code",
   "execution_count": null,
   "metadata": {},
   "outputs": [],
   "source": []
  },
  {
   "cell_type": "code",
   "execution_count": null,
   "metadata": {},
   "outputs": [],
   "source": []
  },
  {
   "cell_type": "code",
   "execution_count": 8,
   "metadata": {},
   "outputs": [],
   "source": [
    "# Format a parenthetical list of each item in the nec plates\n",
    "nec_plates = customer_samples.necplate.dropna().unique().tolist()\n",
    "\n",
    "## Some older samples may be associated with NEC samples that are not located on an NEC plate.\n",
    "## NEC samples that on the same PCR plate as a customer's samples will \"look\" like the \n",
    "## customer samples due to well-to-well contamination. Be cautious when using such samples.\n",
    "## You may need to use a different NEC plate for the QC process\n",
    "nec_plates = [n for n in nec_plates if n.find('nec')!=-1 or n.find('NEC')!=-1]\n",
    "\n",
    "## As we move towards NEC field sample uuids, NEC plates will be phased out\n",
    "if nec_plates == []:\n",
    "    print(\"There aren't any associated NEC plates\")\n",
    "    nec_plates = ['None']\n",
    "\n",
    "# Format a parenthetical list of each item in the nec field sample uuids\n",
    "## We need to drop empty cells, cast non-empty cells to strings, and obtain all unique field sample uuids\n",
    "necfielduuids = customer_samples.necfieldsampleuuid.dropna().astype(str).unique().tolist()\n",
    "necfielduuids = [x for x in necfielduuids]\n",
    "\n",
    "## Older samples may not have an assoicated NEC field sample uuid\n",
    "if necfielduuids == []:\n",
    "    print(\"There aren't any associated NEC field uuids\")\n",
    "    necfielduuids = ['11111111-1111-1111-1111-111111111111']\n",
    "\n",
    "in_nec_plate = (', '.join(\"'\" + item + \"'\" for item in nec_plates))\n",
    "in_nec_fuuid = (','.join(\"'\" + item + \"'\" for item in necfielduuids))\n",
    "\n",
    "# create query\n",
    "nec_query = \"\"\"\n",
    "SELECT {}, {}\n",
    "FROM sequence\n",
    "INNER JOIN bridge\n",
    "    ON sequence.sequencesampleuuid = bridge.sequencesampleuuid \n",
    "INNER JOIN field\n",
    "    ON bridge.fieldsampleuuid = field.fieldsampleuuid\n",
    "WHERE\n",
    "    (\n",
    "        extractionplate IN ({})\n",
    "    OR\n",
    "        field.fieldsampleuuid IN ({})\n",
    "    )\n",
    "AND \n",
    "    sequencesampletype = 'negative.extraction.control'\n",
    "AND\n",
    "    usage = 'control'\n",
    "\"\"\".format(field_columns, sequence_columns, in_nec_plate, in_nec_fuuid)\n",
    "\n",
    "# get back nec dataframe\n",
    "necs = pd.read_sql_query(nec_query, con)\n",
    "\n",
    "from biota.database import DEFAULT_SQL_GROUPINGS\n",
    "DEFAULT_SQL_GROUPINGS = {key.lower(): value for key, value in DEFAULT_SQL_GROUPINGS.items()\n",
    "                         if key in necs.columns}\n",
    "DEFAULT_SQL_GROUPINGS['fieldsampleuuid'] = 'first'\n",
    "\n",
    "necs = necs.groupby('sequencesampleuuid').agg(DEFAULT_SQL_GROUPINGS)\n",
    "\n",
    "necs.index = necs.index.astype(str)"
   ]
  },
  {
   "cell_type": "code",
   "execution_count": 9,
   "metadata": {},
   "outputs": [
    {
     "name": "stdout",
     "output_type": "stream",
     "text": [
      "0 NEC plates are missing\n",
      "0 NEC field sample uuids are missing\n"
     ]
    }
   ],
   "source": [
    "## Example checks:\n",
    "print(\"{} NEC plates are missing\".format(len(set(customer_samples.necplate.dropna().unique()\n",
    "                                                ).difference(set(necs.extractionplate.unique())))))\n",
    "print(\"{} NEC field sample uuids are missing\".format(len(set(customer_samples.necfieldsampleuuid.dropna().unique()\n",
    "                                                            ).difference(set(necs.fieldsampleuuid.unique())))))"
   ]
  },
  {
   "cell_type": "code",
   "execution_count": 99,
   "metadata": {},
   "outputs": [],
   "source": [
    "samples = pd.concat([customer_samples, necs], sort=False)\n",
    "samples.fieldsampleuuid = samples.fieldsampleuuid.astype(str)"
   ]
  },
  {
   "cell_type": "code",
   "execution_count": 107,
   "metadata": {},
   "outputs": [
    {
     "ename": "NameError",
     "evalue": "name 'mp2' is not defined",
     "output_type": "error",
     "traceback": [
      "\u001b[0;31m---------------------------------------------------------------------------\u001b[0m",
      "\u001b[0;31mNameError\u001b[0m                                 Traceback (most recent call last)",
      "\u001b[0;32m<ipython-input-107-1defeb9dacd1>\u001b[0m in \u001b[0;36m<module>\u001b[0;34m\u001b[0m\n\u001b[0;32m----> 1\u001b[0;31m \u001b[0msamples\u001b[0m\u001b[0;34m.\u001b[0m\u001b[0mloc\u001b[0m\u001b[0;34m[\u001b[0m\u001b[0mmp2\u001b[0m\u001b[0;34m.\u001b[0m\u001b[0mloc\u001b[0m\u001b[0;34m[\u001b[0m\u001b[0mmp2\u001b[0m\u001b[0;34m.\u001b[0m\u001b[0mUnknown\u001b[0m\u001b[0;34m>=\u001b[0m\u001b[0;36m0.8\u001b[0m\u001b[0;34m]\u001b[0m\u001b[0;34m.\u001b[0m\u001b[0mindex\u001b[0m\u001b[0;34m,\u001b[0m \u001b[0;34m'bgpass'\u001b[0m\u001b[0;34m]\u001b[0m \u001b[0;34m=\u001b[0m \u001b[0;36m1\u001b[0m\u001b[0;34m\u001b[0m\u001b[0;34m\u001b[0m\u001b[0m\n\u001b[0m",
      "\u001b[0;31mNameError\u001b[0m: name 'mp2' is not defined"
     ]
    }
   ],
   "source": [
    "samples.loc[mp2.loc[mp2.Unknown>=0.8].index, 'bgpass'] = 1"
   ]
  },
  {
   "cell_type": "code",
   "execution_count": 103,
   "metadata": {},
   "outputs": [],
   "source": [
    "# necs = samples.loc[samples.extractionplate.isin(nec_plates)].copy()\n",
    "wells = samples.loc[(samples.fieldsampletype=='produced.fluid')].copy()"
   ]
  },
  {
   "cell_type": "code",
   "execution_count": 104,
   "metadata": {},
   "outputs": [
    {
     "data": {
      "text/html": [
       "<div>\n",
       "<style scoped>\n",
       "    .dataframe tbody tr th:only-of-type {\n",
       "        vertical-align: middle;\n",
       "    }\n",
       "\n",
       "    .dataframe tbody tr th {\n",
       "        vertical-align: top;\n",
       "    }\n",
       "\n",
       "    .dataframe thead th {\n",
       "        text-align: right;\n",
       "    }\n",
       "</style>\n",
       "<table border=\"1\" class=\"dataframe\">\n",
       "  <thead>\n",
       "    <tr style=\"text-align: right;\">\n",
       "      <th></th>\n",
       "      <th>collectiondate</th>\n",
       "      <th>fieldsampletype</th>\n",
       "      <th>necplate</th>\n",
       "      <th>wellname</th>\n",
       "      <th>company</th>\n",
       "      <th>well_name_company</th>\n",
       "      <th>targetformation</th>\n",
       "      <th>md</th>\n",
       "      <th>tvd</th>\n",
       "      <th>pcryield</th>\n",
       "      <th>usage</th>\n",
       "      <th>sequencesampletype</th>\n",
       "      <th>barcodesequence</th>\n",
       "      <th>extractionplate</th>\n",
       "      <th>sequencinggroup</th>\n",
       "      <th>sequencingrunid</th>\n",
       "      <th>fieldsampleuuid</th>\n",
       "    </tr>\n",
       "  </thead>\n",
       "  <tbody>\n",
       "    <tr>\n",
       "      <th>0</th>\n",
       "      <td>2019-01-09</td>\n",
       "      <td>produced.fluid</td>\n",
       "      <td>nec.plate.405.20181226</td>\n",
       "      <td>silvertip.76.7.unit.a.10h</td>\n",
       "      <td>anadarko.petroleum.corporation</td>\n",
       "      <td>Silvertip 76 7 Unit A 10H</td>\n",
       "      <td>None</td>\n",
       "      <td>NaN</td>\n",
       "      <td>NaN</td>\n",
       "      <td>NaN</td>\n",
       "      <td>NaN</td>\n",
       "      <td>NaN</td>\n",
       "      <td>NaN</td>\n",
       "      <td>NaN</td>\n",
       "      <td>NaN</td>\n",
       "      <td>NaN</td>\n",
       "      <td>nan</td>\n",
       "    </tr>\n",
       "    <tr>\n",
       "      <th>1</th>\n",
       "      <td>2018-08-30</td>\n",
       "      <td>produced.fluid</td>\n",
       "      <td>nec.plate.300.20180907</td>\n",
       "      <td>silvertip.76.7.unit.a.2h</td>\n",
       "      <td>anadarko.petroleum.corporation</td>\n",
       "      <td>Silvertip 76 7 Unit A 2H</td>\n",
       "      <td>None</td>\n",
       "      <td>NaN</td>\n",
       "      <td>NaN</td>\n",
       "      <td>NaN</td>\n",
       "      <td>NaN</td>\n",
       "      <td>NaN</td>\n",
       "      <td>NaN</td>\n",
       "      <td>NaN</td>\n",
       "      <td>NaN</td>\n",
       "      <td>NaN</td>\n",
       "      <td>nan</td>\n",
       "    </tr>\n",
       "    <tr>\n",
       "      <th>2</th>\n",
       "      <td>2018-08-30</td>\n",
       "      <td>produced.fluid</td>\n",
       "      <td>nec.plate.300.20180907</td>\n",
       "      <td>silvertip.76.7.unit.a.2h</td>\n",
       "      <td>anadarko.petroleum.corporation</td>\n",
       "      <td>Silvertip 76 7 Unit A 2H</td>\n",
       "      <td>None</td>\n",
       "      <td>NaN</td>\n",
       "      <td>NaN</td>\n",
       "      <td>NaN</td>\n",
       "      <td>NaN</td>\n",
       "      <td>NaN</td>\n",
       "      <td>NaN</td>\n",
       "      <td>NaN</td>\n",
       "      <td>NaN</td>\n",
       "      <td>NaN</td>\n",
       "      <td>nan</td>\n",
       "    </tr>\n",
       "    <tr>\n",
       "      <th>3</th>\n",
       "      <td>2018-08-30</td>\n",
       "      <td>produced.fluid</td>\n",
       "      <td>nec.plate.300.20180907</td>\n",
       "      <td>silvertip.76.7.unit.a.2h</td>\n",
       "      <td>anadarko.petroleum.corporation</td>\n",
       "      <td>Silvertip 76 7 Unit A 2H</td>\n",
       "      <td>None</td>\n",
       "      <td>NaN</td>\n",
       "      <td>NaN</td>\n",
       "      <td>NaN</td>\n",
       "      <td>NaN</td>\n",
       "      <td>NaN</td>\n",
       "      <td>NaN</td>\n",
       "      <td>NaN</td>\n",
       "      <td>NaN</td>\n",
       "      <td>NaN</td>\n",
       "      <td>nan</td>\n",
       "    </tr>\n",
       "    <tr>\n",
       "      <th>4</th>\n",
       "      <td>2018-08-30</td>\n",
       "      <td>produced.fluid</td>\n",
       "      <td>nec.plate.300.20180907</td>\n",
       "      <td>silvertip.76.7.unit.a.2h</td>\n",
       "      <td>anadarko.petroleum.corporation</td>\n",
       "      <td>Silvertip 76 7 Unit A 2H</td>\n",
       "      <td>None</td>\n",
       "      <td>NaN</td>\n",
       "      <td>NaN</td>\n",
       "      <td>NaN</td>\n",
       "      <td>NaN</td>\n",
       "      <td>NaN</td>\n",
       "      <td>NaN</td>\n",
       "      <td>NaN</td>\n",
       "      <td>NaN</td>\n",
       "      <td>NaN</td>\n",
       "      <td>nan</td>\n",
       "    </tr>\n",
       "  </tbody>\n",
       "</table>\n",
       "</div>"
      ],
      "text/plain": [
       "  collectiondate fieldsampletype                necplate  \\\n",
       "0     2019-01-09  produced.fluid  nec.plate.405.20181226   \n",
       "1     2018-08-30  produced.fluid  nec.plate.300.20180907   \n",
       "2     2018-08-30  produced.fluid  nec.plate.300.20180907   \n",
       "3     2018-08-30  produced.fluid  nec.plate.300.20180907   \n",
       "4     2018-08-30  produced.fluid  nec.plate.300.20180907   \n",
       "\n",
       "                    wellname                         company  \\\n",
       "0  silvertip.76.7.unit.a.10h  anadarko.petroleum.corporation   \n",
       "1   silvertip.76.7.unit.a.2h  anadarko.petroleum.corporation   \n",
       "2   silvertip.76.7.unit.a.2h  anadarko.petroleum.corporation   \n",
       "3   silvertip.76.7.unit.a.2h  anadarko.petroleum.corporation   \n",
       "4   silvertip.76.7.unit.a.2h  anadarko.petroleum.corporation   \n",
       "\n",
       "           well_name_company targetformation  md  tvd  pcryield usage  \\\n",
       "0  Silvertip 76 7 Unit A 10H            None NaN  NaN       NaN   NaN   \n",
       "1   Silvertip 76 7 Unit A 2H            None NaN  NaN       NaN   NaN   \n",
       "2   Silvertip 76 7 Unit A 2H            None NaN  NaN       NaN   NaN   \n",
       "3   Silvertip 76 7 Unit A 2H            None NaN  NaN       NaN   NaN   \n",
       "4   Silvertip 76 7 Unit A 2H            None NaN  NaN       NaN   NaN   \n",
       "\n",
       "  sequencesampletype barcodesequence extractionplate sequencinggroup  \\\n",
       "0                NaN             NaN             NaN             NaN   \n",
       "1                NaN             NaN             NaN             NaN   \n",
       "2                NaN             NaN             NaN             NaN   \n",
       "3                NaN             NaN             NaN             NaN   \n",
       "4                NaN             NaN             NaN             NaN   \n",
       "\n",
       "  sequencingrunid fieldsampleuuid  \n",
       "0             NaN             nan  \n",
       "1             NaN             nan  \n",
       "2             NaN             nan  \n",
       "3             NaN             nan  \n",
       "4             NaN             nan  "
      ]
     },
     "execution_count": 104,
     "metadata": {},
     "output_type": "execute_result"
    }
   ],
   "source": [
    "wells.head()"
   ]
  },
  {
   "cell_type": "code",
   "execution_count": 11,
   "metadata": {},
   "outputs": [],
   "source": [
    "samples['ip'] = [days.days for days in (samples['collectiondate']\\\n",
    "                                                 - samples['firstproductiondate'])]"
   ]
  },
  {
   "cell_type": "code",
   "execution_count": 12,
   "metadata": {},
   "outputs": [
    {
     "data": {
      "text/plain": [
       "sequencesampletype\n",
       "negative.extraction.control     948\n",
       "oil.water                      1123\n",
       "dtype: int64"
      ]
     },
     "execution_count": 12,
     "metadata": {},
     "output_type": "execute_result"
    }
   ],
   "source": [
    "\n",
    "# quick check of the samples\n",
    "samples.groupby(['sequencesampletype']).size()"
   ]
  },
  {
   "cell_type": "code",
   "execution_count": 13,
   "metadata": {},
   "outputs": [
    {
     "name": "stdout",
     "output_type": "stream",
     "text": [
      "The filtering function dropped 0 samples and 24443 features\n"
     ]
    }
   ],
   "source": [
    "# Step 8: Get the data and features\n",
    "data, features = get_data({'_id': {'$in': samples.index.tolist()}})"
   ]
  },
  {
   "cell_type": "code",
   "execution_count": 14,
   "metadata": {},
   "outputs": [],
   "source": [
    "## Get fluids by well and date\n",
    "samples['welldate'] = samples.wellname + \"_\" + samples.collectiondate.astype(str)\n",
    "\n",
    "fluids = samples.loc[(samples.fieldsampletype=='produced.fluid')].copy()\n",
    "\n",
    "## Sometimes, sequences per sample will change because more features are passing the filter function,\n",
    "## so recalculate\n",
    "fluids['sequencespersample'] = data.reindex(fluids.index).sum(axis=1)"
   ]
  },
  {
   "cell_type": "code",
   "execution_count": 98,
   "metadata": {},
   "outputs": [],
   "source": [
    "#samples.groupby(\"wellname\")['collectiondate'].head()"
   ]
  },
  {
   "cell_type": "code",
   "execution_count": 25,
   "metadata": {},
   "outputs": [
    {
     "data": {
      "text/html": [
       "<div>\n",
       "<style scoped>\n",
       "    .dataframe tbody tr th:only-of-type {\n",
       "        vertical-align: middle;\n",
       "    }\n",
       "\n",
       "    .dataframe tbody tr th {\n",
       "        vertical-align: top;\n",
       "    }\n",
       "\n",
       "    .dataframe thead th {\n",
       "        text-align: right;\n",
       "    }\n",
       "</style>\n",
       "<table border=\"1\" class=\"dataframe\">\n",
       "  <thead>\n",
       "    <tr style=\"text-align: right;\">\n",
       "      <th></th>\n",
       "      <th>basin</th>\n",
       "      <th>collectiondate</th>\n",
       "      <th>company</th>\n",
       "      <th>fieldsamplecollectionlocation</th>\n",
       "      <th>fieldsampletype</th>\n",
       "      <th>md</th>\n",
       "      <th>play</th>\n",
       "      <th>state</th>\n",
       "      <th>tvd</th>\n",
       "      <th>wellname</th>\n",
       "      <th>...</th>\n",
       "      <th>labid</th>\n",
       "      <th>necfieldsampleuuid</th>\n",
       "      <th>forseqrun</th>\n",
       "      <th>firstproductiondate</th>\n",
       "      <th>targetformation</th>\n",
       "      <th>md_list</th>\n",
       "      <th>tvd_list</th>\n",
       "      <th>fieldsampleuuid</th>\n",
       "      <th>ip</th>\n",
       "      <th>welldate</th>\n",
       "    </tr>\n",
       "    <tr>\n",
       "      <th>sequencesampleuuid</th>\n",
       "      <th></th>\n",
       "      <th></th>\n",
       "      <th></th>\n",
       "      <th></th>\n",
       "      <th></th>\n",
       "      <th></th>\n",
       "      <th></th>\n",
       "      <th></th>\n",
       "      <th></th>\n",
       "      <th></th>\n",
       "      <th></th>\n",
       "      <th></th>\n",
       "      <th></th>\n",
       "      <th></th>\n",
       "      <th></th>\n",
       "      <th></th>\n",
       "      <th></th>\n",
       "      <th></th>\n",
       "      <th></th>\n",
       "      <th></th>\n",
       "      <th></th>\n",
       "    </tr>\n",
       "  </thead>\n",
       "  <tbody>\n",
       "    <tr>\n",
       "      <th>0015d21a-e423-4b76-8209-fd2f2d1e7ef1</th>\n",
       "      <td>permian.basin</td>\n",
       "      <td>2019-05-20</td>\n",
       "      <td>anadarko.petroleum.corporation</td>\n",
       "      <td>wellhead</td>\n",
       "      <td>produced.fluid</td>\n",
       "      <td>NaN</td>\n",
       "      <td>delaware</td>\n",
       "      <td>texas</td>\n",
       "      <td>NaN</td>\n",
       "      <td>silvertip.76.7.unit.a.7h</td>\n",
       "      <td>...</td>\n",
       "      <td>bio.01.9962</td>\n",
       "      <td>4c31d540-651b-4f11-a17a-e0eb8609a53e</td>\n",
       "      <td>1.0</td>\n",
       "      <td>2018-11-14</td>\n",
       "      <td>None</td>\n",
       "      <td>[None]</td>\n",
       "      <td>[None]</td>\n",
       "      <td>nan</td>\n",
       "      <td>187.0</td>\n",
       "      <td>silvertip.76.7.unit.a.7h_2019-05-20</td>\n",
       "    </tr>\n",
       "    <tr>\n",
       "      <th>007a3161-4bed-415c-90e0-d6df6d3f41bf</th>\n",
       "      <td>permian.basin</td>\n",
       "      <td>2018-12-19</td>\n",
       "      <td>anadarko.petroleum.corporation</td>\n",
       "      <td>wellhead</td>\n",
       "      <td>produced.fluid</td>\n",
       "      <td>NaN</td>\n",
       "      <td>delware</td>\n",
       "      <td>texas</td>\n",
       "      <td>NaN</td>\n",
       "      <td>silvertip.76.7.unit.a.3h</td>\n",
       "      <td>...</td>\n",
       "      <td>bio.02.1553</td>\n",
       "      <td>0e16bfe0-b6f1-4522-b77a-9311dd234492</td>\n",
       "      <td>1.0</td>\n",
       "      <td>2018-09-25</td>\n",
       "      <td>None</td>\n",
       "      <td>[None]</td>\n",
       "      <td>[None]</td>\n",
       "      <td>nan</td>\n",
       "      <td>85.0</td>\n",
       "      <td>silvertip.76.7.unit.a.3h_2018-12-19</td>\n",
       "    </tr>\n",
       "    <tr>\n",
       "      <th>009c98a1-2f45-4446-8d6e-ce11b098a16d</th>\n",
       "      <td>permian.basin</td>\n",
       "      <td>2018-08-30</td>\n",
       "      <td>anadarko.petroleum.corporation</td>\n",
       "      <td>separator</td>\n",
       "      <td>produced.fluid</td>\n",
       "      <td>NaN</td>\n",
       "      <td>delware</td>\n",
       "      <td>texas</td>\n",
       "      <td>NaN</td>\n",
       "      <td>silvertip.76.7.unit.a.2h</td>\n",
       "      <td>...</td>\n",
       "      <td>ana.05.0141</td>\n",
       "      <td>None</td>\n",
       "      <td>1.0</td>\n",
       "      <td>2018-08-29</td>\n",
       "      <td>None</td>\n",
       "      <td>[None]</td>\n",
       "      <td>[None]</td>\n",
       "      <td>nan</td>\n",
       "      <td>1.0</td>\n",
       "      <td>silvertip.76.7.unit.a.2h_2018-08-30</td>\n",
       "    </tr>\n",
       "    <tr>\n",
       "      <th>010667cc-aae4-461e-a263-3a125a39958a</th>\n",
       "      <td>permian.basin</td>\n",
       "      <td>2019-04-30</td>\n",
       "      <td>anadarko.petroleum.corporation</td>\n",
       "      <td>wellhead</td>\n",
       "      <td>produced.fluid</td>\n",
       "      <td>NaN</td>\n",
       "      <td>delware</td>\n",
       "      <td>texas</td>\n",
       "      <td>NaN</td>\n",
       "      <td>silvertip.76.7.unit.b.3h</td>\n",
       "      <td>...</td>\n",
       "      <td>bio.02.1122</td>\n",
       "      <td>7238f7a5-2fe4-4334-9d36-8816928c83d8</td>\n",
       "      <td>1.0</td>\n",
       "      <td>2018-12-19</td>\n",
       "      <td>None</td>\n",
       "      <td>[None]</td>\n",
       "      <td>[None]</td>\n",
       "      <td>nan</td>\n",
       "      <td>132.0</td>\n",
       "      <td>silvertip.76.7.unit.b.3h_2019-04-30</td>\n",
       "    </tr>\n",
       "    <tr>\n",
       "      <th>011cc09c-adf6-4ac8-90eb-e8b1b3e8e338</th>\n",
       "      <td>permian.basin</td>\n",
       "      <td>2019-06-19</td>\n",
       "      <td>anadarko.petroleum.corporation</td>\n",
       "      <td>wellhead</td>\n",
       "      <td>produced.fluid</td>\n",
       "      <td>NaN</td>\n",
       "      <td>delaware</td>\n",
       "      <td>texas</td>\n",
       "      <td>NaN</td>\n",
       "      <td>silvertip.76.7.unit.a.7h</td>\n",
       "      <td>...</td>\n",
       "      <td>bio.04.0444</td>\n",
       "      <td>8ba74dae-b971-4759-87fd-ce38910812a3</td>\n",
       "      <td>1.0</td>\n",
       "      <td>2018-11-14</td>\n",
       "      <td>None</td>\n",
       "      <td>[None]</td>\n",
       "      <td>[None]</td>\n",
       "      <td>nan</td>\n",
       "      <td>217.0</td>\n",
       "      <td>silvertip.76.7.unit.a.7h_2019-06-19</td>\n",
       "    </tr>\n",
       "  </tbody>\n",
       "</table>\n",
       "<p>5 rows × 33 columns</p>\n",
       "</div>"
      ],
      "text/plain": [
       "                                              basin collectiondate  \\\n",
       "sequencesampleuuid                                                   \n",
       "0015d21a-e423-4b76-8209-fd2f2d1e7ef1  permian.basin     2019-05-20   \n",
       "007a3161-4bed-415c-90e0-d6df6d3f41bf  permian.basin     2018-12-19   \n",
       "009c98a1-2f45-4446-8d6e-ce11b098a16d  permian.basin     2018-08-30   \n",
       "010667cc-aae4-461e-a263-3a125a39958a  permian.basin     2019-04-30   \n",
       "011cc09c-adf6-4ac8-90eb-e8b1b3e8e338  permian.basin     2019-06-19   \n",
       "\n",
       "                                                             company  \\\n",
       "sequencesampleuuid                                                     \n",
       "0015d21a-e423-4b76-8209-fd2f2d1e7ef1  anadarko.petroleum.corporation   \n",
       "007a3161-4bed-415c-90e0-d6df6d3f41bf  anadarko.petroleum.corporation   \n",
       "009c98a1-2f45-4446-8d6e-ce11b098a16d  anadarko.petroleum.corporation   \n",
       "010667cc-aae4-461e-a263-3a125a39958a  anadarko.petroleum.corporation   \n",
       "011cc09c-adf6-4ac8-90eb-e8b1b3e8e338  anadarko.petroleum.corporation   \n",
       "\n",
       "                                     fieldsamplecollectionlocation  \\\n",
       "sequencesampleuuid                                                   \n",
       "0015d21a-e423-4b76-8209-fd2f2d1e7ef1                      wellhead   \n",
       "007a3161-4bed-415c-90e0-d6df6d3f41bf                      wellhead   \n",
       "009c98a1-2f45-4446-8d6e-ce11b098a16d                     separator   \n",
       "010667cc-aae4-461e-a263-3a125a39958a                      wellhead   \n",
       "011cc09c-adf6-4ac8-90eb-e8b1b3e8e338                      wellhead   \n",
       "\n",
       "                                     fieldsampletype  md      play  state  \\\n",
       "sequencesampleuuid                                                          \n",
       "0015d21a-e423-4b76-8209-fd2f2d1e7ef1  produced.fluid NaN  delaware  texas   \n",
       "007a3161-4bed-415c-90e0-d6df6d3f41bf  produced.fluid NaN   delware  texas   \n",
       "009c98a1-2f45-4446-8d6e-ce11b098a16d  produced.fluid NaN   delware  texas   \n",
       "010667cc-aae4-461e-a263-3a125a39958a  produced.fluid NaN   delware  texas   \n",
       "011cc09c-adf6-4ac8-90eb-e8b1b3e8e338  produced.fluid NaN  delaware  texas   \n",
       "\n",
       "                                      tvd                  wellname  \\\n",
       "sequencesampleuuid                                                    \n",
       "0015d21a-e423-4b76-8209-fd2f2d1e7ef1  NaN  silvertip.76.7.unit.a.7h   \n",
       "007a3161-4bed-415c-90e0-d6df6d3f41bf  NaN  silvertip.76.7.unit.a.3h   \n",
       "009c98a1-2f45-4446-8d6e-ce11b098a16d  NaN  silvertip.76.7.unit.a.2h   \n",
       "010667cc-aae4-461e-a263-3a125a39958a  NaN  silvertip.76.7.unit.b.3h   \n",
       "011cc09c-adf6-4ac8-90eb-e8b1b3e8e338  NaN  silvertip.76.7.unit.a.7h   \n",
       "\n",
       "                                                     ...                   \\\n",
       "sequencesampleuuid                                   ...                    \n",
       "0015d21a-e423-4b76-8209-fd2f2d1e7ef1                 ...                    \n",
       "007a3161-4bed-415c-90e0-d6df6d3f41bf                 ...                    \n",
       "009c98a1-2f45-4446-8d6e-ce11b098a16d                 ...                    \n",
       "010667cc-aae4-461e-a263-3a125a39958a                 ...                    \n",
       "011cc09c-adf6-4ac8-90eb-e8b1b3e8e338                 ...                    \n",
       "\n",
       "                                            labid  \\\n",
       "sequencesampleuuid                                  \n",
       "0015d21a-e423-4b76-8209-fd2f2d1e7ef1  bio.01.9962   \n",
       "007a3161-4bed-415c-90e0-d6df6d3f41bf  bio.02.1553   \n",
       "009c98a1-2f45-4446-8d6e-ce11b098a16d  ana.05.0141   \n",
       "010667cc-aae4-461e-a263-3a125a39958a  bio.02.1122   \n",
       "011cc09c-adf6-4ac8-90eb-e8b1b3e8e338  bio.04.0444   \n",
       "\n",
       "                                                        necfieldsampleuuid  \\\n",
       "sequencesampleuuid                                                           \n",
       "0015d21a-e423-4b76-8209-fd2f2d1e7ef1  4c31d540-651b-4f11-a17a-e0eb8609a53e   \n",
       "007a3161-4bed-415c-90e0-d6df6d3f41bf  0e16bfe0-b6f1-4522-b77a-9311dd234492   \n",
       "009c98a1-2f45-4446-8d6e-ce11b098a16d                                  None   \n",
       "010667cc-aae4-461e-a263-3a125a39958a  7238f7a5-2fe4-4334-9d36-8816928c83d8   \n",
       "011cc09c-adf6-4ac8-90eb-e8b1b3e8e338  8ba74dae-b971-4759-87fd-ce38910812a3   \n",
       "\n",
       "                                      forseqrun firstproductiondate  \\\n",
       "sequencesampleuuid                                                    \n",
       "0015d21a-e423-4b76-8209-fd2f2d1e7ef1        1.0          2018-11-14   \n",
       "007a3161-4bed-415c-90e0-d6df6d3f41bf        1.0          2018-09-25   \n",
       "009c98a1-2f45-4446-8d6e-ce11b098a16d        1.0          2018-08-29   \n",
       "010667cc-aae4-461e-a263-3a125a39958a        1.0          2018-12-19   \n",
       "011cc09c-adf6-4ac8-90eb-e8b1b3e8e338        1.0          2018-11-14   \n",
       "\n",
       "                                     targetformation md_list tvd_list  \\\n",
       "sequencesampleuuid                                                      \n",
       "0015d21a-e423-4b76-8209-fd2f2d1e7ef1            None  [None]   [None]   \n",
       "007a3161-4bed-415c-90e0-d6df6d3f41bf            None  [None]   [None]   \n",
       "009c98a1-2f45-4446-8d6e-ce11b098a16d            None  [None]   [None]   \n",
       "010667cc-aae4-461e-a263-3a125a39958a            None  [None]   [None]   \n",
       "011cc09c-adf6-4ac8-90eb-e8b1b3e8e338            None  [None]   [None]   \n",
       "\n",
       "                                     fieldsampleuuid     ip  \\\n",
       "sequencesampleuuid                                            \n",
       "0015d21a-e423-4b76-8209-fd2f2d1e7ef1             nan  187.0   \n",
       "007a3161-4bed-415c-90e0-d6df6d3f41bf             nan   85.0   \n",
       "009c98a1-2f45-4446-8d6e-ce11b098a16d             nan    1.0   \n",
       "010667cc-aae4-461e-a263-3a125a39958a             nan  132.0   \n",
       "011cc09c-adf6-4ac8-90eb-e8b1b3e8e338             nan  217.0   \n",
       "\n",
       "                                                                 welldate  \n",
       "sequencesampleuuid                                                         \n",
       "0015d21a-e423-4b76-8209-fd2f2d1e7ef1  silvertip.76.7.unit.a.7h_2019-05-20  \n",
       "007a3161-4bed-415c-90e0-d6df6d3f41bf  silvertip.76.7.unit.a.3h_2018-12-19  \n",
       "009c98a1-2f45-4446-8d6e-ce11b098a16d  silvertip.76.7.unit.a.2h_2018-08-30  \n",
       "010667cc-aae4-461e-a263-3a125a39958a  silvertip.76.7.unit.b.3h_2019-04-30  \n",
       "011cc09c-adf6-4ac8-90eb-e8b1b3e8e338  silvertip.76.7.unit.a.7h_2019-06-19  \n",
       "\n",
       "[5 rows x 33 columns]"
      ]
     },
     "execution_count": 25,
     "metadata": {},
     "output_type": "execute_result"
    }
   ],
   "source": [
    "samples.head()"
   ]
  },
  {
   "cell_type": "code",
   "execution_count": 27,
   "metadata": {},
   "outputs": [
    {
     "data": {
      "text/plain": [
       "fieldsampletype  wellname                   collectiondate\n",
       "produced.fluid   silvertip.76.7.unit.a.10h  2018-12-12         5\n",
       "                                            2019-01-09         4\n",
       "                                            2019-01-17         5\n",
       "                                            2019-01-30         5\n",
       "                                            2019-03-12         5\n",
       "                                            2019-03-19         5\n",
       "                                            2019-03-21         4\n",
       "                                            2019-04-04         5\n",
       "                                            2019-04-17         5\n",
       "                                            2019-04-23         5\n",
       "                                            2019-04-30         5\n",
       "                                            2019-05-06         5\n",
       "                                            2019-05-15         5\n",
       "                                            2019-05-20         5\n",
       "                                            2019-05-29         5\n",
       "                                            2019-06-11         5\n",
       "                                            2019-06-15         5\n",
       "                                            2019-06-19         5\n",
       "                                            2019-06-24         5\n",
       "                                            2019-07-11         5\n",
       "                                            2019-07-17         5\n",
       "                 silvertip.76.7.unit.a.1h   2018-11-01         5\n",
       "                                            2018-11-08         5\n",
       "                                            2018-12-05         5\n",
       "                                            2018-12-19         5\n",
       "                                            2019-02-14         5\n",
       "                                            2019-03-05         5\n",
       "                                            2019-03-19         5\n",
       "                                            2019-05-06         5\n",
       "                                            2019-05-15         5\n",
       "                                                              ..\n",
       "                 silvertip.76.7.unit.b.2h   2019-04-23         5\n",
       "                                            2019-04-30         5\n",
       "                                            2019-05-06         5\n",
       "                                            2019-05-15         5\n",
       "                                            2019-05-20         5\n",
       "                                            2019-05-29         5\n",
       "                                            2019-06-11         5\n",
       "                                            2019-06-15         5\n",
       "                                            2019-06-19         5\n",
       "                                            2019-06-24         5\n",
       "                                            2019-07-11         5\n",
       "                                            2019-07-17         5\n",
       "                 silvertip.76.7.unit.b.3h   2019-01-09         5\n",
       "                                            2019-01-17         2\n",
       "                                            2019-03-12         5\n",
       "                                            2019-03-19         5\n",
       "                                            2019-03-21         5\n",
       "                                            2019-04-04         5\n",
       "                                            2019-04-23         5\n",
       "                                            2019-04-30         5\n",
       "                                            2019-05-06         5\n",
       "                                            2019-05-15         5\n",
       "                                            2019-05-20         5\n",
       "                                            2019-05-29         5\n",
       "                                            2019-06-11         5\n",
       "                                            2019-06-15         5\n",
       "                                            2019-06-19        10\n",
       "                                            2019-06-24         5\n",
       "                                            2019-07-11         5\n",
       "                                            2019-07-17         5\n",
       "Length: 228, dtype: int64"
      ]
     },
     "execution_count": 27,
     "metadata": {},
     "output_type": "execute_result"
    }
   ],
   "source": [
    "samples.groupby(['fieldsampletype', 'wellname', 'collectiondate']).size()"
   ]
  },
  {
   "cell_type": "code",
   "execution_count": null,
   "metadata": {},
   "outputs": [],
   "source": []
  }
 ],
 "metadata": {
  "kernelspec": {
   "display_name": "Python [conda env:qiime2-2019.1]",
   "language": "python",
   "name": "conda-env-qiime2-2019.1-py"
  },
  "language_info": {
   "codemirror_mode": {
    "name": "ipython",
    "version": 3
   },
   "file_extension": ".py",
   "mimetype": "text/x-python",
   "name": "python",
   "nbconvert_exporter": "python",
   "pygments_lexer": "ipython3",
   "version": "3.6.7"
  }
 },
 "nbformat": 4,
 "nbformat_minor": 2
}
