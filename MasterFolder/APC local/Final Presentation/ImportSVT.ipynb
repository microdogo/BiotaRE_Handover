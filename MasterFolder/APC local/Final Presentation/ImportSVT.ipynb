{
 "cells": [
  {
   "cell_type": "code",
   "execution_count": 3,
   "metadata": {},
   "outputs": [],
   "source": [
    "import pandas as pd\n",
    "import numpy as np\n",
    "import matplotlib.pyplot as plt\n",
    "import os\n",
    "%matplotlib inline"
   ]
  },
  {
   "cell_type": "code",
   "execution_count": 4,
   "metadata": {},
   "outputs": [],
   "source": [
    "fluidscs = pd.read_csv('fluids_passing_qc_FINAL.csv')"
   ]
  },
  {
   "cell_type": "code",
   "execution_count": 5,
   "metadata": {},
   "outputs": [],
   "source": [
    "#fluidscs.groupby('wellname', 'collectiondate')"
   ]
  },
  {
   "cell_type": "code",
   "execution_count": 6,
   "metadata": {},
   "outputs": [],
   "source": [
    "target_wells = [\"silvertip.76.7.unit.a.3h\",\n",
    "                    \"silvertip.76.7.unit.a.1h\",\n",
    "                    \"silvertip.76.7.unit.a.2h\",\n",
    "                    \"silvertip.76.7.unit.a.4h\",\n",
    "                    \"silvertip.76.7.unit.a.5h\",\n",
    "                    \"silvertip.76.7.unit.a.6h\",\n",
    "                    \"silvertip.76.7.unit.a.7h\",\n",
    "                    \"silvertip.76.7.unit.a.8h\",\n",
    "                    \"silvertip.76.7.unit.a.9h\",\n",
    "                    \"silvertip.76.7.unit.a.10h\",\n",
    "                    \"silvertip.76.7.unit.b.1h\",\n",
    "                    \"silvertip.76.7.unit.b.2h\",\n",
    "                    \"silvertip.76.7.unit.b.3h\"]"
   ]
  },
  {
   "cell_type": "code",
   "execution_count": 7,
   "metadata": {},
   "outputs": [],
   "source": [
    "datesdf = {}\n",
    "for well in target_wells:\n",
    "    df = fluidscs.loc[fluidscs['wellname'] == well]\n",
    "    datesdf[well] =  df.collectiondate.unique()"
   ]
  },
  {
   "cell_type": "code",
   "execution_count": 10,
   "metadata": {},
   "outputs": [],
   "source": [
    "dfdate = pd.to_datetime(datesdf['silvertip.76.7.unit.b.1h'])"
   ]
  },
  {
   "cell_type": "code",
   "execution_count": 11,
   "metadata": {},
   "outputs": [
    {
     "data": {
      "text/plain": [
       "DatetimeIndex([], dtype='datetime64[ns]', freq=None)"
      ]
     },
     "execution_count": 11,
     "metadata": {},
     "output_type": "execute_result"
    }
   ],
   "source": [
    "dfdate"
   ]
  },
  {
   "cell_type": "code",
   "execution_count": null,
   "metadata": {},
   "outputs": [],
   "source": []
  }
 ],
 "metadata": {
  "kernelspec": {
   "display_name": "Python [default]",
   "language": "python",
   "name": "python3"
  },
  "language_info": {
   "codemirror_mode": {
    "name": "ipython",
    "version": 3
   },
   "file_extension": ".py",
   "mimetype": "text/x-python",
   "name": "python",
   "nbconvert_exporter": "python",
   "pygments_lexer": "ipython3",
   "version": "3.6.6"
  }
 },
 "nbformat": 4,
 "nbformat_minor": 2
}
