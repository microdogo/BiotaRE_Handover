{
 "cells": [
  {
   "cell_type": "code",
   "execution_count": 1,
   "metadata": {},
   "outputs": [],
   "source": [
    "# Declaring path variables to make Basemap work in jupyter hub. Make sure that the conda environment path matches yours\n",
    "import os\n",
    "os.environ['PATH'] = '/home/jovyan/my-conda-envs/qiime2-2019.1/bin:' + os.environ['PATH']\n",
    "os.environ['PROJ_LIB'] = '/home/jovyan/my-conda-envs/qiime2-2019.1/share/proj'"
   ]
  },
  {
   "cell_type": "code",
   "execution_count": 2,
   "metadata": {},
   "outputs": [],
   "source": [
    "# General Tool Imports\n",
    "import numpy as np\n",
    "import pandas as pd\n",
    "import collections\n",
    "\n",
    "# Plotting Imports\n",
    "import matplotlib.pyplot as plt\n",
    "import seaborn as sns\n",
    "from matplotlib.patches import Rectangle\n",
    "\n",
    "# Biota Imports\n",
    "from biota.database import (get_samples,\n",
    "                            get_sample_data)\n",
    "from biota.util import (rarefy,\n",
    "                        make_tree,\n",
    "                        get_dms,\n",
    "                        filter_dm_and_map,\n",
    "                        get_tax_table)\n",
    "import biota.plot as bpl # used for internal plotting code\n",
    "\n",
    "# SourceTracker Imports\n",
    "from ipyparallel import Client\n",
    "from sourcetracker._sourcetracker import gibbs\n",
    "\n",
    "# Clustering imports\n",
    "from scipy.spatial.distance import pdist\n",
    "from scipy.cluster import hierarchy\n",
    "\n",
    "from skbio.stats.ordination import pcoa\n",
    "from matplotlib.lines import Line2D\n",
    "\n",
    "# Plot images in the notebook\n",
    "%matplotlib inline"
   ]
  },
  {
   "cell_type": "code",
   "execution_count": 24,
   "metadata": {},
   "outputs": [
    {
     "name": "stdout",
     "output_type": "stream",
     "text": [
      "The columns ['WellType', 'MudType', 'Notes'] in the sample grouping dictionary were not included in the samples dataframe\n",
      "The filtering function dropped 0 samples and 4698 features\n"
     ]
    }
   ],
   "source": [
    "# query all southwestern data\n",
    "query = {'Company': 'anadarko.petroleum.corporation','Well':{'$in':['silvertip.76.7.unit.a.6h']}}\n",
    "\n",
    "#query = {'Company': 'anadarko.petroleum.corporation','Well': 'silvertip.76.7.unit.a.6h'}\n",
    "\n",
    "samples, data, features = get_sample_data(query)\n",
    "\n",
    "# Adding sequences per sample to the Samples dataframe\n",
    "samples['SequencesPerSample'] = data.sum(axis=1) # sum the counts on a per row (per sample) basis"
   ]
  },
  {
   "cell_type": "code",
   "execution_count": 14,
   "metadata": {},
   "outputs": [
    {
     "name": "stdout",
     "output_type": "stream",
     "text": [
      "The filtering function dropped 0 samples and 71695 features\n",
      "The sample method dropped 59 samples with no sequence data.\n"
     ]
    }
   ],
   "source": [
    "# query all anadarko data\n",
    "#query = {'Company': 'anadarko.petroleum.corporation'}\n",
    "#samples, data, features = get_sample_data(query)\n",
    "\n",
    "# Adding sequences per sample to the Samples dataframe\n",
    "#samples['SequencesPerSample'] = data.sum(axis=1) # sum the counts on a per row (per sample) basis"
   ]
  },
  {
   "cell_type": "code",
   "execution_count": 18,
   "metadata": {},
   "outputs": [
    {
     "data": {
      "text/plain": [
       "(103, 2103)"
      ]
     },
     "execution_count": 18,
     "metadata": {},
     "output_type": "execute_result"
    }
   ],
   "source": [
    "data.shape"
   ]
  },
  {
   "cell_type": "code",
   "execution_count": 19,
   "metadata": {},
   "outputs": [
    {
     "name": "stderr",
     "output_type": "stream",
     "text": [
      "/home/jovyan/my-conda-envs/qiime2-2019.1/lib/python3.6/site-packages/ipykernel/__main__.py:2: FutureWarning: Interpreting tuple 'by' as a list of keys, rather than a single key. Use 'by=[...]' instead of 'by=(...)'. In the future, a tuple will always mean a single key.\n",
      "  from ipykernel import kernelapp as app\n"
     ]
    },
    {
     "data": {
      "text/plain": [
       "SequenceSampleType  Well                      CollectionDate     \n",
       "wellcutting         silvertip.76.7.unit.a.6h  2018-03-09 00:00:00     5\n",
       "                                              2018-03-10 00:00:00     6\n",
       "                                              2018-03-12 00:00:00     9\n",
       "                                              2018-03-13 00:00:00     8\n",
       "                                              2018-03-15 00:00:00    10\n",
       "                                              2018-03-18 00:00:00     5\n",
       "                                              2018-03-20 00:00:00     9\n",
       "                                              2018-03-21 00:00:00     4\n",
       "                                              3/3/2018               23\n",
       "                                              3/4/2018               21\n",
       "                                              3/5/2018                1\n",
       "                                              3/7/2018                2\n",
       "dtype: int64"
      ]
     },
     "execution_count": 19,
     "metadata": {},
     "output_type": "execute_result"
    }
   ],
   "source": [
    "# A quick groupby summary to see what we've pulled down\n",
    "samples.groupby(('SequenceSampleType', 'Well', 'CollectionDate')).size()"
   ]
  },
  {
   "cell_type": "code",
   "execution_count": null,
   "metadata": {},
   "outputs": [],
   "source": []
  }
 ],
 "metadata": {
  "kernelspec": {
   "display_name": "Python [conda env:qiime2-2019.1]",
   "language": "python",
   "name": "conda-env-qiime2-2019.1-py"
  },
  "language_info": {
   "codemirror_mode": {
    "name": "ipython",
    "version": 3
   },
   "file_extension": ".py",
   "mimetype": "text/x-python",
   "name": "python",
   "nbconvert_exporter": "python",
   "pygments_lexer": "ipython3",
   "version": "3.6.7"
  }
 },
 "nbformat": 4,
 "nbformat_minor": 2
}
