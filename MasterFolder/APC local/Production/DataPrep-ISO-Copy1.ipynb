{
 "cells": [
  {
   "cell_type": "code",
   "execution_count": 1,
   "metadata": {},
   "outputs": [],
   "source": [
    "# Declaring path variables to make Basemap work in jupyter hub. Make sure that the conda environment path matches yours\n",
    "import os\n",
    "os.environ['PATH'] = '/home/jovyan/my-conda-envs/qiime2-2019.1/bin:' + os.environ['PATH']\n",
    "os.environ['PROJ_LIB'] = '/home/jovyan/my-conda-envs/qiime2-2019.1/share/proj'"
   ]
  },
  {
   "cell_type": "code",
   "execution_count": 2,
   "metadata": {},
   "outputs": [],
   "source": [
    "# General Tool Imports\n",
    "import numpy as np\n",
    "import pandas as pd\n",
    "import matplotlib.pyplot as plt\n",
    "from matplotlib.lines import Line2D\n",
    "from mpl_toolkits.basemap import Basemap\n",
    "import biota\n",
    "import biota.plot as bpl\n",
    "import seaborn as sns\n",
    "import collections\n",
    "import matplotlib.patches as patches\n",
    "from matplotlib.patches import Rectangle\n",
    "import math\n",
    "\n",
    "from biota.database import (get_samples,\n",
    "                            get_sample_data,\n",
    "                            get_pg_connection,\n",
    "                            get_data)\n",
    "from biota.util import (rarefy,\n",
    "                        make_tree,\n",
    "                        get_dms,\n",
    "                        filter_dm_and_map,\n",
    "                        get_tax_table)\n",
    "from IPython.core.display import display, HTML\n",
    "from pickle import dump, load\n",
    "\n",
    "import lasio\n",
    "\n",
    "# SQL Query imports\n",
    "from sqlalchemy import create_engine, engine, inspect\n",
    "\n",
    "from functools import partial\n",
    "\n",
    "from ipyparallel import Client\n",
    "from sourcetracker import gibbs\n",
    "\n",
    "# Clustering imports\n",
    "from scipy.spatial.distance import pdist\n",
    "from scipy.cluster import hierarchy\n",
    "from skbio.stats.ordination import pcoa\n",
    "\n",
    "from biota.util import assign_formations\n",
    "\n",
    "\n",
    "%matplotlib inline"
   ]
  },
  {
   "cell_type": "code",
   "execution_count": 3,
   "metadata": {},
   "outputs": [],
   "source": [
    "df = pd.read_csv('PDX_DAILY_J752801_20190606_1H.csv')"
   ]
  },
  {
   "cell_type": "code",
   "execution_count": null,
   "metadata": {},
   "outputs": [],
   "source": []
  },
  {
   "cell_type": "code",
   "execution_count": 19,
   "metadata": {},
   "outputs": [],
   "source": [
    "ProdStart = df[df['Cum Oil Prod.'] > 3].index[0]"
   ]
  },
  {
   "cell_type": "code",
   "execution_count": 23,
   "metadata": {},
   "outputs": [
    {
     "data": {
      "text/plain": [
       "56"
      ]
     },
     "execution_count": 23,
     "metadata": {},
     "output_type": "execute_result"
    }
   ],
   "source": []
  },
  {
   "cell_type": "code",
   "execution_count": 25,
   "metadata": {},
   "outputs": [],
   "source": [
    "# Define Cums in days since online\n",
    "Mo3Date = ProdStart + 90\n",
    "Mo6Date = ProdStart + 180\n",
    "Mo9Date = ProdStart + 270"
   ]
  },
  {
   "cell_type": "code",
   "execution_count": 26,
   "metadata": {},
   "outputs": [],
   "source": [
    "Mo3Cum = df.loc[Mo3Date,'Cum Oil Prod.']\n",
    "Mo6Cum = df.loc[Mo3Date,'Cum Oil Prod.']\n",
    "Mo9Cum = df.loc[Mo3Date,'Cum Oil Prod.']"
   ]
  },
  {
   "cell_type": "code",
   "execution_count": 27,
   "metadata": {},
   "outputs": [
    {
     "name": "stdout",
     "output_type": "stream",
     "text": [
      "74019.89\n"
     ]
    }
   ],
   "source": [
    "print (Mo3Cum)\n",
    "print (Mo3Cum)\n",
    "print (Mo3Cum)"
   ]
  },
  {
   "cell_type": "code",
   "execution_count": 16,
   "metadata": {},
   "outputs": [
    {
     "ename": "AttributeError",
     "evalue": "'str' object has no attribute 'copy'",
     "output_type": "error",
     "traceback": [
      "\u001b[0;31m---------------------------------------------------------------------------\u001b[0m",
      "\u001b[0;31mAttributeError\u001b[0m                            Traceback (most recent call last)",
      "\u001b[0;32m<ipython-input-16-73eed70e128d>\u001b[0m in \u001b[0;36m<module>\u001b[0;34m\u001b[0m\n\u001b[0;32m----> 1\u001b[0;31m \u001b[0md\u001b[0m \u001b[0;34m=\u001b[0m \u001b[0mdf\u001b[0m\u001b[0;34m.\u001b[0m\u001b[0mloc\u001b[0m\u001b[0;34m[\u001b[0m\u001b[0;36m28\u001b[0m\u001b[0;34m,\u001b[0m\u001b[0;34m'Date and Time'\u001b[0m\u001b[0;34m]\u001b[0m\u001b[0;34m.\u001b[0m\u001b[0mcopy\u001b[0m\u001b[0;34m(\u001b[0m\u001b[0;34m)\u001b[0m\u001b[0;34m\u001b[0m\u001b[0;34m\u001b[0m\u001b[0m\n\u001b[0m",
      "\u001b[0;31mAttributeError\u001b[0m: 'str' object has no attribute 'copy'"
     ]
    }
   ],
   "source": [
    "d = df.loc[28,'Date and Time']"
   ]
  },
  {
   "cell_type": "raw",
   "metadata": {},
   "source": [
    "print(d)"
   ]
  },
  {
   "cell_type": "code",
   "execution_count": 8,
   "metadata": {},
   "outputs": [
    {
     "data": {
      "text/html": [
       "<div>\n",
       "<style scoped>\n",
       "    .dataframe tbody tr th:only-of-type {\n",
       "        vertical-align: middle;\n",
       "    }\n",
       "\n",
       "    .dataframe tbody tr th {\n",
       "        vertical-align: top;\n",
       "    }\n",
       "\n",
       "    .dataframe thead th {\n",
       "        text-align: right;\n",
       "    }\n",
       "</style>\n",
       "<table border=\"1\" class=\"dataframe\">\n",
       "  <thead>\n",
       "    <tr style=\"text-align: right;\">\n",
       "      <th></th>\n",
       "      <th>Well</th>\n",
       "      <th>Date and Time</th>\n",
       "      <th>Elapsed Time</th>\n",
       "      <th>Choke</th>\n",
       "      <th>Tubing Pressure</th>\n",
       "      <th>Casing Pressure</th>\n",
       "      <th>Gas Rate</th>\n",
       "      <th>Prod.</th>\n",
       "      <th>Oil Rate</th>\n",
       "      <th>Cum Oil Prod.</th>\n",
       "      <th>Water Rate</th>\n",
       "      <th>Cum Water</th>\n",
       "      <th>Remaining</th>\n",
       "      <th>Recovered</th>\n",
       "      <th>Water</th>\n",
       "    </tr>\n",
       "  </thead>\n",
       "  <tbody>\n",
       "    <tr>\n",
       "      <th>0</th>\n",
       "      <td>Silvertip 1H</td>\n",
       "      <td>9/26/2018</td>\n",
       "      <td>0.0</td>\n",
       "      <td>0.0</td>\n",
       "      <td>0.0</td>\n",
       "      <td>0.0</td>\n",
       "      <td>0.0</td>\n",
       "      <td>0.0</td>\n",
       "      <td>0.0</td>\n",
       "      <td>0.0</td>\n",
       "      <td>0.0</td>\n",
       "      <td>0.0</td>\n",
       "      <td>644487.97</td>\n",
       "      <td>0.0</td>\n",
       "      <td>NaN</td>\n",
       "    </tr>\n",
       "    <tr>\n",
       "      <th>1</th>\n",
       "      <td>Silvertip 1H</td>\n",
       "      <td>9/27/2018</td>\n",
       "      <td>24.0</td>\n",
       "      <td>0.0</td>\n",
       "      <td>0.0</td>\n",
       "      <td>0.0</td>\n",
       "      <td>0.0</td>\n",
       "      <td>0.0</td>\n",
       "      <td>0.0</td>\n",
       "      <td>0.0</td>\n",
       "      <td>0.0</td>\n",
       "      <td>0.0</td>\n",
       "      <td>644487.97</td>\n",
       "      <td>0.0</td>\n",
       "      <td>NaN</td>\n",
       "    </tr>\n",
       "    <tr>\n",
       "      <th>2</th>\n",
       "      <td>Silvertip 1H</td>\n",
       "      <td>9/28/2018</td>\n",
       "      <td>48.0</td>\n",
       "      <td>0.0</td>\n",
       "      <td>0.0</td>\n",
       "      <td>0.0</td>\n",
       "      <td>0.0</td>\n",
       "      <td>0.0</td>\n",
       "      <td>0.0</td>\n",
       "      <td>0.0</td>\n",
       "      <td>0.0</td>\n",
       "      <td>0.0</td>\n",
       "      <td>644487.97</td>\n",
       "      <td>0.0</td>\n",
       "      <td>NaN</td>\n",
       "    </tr>\n",
       "    <tr>\n",
       "      <th>3</th>\n",
       "      <td>Silvertip 1H</td>\n",
       "      <td>9/29/2018</td>\n",
       "      <td>72.0</td>\n",
       "      <td>0.0</td>\n",
       "      <td>0.0</td>\n",
       "      <td>0.0</td>\n",
       "      <td>0.0</td>\n",
       "      <td>0.0</td>\n",
       "      <td>0.0</td>\n",
       "      <td>0.0</td>\n",
       "      <td>0.0</td>\n",
       "      <td>0.0</td>\n",
       "      <td>644487.97</td>\n",
       "      <td>0.0</td>\n",
       "      <td>NaN</td>\n",
       "    </tr>\n",
       "    <tr>\n",
       "      <th>4</th>\n",
       "      <td>Silvertip 1H</td>\n",
       "      <td>9/30/2018</td>\n",
       "      <td>96.0</td>\n",
       "      <td>0.0</td>\n",
       "      <td>0.0</td>\n",
       "      <td>0.0</td>\n",
       "      <td>0.0</td>\n",
       "      <td>0.0</td>\n",
       "      <td>0.0</td>\n",
       "      <td>0.0</td>\n",
       "      <td>0.0</td>\n",
       "      <td>0.0</td>\n",
       "      <td>644487.97</td>\n",
       "      <td>0.0</td>\n",
       "      <td>NaN</td>\n",
       "    </tr>\n",
       "  </tbody>\n",
       "</table>\n",
       "</div>"
      ],
      "text/plain": [
       "           Well Date and Time  Elapsed Time  Choke  Tubing Pressure  \\\n",
       "0  Silvertip 1H     9/26/2018           0.0    0.0              0.0   \n",
       "1  Silvertip 1H     9/27/2018          24.0    0.0              0.0   \n",
       "2  Silvertip 1H     9/28/2018          48.0    0.0              0.0   \n",
       "3  Silvertip 1H     9/29/2018          72.0    0.0              0.0   \n",
       "4  Silvertip 1H     9/30/2018          96.0    0.0              0.0   \n",
       "\n",
       "   Casing Pressure  Gas Rate  Prod.  Oil Rate  Cum Oil Prod.  Water Rate  \\\n",
       "0              0.0       0.0    0.0       0.0            0.0         0.0   \n",
       "1              0.0       0.0    0.0       0.0            0.0         0.0   \n",
       "2              0.0       0.0    0.0       0.0            0.0         0.0   \n",
       "3              0.0       0.0    0.0       0.0            0.0         0.0   \n",
       "4              0.0       0.0    0.0       0.0            0.0         0.0   \n",
       "\n",
       "   Cum Water  Remaining  Recovered  Water  \n",
       "0        0.0  644487.97        0.0    NaN  \n",
       "1        0.0  644487.97        0.0    NaN  \n",
       "2        0.0  644487.97        0.0    NaN  \n",
       "3        0.0  644487.97        0.0    NaN  \n",
       "4        0.0  644487.97        0.0    NaN  "
      ]
     },
     "execution_count": 8,
     "metadata": {},
     "output_type": "execute_result"
    }
   ],
   "source": [
    "df.head()"
   ]
  },
  {
   "cell_type": "code",
   "execution_count": null,
   "metadata": {},
   "outputs": [],
   "source": [
    "#Create List of filenames\n",
    "file_names = ['Silvertip A 1H.csv','Silvertip A 2H.csv','Silvertip A 3H.csv','Silvertip A 4H.csv','Silvertip A 5H.csv','Silvertip A 6H.csv','Silvertip A 7H.csv','Silvertip A 8H.csv',\\\n",
    "              'Silvertip A 9H.csv','Silvertip A 10H.csv','Silvertip B 2H.csv','Silvertip B 3H.csv']\n",
    "well_names = ['STA1','STA2','STA3','STA4','STA5','STA6','STA7','STA8','STA9','STA10','STB2','STB3']"
   ]
  },
  {
   "cell_type": "code",
   "execution_count": null,
   "metadata": {},
   "outputs": [],
   "source": [
    "AB_wells = ['STA1','STA2','STA3','STA4','STA5','STA6','STA7','STA8','STA9','STA10','STB2','STB3']"
   ]
  },
  {
   "cell_type": "code",
   "execution_count": null,
   "metadata": {},
   "outputs": [],
   "source": [
    "AllWells = pd.read_csv('SILVERTIP_ALL_WELLS_IPSO_GENERAL_DATA.csv')"
   ]
  },
  {
   "cell_type": "code",
   "execution_count": null,
   "metadata": {},
   "outputs": [],
   "source": [
    "ABWells = AllWells.iloc[19:32,:].copy()"
   ]
  },
  {
   "cell_type": "code",
   "execution_count": null,
   "metadata": {},
   "outputs": [],
   "source": [
    "#Define comp_order \n",
    "online_order = {'SILVERTIP 76-7 UNIT A 10H' : 8,'SILVERTIP 76-7 UNIT A 9H' : 7, 'SILVERTIP 76-7 UNIT A 8H' : 4, 'SILVERTIP 76-7 UNIT A 7H' : 6, \\\n",
    " 'SILVERTIP 76-7 UNIT A 6H' : 11, 'SILVERTIP 76-7 UNIT A 5H' : 3, 'SILVERTIP 76-7 UNIT A 4H' : 9, 'SILVERTIP 76-7 UNIT A 3H' : 2, \\\n",
    " 'SILVERTIP 76-7 UNIT A 2H' : 1, 'SILVERTIP 76-7 UNIT A 1H' : 5, 'SILVERTIP 76-7 UNIT B 1H' : 0, 'SILVERTIP 76-7 UNIT B 2H' : 10, \\\n",
    " 'SILVERTIP 76-7 UNIT B 3H' : 12}"
   ]
  },
  {
   "cell_type": "code",
   "execution_count": null,
   "metadata": {},
   "outputs": [],
   "source": [
    "#Define frac_order \n",
    "frac_order = {'SILVERTIP 76-7 UNIT A 10H' : 8,'SILVERTIP 76-7 UNIT A 9H' : 7, 'SILVERTIP 76-7 UNIT A 8H' : 4, 'SILVERTIP 76-7 UNIT A 7H' : 6, \\\n",
    " 'SILVERTIP 76-7 UNIT A 6H' : 11, 'SILVERTIP 76-7 UNIT A 5H' : 3, 'SILVERTIP 76-7 UNIT A 4H' : 9, 'SILVERTIP 76-7 UNIT A 3H' : 2, \\\n",
    " 'SILVERTIP 76-7 UNIT A 2H' : 1, 'SILVERTIP 76-7 UNIT A 1H' : 5, 'SILVERTIP 76-7 UNIT B 1H' : 0, 'SILVERTIP 76-7 UNIT B 2H' : 10, \\\n",
    " 'SILVERTIP 76-7 UNIT B 3H' : 12}"
   ]
  },
  {
   "cell_type": "code",
   "execution_count": null,
   "metadata": {},
   "outputs": [],
   "source": [
    "ABWells['Order Online']= ABWells['Well Name'].map(online_order)"
   ]
  },
  {
   "cell_type": "code",
   "execution_count": null,
   "metadata": {},
   "outputs": [],
   "source": [
    "comp_para = ['Well Name','Order Online','Cumulative Oil Production (Current)','Cumulative Gas Production (Current)','Cumulative Water Production (Current)','Cumulative Liquid Production (Current)','Cumulative BOE Production (Current)']"
   ]
  },
  {
   "cell_type": "code",
   "execution_count": null,
   "metadata": {},
   "outputs": [],
   "source": [
    "ABComps = ABWells [comp_para].copy()"
   ]
  },
  {
   "cell_type": "code",
   "execution_count": null,
   "metadata": {},
   "outputs": [],
   "source": [
    "ABComps.head()"
   ]
  },
  {
   "cell_type": "code",
   "execution_count": null,
   "metadata": {},
   "outputs": [],
   "source": [
    "ABWells.head()"
   ]
  },
  {
   "cell_type": "code",
   "execution_count": null,
   "metadata": {},
   "outputs": [],
   "source": [
    "AllWells.head()"
   ]
  },
  {
   "cell_type": "code",
   "execution_count": null,
   "metadata": {},
   "outputs": [],
   "source": [
    "#Create dictionary of dataframes for each well \n",
    "dfs = {}\n",
    "for i in range(len(well_names)):\n",
    "    well = well_names[i]\n",
    "    filename = file_names[i]\n",
    "    dfs[well] = pd.read_csv(filename)"
   ]
  },
  {
   "cell_type": "code",
   "execution_count": null,
   "metadata": {},
   "outputs": [],
   "source": [
    "#Rearrange structure into easily plotted data\n",
    "for well in well_names:\n",
    "    dfs[well] = dfs[well].T\n",
    "    dfs[well].columns = dfs[well].iloc[0]\n",
    "    dfs[well].insert(0, 'Stages', value = dfs[well].index)\n",
    "    dfs[well] = dfs[well].set_index('Well Name').copy()\n",
    "    dfs[well] = dfs[well].drop(dfs[well].index[0]).copy()\n",
    "    dfs[well] = dfs[well].astype(float)"
   ]
  },
  {
   "cell_type": "code",
   "execution_count": null,
   "metadata": {},
   "outputs": [],
   "source": [
    "for well in well_names:\n",
    "    filename = 'C:/Users/jsawa/Documents/Biota/'+ well + '.csv'\n",
    "    print(filename)"
   ]
  },
  {
   "cell_type": "code",
   "execution_count": null,
   "metadata": {},
   "outputs": [],
   "source": [
    "for well in well_names:\n",
    "    #filename = well + '.csv'\n",
    "    filename = 'C:/Users/jsawa/Documents/Biota/'+ well + '.csv'\n",
    "    dfs[well].to_csv(rfilename)"
   ]
  },
  {
   "cell_type": "code",
   "execution_count": null,
   "metadata": {},
   "outputs": [],
   "source": [
    "dfs['STA3'].head()"
   ]
  },
  {
   "cell_type": "code",
   "execution_count": null,
   "metadata": {},
   "outputs": [],
   "source": [
    "dfs['STA3'].to_csv('Test.csv')"
   ]
  },
  {
   "cell_type": "code",
   "execution_count": null,
   "metadata": {},
   "outputs": [],
   "source": [
    "#Set list of relevant completion parameters\n",
    "Comp_vars = ['Total Proppant','Ave Rate','Ave Pres', 'Num Perfs','Total Fluid','Break Pres']\n"
   ]
  },
  {
   "cell_type": "code",
   "execution_count": null,
   "metadata": {},
   "outputs": [],
   "source": [
    "#Obtain list of all completion parameters\n",
    "All_comp_vars = dfs['STA1'].columns\n",
    "All_comp_vars"
   ]
  },
  {
   "cell_type": "code",
   "execution_count": null,
   "metadata": {},
   "outputs": [],
   "source": [
    "for col,well in enumerate(well_names):\n",
    "    print(col,well)\n",
    "    #fig = plt.figure()\n",
    "    #ax = sns.lineplot(x = dfs[well]['Stages'], y = dfs[well].loc[col], label = well)"
   ]
  },
  {
   "cell_type": "code",
   "execution_count": null,
   "metadata": {},
   "outputs": [],
   "source": [
    "#Plot completion parameter for each well\n",
    "for i in range(len(Comp_vars)):\n",
    "    fig = plt.figure()\n",
    "    plt.figure(figsize=(15,10))\n",
    "    for well in dfs:\n",
    "        #if well != 'STA6':\n",
    "        ax = sns.lineplot(x = dfs[well]['Stages'], y = dfs[well][Comp_vars[i]], label = well)\n",
    "        "
   ]
  },
  {
   "cell_type": "code",
   "execution_count": null,
   "metadata": {},
   "outputs": [],
   "source": [
    "T_vars = ['Ave Rate','Ave Pres']\n",
    "\n",
    "for i in range(len(T_vars)):\n",
    "    fig = plt.figure()\n",
    "    for well in dfs:\n",
    "        if well == 'STA6':\n",
    "            ax = sns.lineplot(x = dfs[well]['Stages'], y = (dfs[well]['Ave Rate'],dfs[well]['Ave Pres']), label = well)\n",
    "        "
   ]
  },
  {
   "cell_type": "code",
   "execution_count": null,
   "metadata": {},
   "outputs": [],
   "source": [
    "#ProdData_T"
   ]
  },
  {
   "cell_type": "code",
   "execution_count": null,
   "metadata": {},
   "outputs": [],
   "source": [
    "#ProdData_T.reset_index()\n",
    "#ProdData_T[\"Stage\"]\n",
    "\n",
    "ax = sns.lineplot(x=\"Stage\", y=\"Average Rate, bpm\", data=ProdData_T)\n",
    "\n"
   ]
  },
  {
   "cell_type": "code",
   "execution_count": null,
   "metadata": {},
   "outputs": [],
   "source": []
  }
 ],
 "metadata": {
  "kernelspec": {
   "display_name": "Python [conda env:qiime2-2019.1]",
   "language": "python",
   "name": "conda-env-qiime2-2019.1-py"
  },
  "language_info": {
   "codemirror_mode": {
    "name": "ipython",
    "version": 3
   },
   "file_extension": ".py",
   "mimetype": "text/x-python",
   "name": "python",
   "nbconvert_exporter": "python",
   "pygments_lexer": "ipython3",
   "version": "3.6.7"
  }
 },
 "nbformat": 4,
 "nbformat_minor": 2
}
