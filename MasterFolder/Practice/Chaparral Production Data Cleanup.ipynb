{
 "cells": [
  {
   "cell_type": "code",
   "execution_count": 2,
   "metadata": {},
   "outputs": [],
   "source": [
    "# Declaring path variables to make Basemap work in jupyter hub. Make sure that the conda environment path matches yours\n",
    "import os\n",
    "os.environ['PATH'] = '/home/jovyan/my-conda-envs/qiime2-2019.1/bin:' + os.environ['PATH']\n",
    "os.environ['PROJ_LIB'] = '/home/jovyan/my-conda-envs/qiime2-2019.1/share/proj'"
   ]
  },
  {
   "cell_type": "code",
   "execution_count": 3,
   "metadata": {},
   "outputs": [],
   "source": [
    "# General Tool Imports\n",
    "import numpy as np\n",
    "import pandas as pd\n",
    "import matplotlib.pyplot as plt\n",
    "from matplotlib.lines import Line2D\n",
    "import seaborn as sns\n",
    "import collections\n",
    "import matplotlib.patches as patches\n",
    "from matplotlib.patches import Rectangle\n",
    "import math\n",
    "\n",
    "from biota.database import (get_samples,\n",
    "                            get_sample_data,\n",
    "                            get_pg_connection,\n",
    "                            get_data)\n",
    "from biota.util import (rarefy,\n",
    "                        make_tree,\n",
    "                        get_dms,\n",
    "                        filter_dm_and_map,\n",
    "                        get_tax_table)\n",
    "from IPython.core.display import display, HTML\n",
    "from pickle import dump, load\n",
    "\n",
    "import lasio\n",
    "\n",
    "# SQL Query imports\n",
    "from sqlalchemy import create_engine, engine, inspect\n",
    "\n",
    "from functools import partial\n",
    "\n",
    "from ipyparallel import Client\n",
    "from sourcetracker import gibbs\n",
    "\n",
    "# Clustering imports\n",
    "from scipy.spatial.distance import pdist\n",
    "from scipy.cluster import hierarchy\n",
    "from skbio.stats.ordination import pcoa\n",
    "\n",
    "from biota.util import assign_formations\n",
    "\n",
    "\n",
    "%matplotlib inline"
   ]
  },
  {
   "cell_type": "code",
   "execution_count": 4,
   "metadata": {},
   "outputs": [],
   "source": [
    "waterpd = pd.read_excel('Foraker Water Rates Update 20191011 Local.xlsx')"
   ]
  },
  {
   "cell_type": "code",
   "execution_count": 5,
   "metadata": {},
   "outputs": [],
   "source": [
    "AllData = pd.read_excel('Foraker Production 10-14 Check v3.xlsx')"
   ]
  },
  {
   "cell_type": "code",
   "execution_count": 71,
   "metadata": {},
   "outputs": [],
   "source": [
    "#waterpd.head(10)"
   ]
  },
  {
   "cell_type": "code",
   "execution_count": 32,
   "metadata": {},
   "outputs": [],
   "source": [
    "waterpd = waterpd.set_index('Date Time').copy()"
   ]
  },
  {
   "cell_type": "code",
   "execution_count": 72,
   "metadata": {},
   "outputs": [],
   "source": [
    "#waterpd.head()"
   ]
  },
  {
   "cell_type": "code",
   "execution_count": 16,
   "metadata": {},
   "outputs": [],
   "source": [
    "colnames = waterpd.columns"
   ]
  },
  {
   "cell_type": "code",
   "execution_count": 49,
   "metadata": {},
   "outputs": [],
   "source": [
    "#waterpd['FORAKER 1207 9LMH-11'].head(20)"
   ]
  },
  {
   "cell_type": "code",
   "execution_count": 171,
   "metadata": {},
   "outputs": [],
   "source": [
    "welldfs = {}\n",
    "namdict = []\n",
    "for i,well in enumerate(colnames):\n",
    "    match = {i:well}\n",
    "    namdict.append(match)\n",
    "    welldfs[i] = waterpd[[well]].copy()\n",
    "    welldfs[i] = welldfs[i].reset_index()\n",
    "    welldfs[i]['Well'] = well\n",
    "    wellname = well\n",
    "    welldfs[i].columns = {'Date','GROSS WTR','X'}"
   ]
  },
  {
   "cell_type": "code",
   "execution_count": 177,
   "metadata": {},
   "outputs": [
    {
     "data": {
      "text/html": [
       "<div>\n",
       "<style scoped>\n",
       "    .dataframe tbody tr th:only-of-type {\n",
       "        vertical-align: middle;\n",
       "    }\n",
       "\n",
       "    .dataframe tbody tr th {\n",
       "        vertical-align: top;\n",
       "    }\n",
       "\n",
       "    .dataframe thead th {\n",
       "        text-align: right;\n",
       "    }\n",
       "</style>\n",
       "<table border=\"1\" class=\"dataframe\">\n",
       "  <thead>\n",
       "    <tr style=\"text-align: right;\">\n",
       "      <th></th>\n",
       "      <th>Date</th>\n",
       "      <th>X</th>\n",
       "      <th>GROSS WTR</th>\n",
       "    </tr>\n",
       "  </thead>\n",
       "  <tbody>\n",
       "    <tr>\n",
       "      <th>0</th>\n",
       "      <td>2019-03-23</td>\n",
       "      <td>NaN</td>\n",
       "      <td>FORAKER 1207 5WH-11</td>\n",
       "    </tr>\n",
       "    <tr>\n",
       "      <th>1</th>\n",
       "      <td>2019-03-24</td>\n",
       "      <td>NaN</td>\n",
       "      <td>FORAKER 1207 5WH-11</td>\n",
       "    </tr>\n",
       "    <tr>\n",
       "      <th>2</th>\n",
       "      <td>2019-03-25</td>\n",
       "      <td>NaN</td>\n",
       "      <td>FORAKER 1207 5WH-11</td>\n",
       "    </tr>\n",
       "    <tr>\n",
       "      <th>3</th>\n",
       "      <td>2019-03-26</td>\n",
       "      <td>NaN</td>\n",
       "      <td>FORAKER 1207 5WH-11</td>\n",
       "    </tr>\n",
       "    <tr>\n",
       "      <th>4</th>\n",
       "      <td>2019-03-27</td>\n",
       "      <td>NaN</td>\n",
       "      <td>FORAKER 1207 5WH-11</td>\n",
       "    </tr>\n",
       "  </tbody>\n",
       "</table>\n",
       "</div>"
      ],
      "text/plain": [
       "        Date   X            GROSS WTR\n",
       "0 2019-03-23 NaN  FORAKER 1207 5WH-11\n",
       "1 2019-03-24 NaN  FORAKER 1207 5WH-11\n",
       "2 2019-03-25 NaN  FORAKER 1207 5WH-11\n",
       "3 2019-03-26 NaN  FORAKER 1207 5WH-11\n",
       "4 2019-03-27 NaN  FORAKER 1207 5WH-11"
      ]
     },
     "execution_count": 177,
     "metadata": {},
     "output_type": "execute_result"
    }
   ],
   "source": [
    "welldfs[5].head()"
   ]
  },
  {
   "cell_type": "code",
   "execution_count": 178,
   "metadata": {},
   "outputs": [],
   "source": [
    "dflist = []\n",
    "for i,well in enumerate(welldfs):\n",
    "    item = welldfs[well]\n",
    "    dflist.append(item)"
   ]
  },
  {
   "cell_type": "code",
   "execution_count": 142,
   "metadata": {},
   "outputs": [],
   "source": [
    "soso = welldfs[10].copy()\n",
    "soso2 = welldfs[9].copy()"
   ]
  },
  {
   "cell_type": "code",
   "execution_count": 164,
   "metadata": {},
   "outputs": [],
   "source": [
    "#dflist = [soso,soso2]"
   ]
  },
  {
   "cell_type": "code",
   "execution_count": 179,
   "metadata": {},
   "outputs": [],
   "source": [
    "cpd = pd.concat(dflist)"
   ]
  },
  {
   "cell_type": "code",
   "execution_count": 186,
   "metadata": {},
   "outputs": [],
   "source": [
    "cpd.to_csv('../WaterRates.csv')"
   ]
  },
  {
   "cell_type": "code",
   "execution_count": 157,
   "metadata": {},
   "outputs": [],
   "source": [
    "#NewWaters = pd.concat(welldfs,ignore_index=True, sort=False)"
   ]
  },
  {
   "cell_type": "code",
   "execution_count": 158,
   "metadata": {},
   "outputs": [],
   "source": [
    "#NewWaters.head()"
   ]
  },
  {
   "cell_type": "code",
   "execution_count": 82,
   "metadata": {},
   "outputs": [],
   "source": [
    "welldfs[3].columns = {'A','B'}"
   ]
  },
  {
   "cell_type": "code",
   "execution_count": 93,
   "metadata": {},
   "outputs": [
    {
     "data": {
      "text/html": [
       "<div>\n",
       "<style scoped>\n",
       "    .dataframe tbody tr th:only-of-type {\n",
       "        vertical-align: middle;\n",
       "    }\n",
       "\n",
       "    .dataframe tbody tr th {\n",
       "        vertical-align: top;\n",
       "    }\n",
       "\n",
       "    .dataframe thead th {\n",
       "        text-align: right;\n",
       "    }\n",
       "</style>\n",
       "<table border=\"1\" class=\"dataframe\">\n",
       "  <thead>\n",
       "    <tr style=\"text-align: right;\">\n",
       "      <th></th>\n",
       "      <th>GROSS WTR</th>\n",
       "      <th>FORAKER 1207 1SMH-11</th>\n",
       "    </tr>\n",
       "    <tr>\n",
       "      <th>Date Time</th>\n",
       "      <th></th>\n",
       "      <th></th>\n",
       "    </tr>\n",
       "  </thead>\n",
       "  <tbody>\n",
       "    <tr>\n",
       "      <th>2019-03-23</th>\n",
       "      <td>NaN</td>\n",
       "      <td>FORAKER 1207 1SMH-11</td>\n",
       "    </tr>\n",
       "    <tr>\n",
       "      <th>2019-03-24</th>\n",
       "      <td>NaN</td>\n",
       "      <td>FORAKER 1207 1SMH-11</td>\n",
       "    </tr>\n",
       "    <tr>\n",
       "      <th>2019-03-25</th>\n",
       "      <td>NaN</td>\n",
       "      <td>FORAKER 1207 1SMH-11</td>\n",
       "    </tr>\n",
       "    <tr>\n",
       "      <th>2019-03-26</th>\n",
       "      <td>1166.60</td>\n",
       "      <td>FORAKER 1207 1SMH-11</td>\n",
       "    </tr>\n",
       "    <tr>\n",
       "      <th>2019-03-27</th>\n",
       "      <td>2200.91</td>\n",
       "      <td>FORAKER 1207 1SMH-11</td>\n",
       "    </tr>\n",
       "  </tbody>\n",
       "</table>\n",
       "</div>"
      ],
      "text/plain": [
       "            GROSS WTR  FORAKER 1207 1SMH-11\n",
       "Date Time                                  \n",
       "2019-03-23        NaN  FORAKER 1207 1SMH-11\n",
       "2019-03-24        NaN  FORAKER 1207 1SMH-11\n",
       "2019-03-25        NaN  FORAKER 1207 1SMH-11\n",
       "2019-03-26    1166.60  FORAKER 1207 1SMH-11\n",
       "2019-03-27    2200.91  FORAKER 1207 1SMH-11"
      ]
     },
     "execution_count": 93,
     "metadata": {},
     "output_type": "execute_result"
    }
   ],
   "source": [
    "welldfs[0].head()"
   ]
  },
  {
   "cell_type": "code",
   "execution_count": 187,
   "metadata": {},
   "outputs": [],
   "source": [
    "Julypd = pd.read_excel('ForakerProductionDataJulyV2.xlsx')"
   ]
  },
  {
   "cell_type": "code",
   "execution_count": null,
   "metadata": {},
   "outputs": [],
   "source": [
    "#Read updated water rates\n",
    "Julypd = pd.read_excel('ForakerProductionDataJulyV2.xlsx')"
   ]
  },
  {
   "cell_type": "code",
   "execution_count": 7,
   "metadata": {},
   "outputs": [],
   "source": [
    "#Group original data by well\n",
    "CDpd = AllData.groupby('Well')\n",
    "CDnames = AllData.Well.unique()\n"
   ]
  },
  {
   "cell_type": "code",
   "execution_count": null,
   "metadata": {},
   "outputs": [],
   "source": []
  },
  {
   "cell_type": "code",
   "execution_count": 188,
   "metadata": {},
   "outputs": [],
   "source": [
    "waterpd = pd.read_csv('WaterRatesCompiled.csv')"
   ]
  },
  {
   "cell_type": "code",
   "execution_count": 191,
   "metadata": {},
   "outputs": [],
   "source": [
    "prod = Julypd.copy()"
   ]
  },
  {
   "cell_type": "code",
   "execution_count": 201,
   "metadata": {},
   "outputs": [],
   "source": [
    "groupedwells = prod.groupby('Well')"
   ]
  },
  {
   "cell_type": "code",
   "execution_count": 283,
   "metadata": {},
   "outputs": [],
   "source": [
    "fifi11 = groupedwells.get_group('FORAKER 1207 1SMH-11').copy()"
   ]
  },
  {
   "cell_type": "code",
   "execution_count": 199,
   "metadata": {},
   "outputs": [],
   "source": [
    "prod['Recon WTR'] = 0"
   ]
  },
  {
   "cell_type": "code",
   "execution_count": 204,
   "metadata": {},
   "outputs": [],
   "source": [
    "watergroups = waterpd.groupby('Well')\n"
   ]
  },
  {
   "cell_type": "code",
   "execution_count": 279,
   "metadata": {},
   "outputs": [],
   "source": [
    "soso = watergroups.get_group('FORAKER 1207 1SMH-11').copy()"
   ]
  },
  {
   "cell_type": "code",
   "execution_count": 276,
   "metadata": {},
   "outputs": [],
   "source": [
    "wellnames = prod.Well.unique()\n",
    "waternames = waterpd.Well.unique()"
   ]
  },
  {
   "cell_type": "code",
   "execution_count": 324,
   "metadata": {},
   "outputs": [],
   "source": [
    "newdfs = {}\n",
    "#import datetime\n",
    "for i,well in enumerate(groupedwells):\n",
    "    wellname = wellnames[i]\n",
    "    waterwell = watergroups.get_group(wellname).copy()\n",
    "    wellpd = groupedwells.get_group(wellname).copy()\n",
    "    waterwell['PERIOD'] = pd.to_datetime(waterwell['PERIOD'])\n",
    "    waterdic = waterwell.set_index('PERIOD')['GROSS WTR'].to_dict()\n",
    "    wellpd['RECON WTR'] = wellpd['PERIOD'].map(waterdic)\n",
    "    wellpd['RECON WCT'] = 100*wellpd['RECON WTR'] / (wellpd['RECON WTR']+wellpd['GROSS OIL'])\n",
    "    wellpd ['WCT'] = 100*wellpd['GROSS WTR'] / (wellpd['GROSS WTR']+wellpd['GROSS OIL'])\n",
    "    wellpd ['Liq Rate'] = wellpd['GROSS WTR']+wellpd['GROSS OIL']\n",
    "    wellpd ['RECON Liq Rate'] = wellpd['RECON WTR']+wellpd['GROSS OIL']\n",
    "    newdfs[i]=wellpd"
   ]
  },
  {
   "cell_type": "code",
   "execution_count": 325,
   "metadata": {},
   "outputs": [
    {
     "data": {
      "text/html": [
       "<div>\n",
       "<style scoped>\n",
       "    .dataframe tbody tr th:only-of-type {\n",
       "        vertical-align: middle;\n",
       "    }\n",
       "\n",
       "    .dataframe tbody tr th {\n",
       "        vertical-align: top;\n",
       "    }\n",
       "\n",
       "    .dataframe thead th {\n",
       "        text-align: right;\n",
       "    }\n",
       "</style>\n",
       "<table border=\"1\" class=\"dataframe\">\n",
       "  <thead>\n",
       "    <tr style=\"text-align: right;\">\n",
       "      <th></th>\n",
       "      <th>Well</th>\n",
       "      <th>PERIOD</th>\n",
       "      <th>TP</th>\n",
       "      <th>CP</th>\n",
       "      <th>BH</th>\n",
       "      <th>GROSS OIL</th>\n",
       "      <th>GROSS WTR</th>\n",
       "      <th>GROSS GAS</th>\n",
       "      <th>GROSS BOE</th>\n",
       "      <th>Downtime</th>\n",
       "      <th>...</th>\n",
       "      <th>Days Online</th>\n",
       "      <th>Formation</th>\n",
       "      <th>Pad</th>\n",
       "      <th>Comp Order</th>\n",
       "      <th>Recon WTR</th>\n",
       "      <th>RECON WTR</th>\n",
       "      <th>RECON WCT</th>\n",
       "      <th>WCT</th>\n",
       "      <th>Liq Rate</th>\n",
       "      <th>RECON Liq Rate</th>\n",
       "    </tr>\n",
       "  </thead>\n",
       "  <tbody>\n",
       "    <tr>\n",
       "      <th>NaN</th>\n",
       "      <td>FORAKER 1207 11SMH-11</td>\n",
       "      <td>2019-04-05</td>\n",
       "      <td>0.0</td>\n",
       "      <td>1268.0</td>\n",
       "      <td>NaN</td>\n",
       "      <td>366.92</td>\n",
       "      <td>664.0</td>\n",
       "      <td>172.0</td>\n",
       "      <td>395.5867</td>\n",
       "      <td>0.0</td>\n",
       "      <td>...</td>\n",
       "      <td>1</td>\n",
       "      <td>SM</td>\n",
       "      <td>Pad1</td>\n",
       "      <td>6Z</td>\n",
       "      <td>0</td>\n",
       "      <td>664.34</td>\n",
       "      <td>64.420224</td>\n",
       "      <td>64.408490</td>\n",
       "      <td>1030.92</td>\n",
       "      <td>1031.26</td>\n",
       "    </tr>\n",
       "    <tr>\n",
       "      <th>NaN</th>\n",
       "      <td>FORAKER 1207 11SMH-11</td>\n",
       "      <td>2019-04-06</td>\n",
       "      <td>0.0</td>\n",
       "      <td>1328.0</td>\n",
       "      <td>NaN</td>\n",
       "      <td>718.20</td>\n",
       "      <td>2176.0</td>\n",
       "      <td>1108.0</td>\n",
       "      <td>902.8667</td>\n",
       "      <td>0.0</td>\n",
       "      <td>...</td>\n",
       "      <td>2</td>\n",
       "      <td>SM</td>\n",
       "      <td>Pad1</td>\n",
       "      <td>6Z</td>\n",
       "      <td>0</td>\n",
       "      <td>2196.67</td>\n",
       "      <td>75.360822</td>\n",
       "      <td>75.184852</td>\n",
       "      <td>2894.20</td>\n",
       "      <td>2914.87</td>\n",
       "    </tr>\n",
       "    <tr>\n",
       "      <th>NaN</th>\n",
       "      <td>FORAKER 1207 11SMH-11</td>\n",
       "      <td>2019-04-07</td>\n",
       "      <td>0.0</td>\n",
       "      <td>1247.0</td>\n",
       "      <td>NaN</td>\n",
       "      <td>412.89</td>\n",
       "      <td>2525.0</td>\n",
       "      <td>1678.0</td>\n",
       "      <td>692.5567</td>\n",
       "      <td>0.0</td>\n",
       "      <td>...</td>\n",
       "      <td>3</td>\n",
       "      <td>SM</td>\n",
       "      <td>Pad1</td>\n",
       "      <td>6Z</td>\n",
       "      <td>0</td>\n",
       "      <td>2525.09</td>\n",
       "      <td>85.946467</td>\n",
       "      <td>85.946036</td>\n",
       "      <td>2937.89</td>\n",
       "      <td>2937.98</td>\n",
       "    </tr>\n",
       "    <tr>\n",
       "      <th>NaN</th>\n",
       "      <td>FORAKER 1207 11SMH-11</td>\n",
       "      <td>2019-04-08</td>\n",
       "      <td>0.0</td>\n",
       "      <td>1247.0</td>\n",
       "      <td>NaN</td>\n",
       "      <td>631.48</td>\n",
       "      <td>3212.0</td>\n",
       "      <td>1576.0</td>\n",
       "      <td>894.1467</td>\n",
       "      <td>0.0</td>\n",
       "      <td>...</td>\n",
       "      <td>4</td>\n",
       "      <td>SM</td>\n",
       "      <td>Pad1</td>\n",
       "      <td>6Z</td>\n",
       "      <td>0</td>\n",
       "      <td>2018.82</td>\n",
       "      <td>76.173263</td>\n",
       "      <td>83.570098</td>\n",
       "      <td>3843.48</td>\n",
       "      <td>2650.30</td>\n",
       "    </tr>\n",
       "    <tr>\n",
       "      <th>NaN</th>\n",
       "      <td>FORAKER 1207 11SMH-11</td>\n",
       "      <td>2019-04-09</td>\n",
       "      <td>0.0</td>\n",
       "      <td>1219.0</td>\n",
       "      <td>NaN</td>\n",
       "      <td>755.55</td>\n",
       "      <td>2116.0</td>\n",
       "      <td>1890.0</td>\n",
       "      <td>1070.5500</td>\n",
       "      <td>0.0</td>\n",
       "      <td>...</td>\n",
       "      <td>5</td>\n",
       "      <td>SM</td>\n",
       "      <td>Pad1</td>\n",
       "      <td>6Z</td>\n",
       "      <td>0</td>\n",
       "      <td>2018.82</td>\n",
       "      <td>72.766790</td>\n",
       "      <td>73.688426</td>\n",
       "      <td>2871.55</td>\n",
       "      <td>2774.37</td>\n",
       "    </tr>\n",
       "  </tbody>\n",
       "</table>\n",
       "<p>5 rows × 23 columns</p>\n",
       "</div>"
      ],
      "text/plain": [
       "                      Well     PERIOD   TP      CP  BH  GROSS OIL  GROSS WTR  \\\n",
       "NaN  FORAKER 1207 11SMH-11 2019-04-05  0.0  1268.0 NaN     366.92      664.0   \n",
       "NaN  FORAKER 1207 11SMH-11 2019-04-06  0.0  1328.0 NaN     718.20     2176.0   \n",
       "NaN  FORAKER 1207 11SMH-11 2019-04-07  0.0  1247.0 NaN     412.89     2525.0   \n",
       "NaN  FORAKER 1207 11SMH-11 2019-04-08  0.0  1247.0 NaN     631.48     3212.0   \n",
       "NaN  FORAKER 1207 11SMH-11 2019-04-09  0.0  1219.0 NaN     755.55     2116.0   \n",
       "\n",
       "     GROSS GAS  GROSS BOE  Downtime       ...       Days Online  Formation  \\\n",
       "NaN      172.0   395.5867       0.0       ...                 1         SM   \n",
       "NaN     1108.0   902.8667       0.0       ...                 2         SM   \n",
       "NaN     1678.0   692.5567       0.0       ...                 3         SM   \n",
       "NaN     1576.0   894.1467       0.0       ...                 4         SM   \n",
       "NaN     1890.0  1070.5500       0.0       ...                 5         SM   \n",
       "\n",
       "      Pad  Comp Order Recon WTR RECON WTR  RECON WCT        WCT  Liq Rate  \\\n",
       "NaN  Pad1          6Z         0    664.34  64.420224  64.408490   1030.92   \n",
       "NaN  Pad1          6Z         0   2196.67  75.360822  75.184852   2894.20   \n",
       "NaN  Pad1          6Z         0   2525.09  85.946467  85.946036   2937.89   \n",
       "NaN  Pad1          6Z         0   2018.82  76.173263  83.570098   3843.48   \n",
       "NaN  Pad1          6Z         0   2018.82  72.766790  73.688426   2871.55   \n",
       "\n",
       "     RECON Liq Rate  \n",
       "NaN         1031.26  \n",
       "NaN         2914.87  \n",
       "NaN         2937.98  \n",
       "NaN         2650.30  \n",
       "NaN         2774.37  \n",
       "\n",
       "[5 rows x 23 columns]"
      ]
     },
     "execution_count": 325,
     "metadata": {},
     "output_type": "execute_result"
    }
   ],
   "source": [
    "newdfs[10].head()"
   ]
  },
  {
   "cell_type": "code",
   "execution_count": 326,
   "metadata": {},
   "outputs": [],
   "source": [
    "Alldfs = pd.concat(newdfs)"
   ]
  },
  {
   "cell_type": "code",
   "execution_count": 327,
   "metadata": {},
   "outputs": [],
   "source": [
    "Alldfs.to_csv('../Practice/UpdatedForakerWTR V3.csv')"
   ]
  },
  {
   "cell_type": "code",
   "execution_count": 310,
   "metadata": {},
   "outputs": [],
   "source": [
    "#fifi = prod.merge(waterpd[['Well']])"
   ]
  },
  {
   "cell_type": "code",
   "execution_count": null,
   "metadata": {},
   "outputs": [],
   "source": []
  },
  {
   "cell_type": "code",
   "execution_count": null,
   "metadata": {},
   "outputs": [],
   "source": []
  }
 ],
 "metadata": {
  "kernelspec": {
   "display_name": "Python [conda env:qiime2-2019.1]",
   "language": "python",
   "name": "conda-env-qiime2-2019.1-py"
  },
  "language_info": {
   "codemirror_mode": {
    "name": "ipython",
    "version": 3
   },
   "file_extension": ".py",
   "mimetype": "text/x-python",
   "name": "python",
   "nbconvert_exporter": "python",
   "pygments_lexer": "ipython3",
   "version": "3.6.7"
  }
 },
 "nbformat": 4,
 "nbformat_minor": 2
}
