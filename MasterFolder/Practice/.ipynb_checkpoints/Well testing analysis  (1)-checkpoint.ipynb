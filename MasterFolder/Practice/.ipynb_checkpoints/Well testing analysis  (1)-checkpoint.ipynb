{
 "cells": [
  {
   "cell_type": "code",
   "execution_count": 1,
   "metadata": {},
   "outputs": [],
   "source": [
    "import pandas as pd\n",
    "import numpy as np\n",
    "import matplotlib.pyplot as plt\n",
    "import os\n",
    "%matplotlib inline\n",
    "import math "
   ]
  },
  {
   "cell_type": "code",
   "execution_count": 14,
   "metadata": {},
   "outputs": [
    {
     "data": {
      "text/plain": [
       "'/home/jovyan'"
      ]
     },
     "execution_count": 14,
     "metadata": {},
     "output_type": "execute_result"
    }
   ],
   "source": [
    "os.getcwd()"
   ]
  },
  {
   "cell_type": "code",
   "execution_count": 15,
   "metadata": {},
   "outputs": [],
   "source": [
    "Prod = pd.read_csv('ProdData.csv')"
   ]
  },
  {
   "cell_type": "code",
   "execution_count": 16,
   "metadata": {},
   "outputs": [
    {
     "data": {
      "text/plain": [
       "50"
      ]
     },
     "execution_count": 16,
     "metadata": {},
     "output_type": "execute_result"
    }
   ],
   "source": [
    "len(Prod)"
   ]
  },
  {
   "cell_type": "code",
   "execution_count": 22,
   "metadata": {},
   "outputs": [
    {
     "data": {
      "text/html": [
       "<div>\n",
       "<style scoped>\n",
       "    .dataframe tbody tr th:only-of-type {\n",
       "        vertical-align: middle;\n",
       "    }\n",
       "\n",
       "    .dataframe tbody tr th {\n",
       "        vertical-align: top;\n",
       "    }\n",
       "\n",
       "    .dataframe thead th {\n",
       "        text-align: right;\n",
       "    }\n",
       "</style>\n",
       "<table border=\"1\" class=\"dataframe\">\n",
       "  <thead>\n",
       "    <tr style=\"text-align: right;\">\n",
       "      <th></th>\n",
       "      <th>name</th>\n",
       "      <th>date</th>\n",
       "      <th>month</th>\n",
       "      <th>year</th>\n",
       "      <th>Oil_bbl</th>\n",
       "      <th>Gas_Mcf</th>\n",
       "      <th>Water_bbl</th>\n",
       "      <th>boe _ Monthly</th>\n",
       "      <th>Month</th>\n",
       "      <th>Daily</th>\n",
       "      <th>SqrDaily</th>\n",
       "      <th>OilRateDailyInverse</th>\n",
       "    </tr>\n",
       "  </thead>\n",
       "  <tbody>\n",
       "    <tr>\n",
       "      <th>0</th>\n",
       "      <td>PECK STATE 258 6H</td>\n",
       "      <td>2014-12-01T00:00:00</td>\n",
       "      <td>0</td>\n",
       "      <td>0</td>\n",
       "      <td>35381</td>\n",
       "      <td>25113</td>\n",
       "      <td>17208</td>\n",
       "      <td>39566.50000</td>\n",
       "      <td>1</td>\n",
       "      <td>30</td>\n",
       "      <td>5.477226</td>\n",
       "      <td>0.000860</td>\n",
       "    </tr>\n",
       "    <tr>\n",
       "      <th>1</th>\n",
       "      <td>PECK STATE 258 6H</td>\n",
       "      <td>2015-01-01T00:00:00</td>\n",
       "      <td>0</td>\n",
       "      <td>0</td>\n",
       "      <td>29858</td>\n",
       "      <td>30149</td>\n",
       "      <td>16337</td>\n",
       "      <td>34882.83333</td>\n",
       "      <td>2</td>\n",
       "      <td>60</td>\n",
       "      <td>7.745967</td>\n",
       "      <td>0.001019</td>\n",
       "    </tr>\n",
       "    <tr>\n",
       "      <th>2</th>\n",
       "      <td>PECK STATE 258 6H</td>\n",
       "      <td>2015-02-01T00:00:00</td>\n",
       "      <td>0</td>\n",
       "      <td>0</td>\n",
       "      <td>32714</td>\n",
       "      <td>27494</td>\n",
       "      <td>16094</td>\n",
       "      <td>37296.33333</td>\n",
       "      <td>3</td>\n",
       "      <td>90</td>\n",
       "      <td>9.486833</td>\n",
       "      <td>0.000930</td>\n",
       "    </tr>\n",
       "    <tr>\n",
       "      <th>3</th>\n",
       "      <td>PECK STATE 258 6H</td>\n",
       "      <td>2015-03-01T00:00:00</td>\n",
       "      <td>0</td>\n",
       "      <td>0</td>\n",
       "      <td>34951</td>\n",
       "      <td>23282</td>\n",
       "      <td>15410</td>\n",
       "      <td>38831.33333</td>\n",
       "      <td>4</td>\n",
       "      <td>120</td>\n",
       "      <td>10.954451</td>\n",
       "      <td>0.000871</td>\n",
       "    </tr>\n",
       "    <tr>\n",
       "      <th>4</th>\n",
       "      <td>PECK STATE 258 6H</td>\n",
       "      <td>2015-04-01T00:00:00</td>\n",
       "      <td>0</td>\n",
       "      <td>0</td>\n",
       "      <td>29157</td>\n",
       "      <td>12509</td>\n",
       "      <td>10956</td>\n",
       "      <td>31241.83333</td>\n",
       "      <td>5</td>\n",
       "      <td>150</td>\n",
       "      <td>12.247449</td>\n",
       "      <td>0.001044</td>\n",
       "    </tr>\n",
       "  </tbody>\n",
       "</table>\n",
       "</div>"
      ],
      "text/plain": [
       "                name                 date  month  year  Oil_bbl  Gas_Mcf  \\\n",
       "0  PECK STATE 258 6H  2014-12-01T00:00:00      0     0    35381    25113   \n",
       "1  PECK STATE 258 6H  2015-01-01T00:00:00      0     0    29858    30149   \n",
       "2  PECK STATE 258 6H  2015-02-01T00:00:00      0     0    32714    27494   \n",
       "3  PECK STATE 258 6H  2015-03-01T00:00:00      0     0    34951    23282   \n",
       "4  PECK STATE 258 6H  2015-04-01T00:00:00      0     0    29157    12509   \n",
       "\n",
       "   Water_bbl  boe _ Monthly  Month  Daily   SqrDaily  OilRateDailyInverse  \n",
       "0      17208    39566.50000      1     30   5.477226             0.000860  \n",
       "1      16337    34882.83333      2     60   7.745967             0.001019  \n",
       "2      16094    37296.33333      3     90   9.486833             0.000930  \n",
       "3      15410    38831.33333      4    120  10.954451             0.000871  \n",
       "4      10956    31241.83333      5    150  12.247449             0.001044  "
      ]
     },
     "execution_count": 22,
     "metadata": {},
     "output_type": "execute_result"
    }
   ],
   "source": [
    "Prod['Month'] = range(1, 1 + len(Prod))\n",
    "Prod['Daily'] = Prod['Month'] * 30 \n",
    "Prod['SqrDaily'] =Prod['Daily']**0.5\n",
    "Prod['OilRateDailyInverse'] = (Prod['Oil_bbl']/30.4375)**-1\n",
    "Prod.head()"
   ]
  },
  {
   "cell_type": "code",
   "execution_count": 20,
   "metadata": {},
   "outputs": [],
   "source": [
    "#ProdSqrt = np.sqrt(Prod['Oil_bbl'])"
   ]
  },
  {
   "cell_type": "code",
   "execution_count": 29,
   "metadata": {},
   "outputs": [
    {
     "data": {
      "image/png": "[encoded data removed]",
      "text/plain": [
       "<Figure size 432x288 with 1 Axes>"
      ]
     },
     "metadata": {},
     "output_type": "display_data"
    }
   ],
   "source": [
    "plt.scatter(Prod['SqrDaily'],Prod['OilRateDailyInverse'])\n",
    "plt.title('Inversed daily rate vs. squared days')\n",
    "plt.xlabel('Squared days')\n",
    "plt.ylabel('Inverse of daily rate')\n",
    "plt.show()"
   ]
  },
  {
   "cell_type": "code",
   "execution_count": 31,
   "metadata": {},
   "outputs": [],
   "source": [
    "X = Prod['SqrDaily']\n",
    "Y  = Prod['OilRateDailyInverse']"
   ]
  },
  {
   "cell_type": "code",
   "execution_count": 32,
   "metadata": {},
   "outputs": [],
   "source": [
    "import statsmodels.api as sm"
   ]
  },
  {
   "cell_type": "code",
   "execution_count": 33,
   "metadata": {},
   "outputs": [],
   "source": [
    "model  = sm.OLS(Y,X).fit()"
   ]
  },
  {
   "cell_type": "code",
   "execution_count": 71,
   "metadata": {},
   "outputs": [
    {
     "data": {
      "text/html": [
       "<table class=\"simpletable\">\n",
       "<caption>OLS Regression Results</caption>\n",
       "<tr>\n",
       "  <th>Dep. Variable:</th>    <td>OilRateDailyInverse</td> <th>  R-squared:         </th> <td>   0.619</td>\n",
       "</tr>\n",
       "<tr>\n",
       "  <th>Model:</th>                    <td>OLS</td>         <th>  Adj. R-squared:    </th> <td>   0.611</td>\n",
       "</tr>\n",
       "<tr>\n",
       "  <th>Method:</th>              <td>Least Squares</td>    <th>  F-statistic:       </th> <td>   79.47</td>\n",
       "</tr>\n",
       "<tr>\n",
       "  <th>Date:</th>              <td>Mon, 15 Apr 2019</td>   <th>  Prob (F-statistic):</th> <td>7.91e-12</td>\n",
       "</tr>\n",
       "<tr>\n",
       "  <th>Time:</th>                  <td>19:54:37</td>       <th>  Log-Likelihood:    </th> <td>  201.44</td>\n",
       "</tr>\n",
       "<tr>\n",
       "  <th>No. Observations:</th>       <td>    50</td>        <th>  AIC:               </th> <td>  -400.9</td>\n",
       "</tr>\n",
       "<tr>\n",
       "  <th>Df Residuals:</th>           <td>    49</td>        <th>  BIC:               </th> <td>  -399.0</td>\n",
       "</tr>\n",
       "<tr>\n",
       "  <th>Df Model:</th>               <td>     1</td>        <th>                     </th>     <td> </td>   \n",
       "</tr>\n",
       "<tr>\n",
       "  <th>Covariance Type:</th>       <td>nonrobust</td>      <th>                     </th>     <td> </td>   \n",
       "</tr>\n",
       "</table>\n",
       "<table class=\"simpletable\">\n",
       "<tr>\n",
       "      <td></td>        <th>coef</th>     <th>std err</th>      <th>t</th>      <th>P>|t|</th>  <th>[0.025</th>    <th>0.975]</th>  \n",
       "</tr>\n",
       "<tr>\n",
       "  <th>SqrDaily</th> <td>    0.0002</td> <td> 2.22e-05</td> <td>    8.914</td> <td> 0.000</td> <td>    0.000</td> <td>    0.000</td>\n",
       "</tr>\n",
       "</table>\n",
       "<table class=\"simpletable\">\n",
       "<tr>\n",
       "  <th>Omnibus:</th>       <td>72.027</td> <th>  Durbin-Watson:     </th> <td>   1.555</td> \n",
       "</tr>\n",
       "<tr>\n",
       "  <th>Prob(Omnibus):</th> <td> 0.000</td> <th>  Jarque-Bera (JB):  </th> <td> 691.259</td> \n",
       "</tr>\n",
       "<tr>\n",
       "  <th>Skew:</th>          <td> 3.885</td> <th>  Prob(JB):          </th> <td>7.85e-151</td>\n",
       "</tr>\n",
       "<tr>\n",
       "  <th>Kurtosis:</th>      <td>19.475</td> <th>  Cond. No.          </th> <td>    1.00</td> \n",
       "</tr>\n",
       "</table><br/><br/>Warnings:<br/>[1] Standard Errors assume that the covariance matrix of the errors is correctly specified."
      ],
      "text/plain": [
       "<class 'statsmodels.iolib.summary.Summary'>\n",
       "\"\"\"\n",
       "                             OLS Regression Results                            \n",
       "===============================================================================\n",
       "Dep. Variable:     OilRateDailyInverse   R-squared:                       0.619\n",
       "Model:                             OLS   Adj. R-squared:                  0.611\n",
       "Method:                  Least Squares   F-statistic:                     79.47\n",
       "Date:                 Mon, 15 Apr 2019   Prob (F-statistic):           7.91e-12\n",
       "Time:                         19:54:37   Log-Likelihood:                 201.44\n",
       "No. Observations:                   50   AIC:                            -400.9\n",
       "Df Residuals:                       49   BIC:                            -399.0\n",
       "Df Model:                            1                                         \n",
       "Covariance Type:             nonrobust                                         \n",
       "==============================================================================\n",
       "                 coef    std err          t      P>|t|      [0.025      0.975]\n",
       "------------------------------------------------------------------------------\n",
       "SqrDaily       0.0002   2.22e-05      8.914      0.000       0.000       0.000\n",
       "==============================================================================\n",
       "Omnibus:                       72.027   Durbin-Watson:                   1.555\n",
       "Prob(Omnibus):                  0.000   Jarque-Bera (JB):              691.259\n",
       "Skew:                           3.885   Prob(JB):                    7.85e-151\n",
       "Kurtosis:                      19.475   Cond. No.                         1.00\n",
       "==============================================================================\n",
       "\n",
       "Warnings:\n",
       "[1] Standard Errors assume that the covariance matrix of the errors is correctly specified.\n",
       "\"\"\""
      ]
     },
     "execution_count": 71,
     "metadata": {},
     "output_type": "execute_result"
    }
   ],
   "source": [
    " model.summary()\n"
   ]
  },
  {
   "cell_type": "code",
   "execution_count": 97,
   "metadata": {},
   "outputs": [],
   "source": [
    "## Formation Data \n",
    "B = 1.3    ## Oil volume factor , bbl/stb \n",
    "h = 593   ## Formation height from Biota , ft \n",
    "Vis =0.7 ## viscosity , cp \n",
    "Por =0.15 ## porosity \n",
    "Comp = 0.000075 ##compressibility , 1/psi\n",
    "Pi = 7252 ##initial pressure, psi \n",
    "Pwf= 1500 ##wellbore pressure, psi\n",
    "perm = 0.00286 ## permeability, md\n",
    "LL = 6500 ## lateral length, ft \n",
    "Stages = 40 ## number of stages \n"
   ]
  },
  {
   "cell_type": "code",
   "execution_count": 61,
   "metadata": {},
   "outputs": [],
   "source": [
    "##Calculating fracture half-length \n",
    "## 1/q = mt^0.5 + b \n",
    "## m = 31.3*B *(Vis/(Por*Comp))^0.5 /(h*xf*k^0.5*(pi - pwf))"
   ]
  },
  {
   "cell_type": "code",
   "execution_count": 62,
   "metadata": {},
   "outputs": [],
   "source": [
    "halflengthperm = 31.3 * B * (Vis/(Por * Comp))**0.5 /(h * m *(Pi-Pwf))"
   ]
  },
  {
   "cell_type": "code",
   "execution_count": 92,
   "metadata": {},
   "outputs": [],
   "source": [
    "halflength = (halflengthperm/ perm**0.5).round(0)"
   ]
  },
  {
   "cell_type": "code",
   "execution_count": 88,
   "metadata": {},
   "outputs": [
    {
     "name": "stdout",
     "output_type": "stream",
     "text": [
      "half length is SqrDaily    281.0\n",
      "dtype: float64 ft\n"
     ]
    }
   ],
   "source": [
    "##print(\"half length is {} ft\".format(halflength))"
   ]
  },
  {
   "cell_type": "code",
   "execution_count": 104,
   "metadata": {},
   "outputs": [],
   "source": [
    "##Calculating end of linear flow \n",
    "## telf = ((A * h * phi *comp * m *(Pi-Pwf))/(19.9*B))^2\n",
    "\n",
    "A = 2 * halflength* LL /(Stages - 1)\n",
    "telf = ((A * h * Por * Comp * m * (Pi-Pwf))/(19.9 * B))**2"
   ]
  },
  {
   "cell_type": "code",
   "execution_count": 108,
   "metadata": {},
   "outputs": [],
   "source": [
    " telf ##days\n",
    " telf_month = telf/30"
   ]
  },
  {
   "cell_type": "code",
   "execution_count": 63,
   "metadata": {},
   "outputs": [
    {
     "data": {
      "text/html": [
       "<div>\n",
       "<style scoped>\n",
       "    .dataframe tbody tr th:only-of-type {\n",
       "        vertical-align: middle;\n",
       "    }\n",
       "\n",
       "    .dataframe tbody tr th {\n",
       "        vertical-align: top;\n",
       "    }\n",
       "\n",
       "    .dataframe thead th {\n",
       "        text-align: right;\n",
       "    }\n",
       "</style>\n",
       "<table border=\"1\" class=\"dataframe\">\n",
       "  <thead>\n",
       "    <tr style=\"text-align: right;\">\n",
       "      <th></th>\n",
       "      <th>Unnamed: 0</th>\n",
       "      <th>well_name</th>\n",
       "      <th>m</th>\n",
       "      <th>b</th>\n",
       "      <th>vis</th>\n",
       "      <th>por</th>\n",
       "      <th>ct</th>\n",
       "      <th>k</th>\n",
       "      <th>h1</th>\n",
       "      <th>h2</th>\n",
       "      <th>h3</th>\n",
       "      <th>xf1</th>\n",
       "      <th>xf2</th>\n",
       "      <th>xf3</th>\n",
       "    </tr>\n",
       "  </thead>\n",
       "  <tbody>\n",
       "    <tr>\n",
       "      <th>0</th>\n",
       "      <td>0</td>\n",
       "      <td>Well 1</td>\n",
       "      <td>98</td>\n",
       "      <td>2.74</td>\n",
       "      <td>0.73</td>\n",
       "      <td>0.08</td>\n",
       "      <td>0.000014</td>\n",
       "      <td>0.005</td>\n",
       "      <td>100</td>\n",
       "      <td>300</td>\n",
       "      <td>500</td>\n",
       "      <td>NaN</td>\n",
       "      <td>NaN</td>\n",
       "      <td>NaN</td>\n",
       "    </tr>\n",
       "    <tr>\n",
       "      <th>1</th>\n",
       "      <td>1</td>\n",
       "      <td>Well 2</td>\n",
       "      <td>50</td>\n",
       "      <td>2.50</td>\n",
       "      <td>0.65</td>\n",
       "      <td>0.05</td>\n",
       "      <td>0.000014</td>\n",
       "      <td>0.005</td>\n",
       "      <td>300</td>\n",
       "      <td>400</td>\n",
       "      <td>800</td>\n",
       "      <td>NaN</td>\n",
       "      <td>NaN</td>\n",
       "      <td>NaN</td>\n",
       "    </tr>\n",
       "    <tr>\n",
       "      <th>2</th>\n",
       "      <td>2</td>\n",
       "      <td>Well 3</td>\n",
       "      <td>40</td>\n",
       "      <td>2.10</td>\n",
       "      <td>0.55</td>\n",
       "      <td>0.03</td>\n",
       "      <td>0.000014</td>\n",
       "      <td>0.005</td>\n",
       "      <td>600</td>\n",
       "      <td>900</td>\n",
       "      <td>1100</td>\n",
       "      <td>NaN</td>\n",
       "      <td>NaN</td>\n",
       "      <td>NaN</td>\n",
       "    </tr>\n",
       "  </tbody>\n",
       "</table>\n",
       "</div>"
      ],
      "text/plain": [
       "   Unnamed: 0 well_name   m     b   vis   por        ct      k   h1   h2  \\\n",
       "0           0    Well 1  98  2.74  0.73  0.08  0.000014  0.005  100  300   \n",
       "1           1    Well 2  50  2.50  0.65  0.05  0.000014  0.005  300  400   \n",
       "2           2    Well 3  40  2.10  0.55  0.03  0.000014  0.005  600  900   \n",
       "\n",
       "     h3  xf1  xf2  xf3  \n",
       "0   500  NaN  NaN  NaN  \n",
       "1   800  NaN  NaN  NaN  \n",
       "2  1100  NaN  NaN  NaN  "
      ]
     },
     "execution_count": 63,
     "metadata": {},
     "output_type": "execute_result"
    }
   ],
   "source": [
    "test =pd.read_csv('test.csv')\n",
    "test"
   ]
  },
  {
   "cell_type": "code",
   "execution_count": 64,
   "metadata": {},
   "outputs": [],
   "source": [
    "\n",
    "## Formation Data \n",
    "def half_length(B, vis, por, ct, k , m, h1 , h2, h3):\n",
    "#B = 1.3    ## Oil volume factor , bbl/stb \n",
    "#h = 593   ## Formation height from Biota , ft \n",
    "#vis =0.7 ## viscosity , cp \n",
    "#por =0.15 ## porosity \n",
    "#ct = 0.000075 ##compressibility , 1/psi\n",
    "\n",
    "    half_length1 = (19.927 * B * math.sqrt(vis/(por*ct)))/(m*h1* math.sqrt(k))\n",
    "    half_length2 = (19.927 * B * math.sqrt(vis/(por*ct)))/(m*h2* math.sqrt(k))\n",
    "    half_length3 = (19.927 * B * math.sqrt(vis/(por*ct)))/(m*h3*math.sqrt(k))\n",
    "\n",
    "    return (half_length1,half_length2,half_length3)"
   ]
  },
  {
   "cell_type": "code",
   "execution_count": 67,
   "metadata": {},
   "outputs": [],
   "source": [
    "for index, row in test.iterrows():\n",
    "   \n",
    "    xf1,xf2,xf3 = (half_length(row.loc['b'], row.loc['vis'], row.loc['por'], row.loc['ct'], row.loc['k'], row.loc['m'], row.loc['h1'], row.loc['h2'], row.loc['h3']))\n",
    "#     row.replace('xf1',xf1)\n",
    "#     row.replace('xf2',xf2)\n",
    "#     row.replace('xf3', xf3)\n",
    "    test.loc[index, 'xf1'] = xf1\n",
    "    test.loc[index, 'xf2'] = xf2\n",
    "    test.loc[index, 'xf3'] = xf3\n",
    "    #print(test)\n",
    "#(half_length(row.loc['b'], row.loc['vis'], row.loc['por'], row.loc['ct'], row.loc['k'], row.loc['m'], row.loc['h1'], row.loc['h2'], row.loc['h3']))\n",
    "test.to_csv('test.csv')"
   ]
  },
  {
   "cell_type": "code",
   "execution_count": 68,
   "metadata": {},
   "outputs": [
    {
     "data": {
      "text/html": [
       "<div>\n",
       "<style scoped>\n",
       "    .dataframe tbody tr th:only-of-type {\n",
       "        vertical-align: middle;\n",
       "    }\n",
       "\n",
       "    .dataframe tbody tr th {\n",
       "        vertical-align: top;\n",
       "    }\n",
       "\n",
       "    .dataframe thead th {\n",
       "        text-align: right;\n",
       "    }\n",
       "</style>\n",
       "<table border=\"1\" class=\"dataframe\">\n",
       "  <thead>\n",
       "    <tr style=\"text-align: right;\">\n",
       "      <th></th>\n",
       "      <th>Unnamed: 0</th>\n",
       "      <th>well_name</th>\n",
       "      <th>m</th>\n",
       "      <th>b</th>\n",
       "      <th>vis</th>\n",
       "      <th>por</th>\n",
       "      <th>ct</th>\n",
       "      <th>k</th>\n",
       "      <th>h1</th>\n",
       "      <th>h2</th>\n",
       "      <th>h3</th>\n",
       "      <th>xf1</th>\n",
       "      <th>xf2</th>\n",
       "      <th>xf3</th>\n",
       "    </tr>\n",
       "  </thead>\n",
       "  <tbody>\n",
       "    <tr>\n",
       "      <th>0</th>\n",
       "      <td>0</td>\n",
       "      <td>Well 1</td>\n",
       "      <td>98</td>\n",
       "      <td>2.74</td>\n",
       "      <td>0.73</td>\n",
       "      <td>0.08</td>\n",
       "      <td>0.000014</td>\n",
       "      <td>0.005</td>\n",
       "      <td>100</td>\n",
       "      <td>300</td>\n",
       "      <td>500</td>\n",
       "      <td>64.186914</td>\n",
       "      <td>21.395638</td>\n",
       "      <td>12.837383</td>\n",
       "    </tr>\n",
       "    <tr>\n",
       "      <th>1</th>\n",
       "      <td>1</td>\n",
       "      <td>Well 2</td>\n",
       "      <td>50</td>\n",
       "      <td>2.50</td>\n",
       "      <td>0.65</td>\n",
       "      <td>0.05</td>\n",
       "      <td>0.000014</td>\n",
       "      <td>0.005</td>\n",
       "      <td>300</td>\n",
       "      <td>400</td>\n",
       "      <td>800</td>\n",
       "      <td>45.669472</td>\n",
       "      <td>34.252104</td>\n",
       "      <td>17.126052</td>\n",
       "    </tr>\n",
       "    <tr>\n",
       "      <th>2</th>\n",
       "      <td>2</td>\n",
       "      <td>Well 3</td>\n",
       "      <td>40</td>\n",
       "      <td>2.10</td>\n",
       "      <td>0.55</td>\n",
       "      <td>0.03</td>\n",
       "      <td>0.000014</td>\n",
       "      <td>0.005</td>\n",
       "      <td>600</td>\n",
       "      <td>900</td>\n",
       "      <td>1100</td>\n",
       "      <td>28.473073</td>\n",
       "      <td>18.982049</td>\n",
       "      <td>15.530767</td>\n",
       "    </tr>\n",
       "  </tbody>\n",
       "</table>\n",
       "</div>"
      ],
      "text/plain": [
       "   Unnamed: 0 well_name   m     b   vis   por        ct      k   h1   h2  \\\n",
       "0           0    Well 1  98  2.74  0.73  0.08  0.000014  0.005  100  300   \n",
       "1           1    Well 2  50  2.50  0.65  0.05  0.000014  0.005  300  400   \n",
       "2           2    Well 3  40  2.10  0.55  0.03  0.000014  0.005  600  900   \n",
       "\n",
       "     h3        xf1        xf2        xf3  \n",
       "0   500  64.186914  21.395638  12.837383  \n",
       "1   800  45.669472  34.252104  17.126052  \n",
       "2  1100  28.473073  18.982049  15.530767  "
      ]
     },
     "execution_count": 68,
     "metadata": {},
     "output_type": "execute_result"
    }
   ],
   "source": [
    "test"
   ]
  },
  {
   "cell_type": "code",
   "execution_count": null,
   "metadata": {},
   "outputs": [],
   "source": []
  }
 ],
 "metadata": {
  "kernelspec": {
   "display_name": "Python [default]",
   "language": "python",
   "name": "python3"
  },
  "language_info": {
   "codemirror_mode": {
    "name": "ipython",
    "version": 3
   },
   "file_extension": ".py",
   "mimetype": "text/x-python",
   "name": "python",
   "nbconvert_exporter": "python",
   "pygments_lexer": "ipython3",
   "version": "3.6.6"
  }
 },
 "nbformat": 4,
 "nbformat_minor": 2
}
