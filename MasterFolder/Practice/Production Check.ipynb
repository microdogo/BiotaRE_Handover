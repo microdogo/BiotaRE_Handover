{
 "cells": [
  {
   "cell_type": "code",
   "execution_count": 1,
   "metadata": {},
   "outputs": [],
   "source": [
    "# Declaring path variables to make Basemap work in jupyter hub. Make sure that the conda environment path matches yours\n",
    "import os\n",
    "os.environ['PATH'] = '/home/jovyan/my-conda-envs/qiime2-2019.1/bin:' + os.environ['PATH']\n",
    "os.environ['PROJ_LIB'] = '/home/jovyan/my-conda-envs/qiime2-2019.1/share/proj'\n",
    "\n",
    "# General Tool Imports\n",
    "import numpy as np\n",
    "import pandas as pd\n",
    "import matplotlib.pyplot as plt\n",
    "from matplotlib.lines import Line2D\n",
    "from mpl_toolkits.basemap import Basemap\n",
    "import biota\n",
    "import biota.plot as bpl\n",
    "import collections\n",
    "import matplotlib.patches as patches\n",
    "from matplotlib.patches import Rectangle\n",
    "import math\n",
    "import pickle \n",
    "\n",
    "import lasio\n",
    "\n",
    "\n",
    "\n",
    "%matplotlib inline"
   ]
  },
  {
   "cell_type": "code",
   "execution_count": 2,
   "metadata": {},
   "outputs": [],
   "source": [
    "#Read in Excel Of Production Data\n",
    "filename = 'Foraker 1207 Section 11 Lift Dates and Production July.xlsx'\n",
    "xls = pd.ExcelFile(filename)\n",
    "\n",
    "#Calculate number of wells (sheets) minus Legend, return wellnames\n",
    "len(xls.sheet_names)-1\n",
    "wellnames = xls.sheet_names\n",
    "del wellnames[0]\n",
    "\n",
    "import datetime\n",
    "d = datetime.datetime.today()\n",
    "currentdate = d.strftime('%d-%m-%Y')"
   ]
  },
  {
   "cell_type": "code",
   "execution_count": 3,
   "metadata": {},
   "outputs": [],
   "source": [
    "#Define flowback file names\n",
    "flowbackfiles = ['Foraker 1SMH.xlsm','Foraker 2UMH.xlsm','Foraker 3WH.xlsm','Foraker 4LMH.xlsm','Foraker 5WH.xlsm','Foraker 6UMH.xlsm'\\\n",
    "                 ,'Foraker 7SMH.xlsm','Foraker 8UMH.xlsm','Foraker 9LMH.xlsm','Foraker 10UMH.xlsm','Foraker 11SMH.xlsm']"
   ]
  },
  {
   "cell_type": "code",
   "execution_count": 4,
   "metadata": {},
   "outputs": [
    {
     "data": {
      "text/plain": [
       "['Foraker 1207 #1SMH-11',\n",
       " 'Foraker 1207 #2UMH-11',\n",
       " 'Foraker 1207 #3WH-11',\n",
       " 'Foraker 1207 #4LMH-11',\n",
       " 'Foraker 1207 #5WH-11',\n",
       " 'Foraker 1207 #6UMH-11',\n",
       " 'Foraker 1207 #7SMH-11',\n",
       " 'Foraker 1207 #8UMH-11',\n",
       " 'Foraker 1207 #9LMH-11',\n",
       " 'Foraker 1207 #10MUH-11',\n",
       " 'Foraker 1207 #11SMH-11']"
      ]
     },
     "execution_count": 4,
     "metadata": {},
     "output_type": "execute_result"
    }
   ],
   "source": [
    "wellnames"
   ]
  },
  {
   "cell_type": "code",
   "execution_count": 19,
   "metadata": {},
   "outputs": [],
   "source": [
    "#Loop through sheets and create df for each\n",
    "#Create dictionary of dataframes for each well, map choke values to prod dates in well df\n",
    "filename = 'Foraker 1207 Section 11 Lift Dates and Production July.xlsx'\n",
    "dfs = {}\n",
    "newdfs = {}\n",
    "for well in wellnames:\n",
    "    wellsheet = well\n",
    "    dfs[well] = pd.read_excel(filename, sheet_name=wellsheet)\n",
    "    #dfs[well]['Choke'] = dfs[well]['PERIOD'].map(chokes[well])\n",
    "    newdfs[well] = dfs[well][['LEASE', 'PERIOD', 'GROSS OIL','GROSS GAS','GROSS WTR']]\n",
    "    #   'GROSS GAS']\n",
    "    #dfs[well].to_pickle(\"./JulyData/{}.pkl\".format(well))"
   ]
  },
  {
   "cell_type": "code",
   "execution_count": 14,
   "metadata": {},
   "outputs": [],
   "source": [
    "fifi = dfs['Foraker 1207 #8UMH-11']"
   ]
  },
  {
   "cell_type": "code",
   "execution_count": 13,
   "metadata": {},
   "outputs": [
    {
     "data": {
      "text/plain": [
       "Index(['LEASE', 'PERIOD', 'TP', 'CP', 'BH', 'GROSS OIL', 'GROSS WTR',\n",
       "       'GROSS GAS', 'GROSS BOE', 'GROSS NGL', 'WI_BPO', 'NRI_OIL_BPO',\n",
       "       'NET OIL', 'NET WTR', 'NET GAS', 'NET BOE', 'Downtime', 'Lift',\n",
       "       'Prod Date', 'New Lift Date'],\n",
       "      dtype='object')"
      ]
     },
     "execution_count": 13,
     "metadata": {},
     "output_type": "execute_result"
    }
   ],
   "source": [
    "dfs['Foraker 1207 #8UMH-11'].columns"
   ]
  },
  {
   "cell_type": "code",
   "execution_count": 20,
   "metadata": {},
   "outputs": [
    {
     "data": {
      "text/html": [
       "<div>\n",
       "<style scoped>\n",
       "    .dataframe tbody tr th:only-of-type {\n",
       "        vertical-align: middle;\n",
       "    }\n",
       "\n",
       "    .dataframe tbody tr th {\n",
       "        vertical-align: top;\n",
       "    }\n",
       "\n",
       "    .dataframe thead th {\n",
       "        text-align: right;\n",
       "    }\n",
       "</style>\n",
       "<table border=\"1\" class=\"dataframe\">\n",
       "  <thead>\n",
       "    <tr style=\"text-align: right;\">\n",
       "      <th></th>\n",
       "      <th>LEASE</th>\n",
       "      <th>PERIOD</th>\n",
       "      <th>GROSS OIL</th>\n",
       "      <th>GROSS GAS</th>\n",
       "      <th>GROSS WTR</th>\n",
       "    </tr>\n",
       "  </thead>\n",
       "  <tbody>\n",
       "    <tr>\n",
       "      <th>0</th>\n",
       "      <td>FORAKER 1207 8UMH-11</td>\n",
       "      <td>2019-04-05</td>\n",
       "      <td>424.68</td>\n",
       "      <td>0.0</td>\n",
       "      <td>0.0</td>\n",
       "    </tr>\n",
       "    <tr>\n",
       "      <th>1</th>\n",
       "      <td>FORAKER 1207 8UMH-11</td>\n",
       "      <td>2019-04-06</td>\n",
       "      <td>951.55</td>\n",
       "      <td>465.0</td>\n",
       "      <td>402.0</td>\n",
       "    </tr>\n",
       "    <tr>\n",
       "      <th>2</th>\n",
       "      <td>FORAKER 1207 8UMH-11</td>\n",
       "      <td>2019-04-07</td>\n",
       "      <td>1220.15</td>\n",
       "      <td>1519.0</td>\n",
       "      <td>1035.0</td>\n",
       "    </tr>\n",
       "    <tr>\n",
       "      <th>3</th>\n",
       "      <td>FORAKER 1207 8UMH-11</td>\n",
       "      <td>2019-04-08</td>\n",
       "      <td>1447.05</td>\n",
       "      <td>1830.0</td>\n",
       "      <td>1234.0</td>\n",
       "    </tr>\n",
       "    <tr>\n",
       "      <th>4</th>\n",
       "      <td>FORAKER 1207 8UMH-11</td>\n",
       "      <td>2019-04-09</td>\n",
       "      <td>1367.30</td>\n",
       "      <td>1993.0</td>\n",
       "      <td>1220.0</td>\n",
       "    </tr>\n",
       "  </tbody>\n",
       "</table>\n",
       "</div>"
      ],
      "text/plain": [
       "                  LEASE     PERIOD  GROSS OIL  GROSS GAS  GROSS WTR\n",
       "0  FORAKER 1207 8UMH-11 2019-04-05     424.68        0.0        0.0\n",
       "1  FORAKER 1207 8UMH-11 2019-04-06     951.55      465.0      402.0\n",
       "2  FORAKER 1207 8UMH-11 2019-04-07    1220.15     1519.0     1035.0\n",
       "3  FORAKER 1207 8UMH-11 2019-04-08    1447.05     1830.0     1234.0\n",
       "4  FORAKER 1207 8UMH-11 2019-04-09    1367.30     1993.0     1220.0"
      ]
     },
     "execution_count": 20,
     "metadata": {},
     "output_type": "execute_result"
    }
   ],
   "source": [
    "newdfs['Foraker 1207 #8UMH-11'].head()"
   ]
  },
  {
   "cell_type": "code",
   "execution_count": 21,
   "metadata": {},
   "outputs": [],
   "source": [
    "#Read in Excel Of Production Data\n",
    "filename = 'Foraker Production 10-14 Check v2.xlsx'\n",
    "xls = pd.ExcelFile(filename)\n",
    "\n",
    "#Calculate number of wells (sheets) minus Legend, return wellnames\n",
    "len(xls.sheet_names)-1\n",
    "checkwellnames = xls.sheet_names\n",
    "del wellnames[0]\n"
   ]
  },
  {
   "cell_type": "code",
   "execution_count": 25,
   "metadata": {},
   "outputs": [
    {
     "data": {
      "text/plain": [
       "['FORAKER 1207 1SMH-11',\n",
       " 'FORAKER 1207 2UMH-11',\n",
       " 'FORAKER 1207 3WH-11',\n",
       " 'FORAKER 1207 4LMH-11',\n",
       " 'FORAKER 1207 5WH-11',\n",
       " 'FORAKER 1207 6UMH-11',\n",
       " 'FORAKER 1207 7SMH-11',\n",
       " 'FORAKER 1207 8UMH-11',\n",
       " 'FORAKER 1207 9LMH-11',\n",
       " 'FORAKER 1207 10UMH-11',\n",
       " 'FORAKER 1207 11SMH-11']"
      ]
     },
     "execution_count": 25,
     "metadata": {},
     "output_type": "execute_result"
    }
   ],
   "source": [
    "checkwellnames"
   ]
  },
  {
   "cell_type": "code",
   "execution_count": 35,
   "metadata": {},
   "outputs": [],
   "source": [
    "#Loop through sheets and create df for each\n",
    "#Create dictionary of dataframes for each well, map choke values to prod dates in well df\n",
    "filename = 'Foraker Production 10-14 Check v2.xlsx'\n",
    "Bdfs = {}\n",
    "checkdfs = {}\n",
    "for well in checkwellnames:\n",
    "    wellsheet = well\n",
    "    Bdfs[well] = pd.read_excel(filename, sheet_name=wellsheet)\n",
    "    #dfs[well]['Choke'] = dfs[well]['PERIOD'].map(chokes[well])\n",
    "    checkdfs[well] = Bdfs[well][['LEASE', 'D_DATE', 'OIL','GAS']]\n",
    "    #checkdfs[well].columns = {'LEASE','PERIOD','GROSS OIL','GROSS GAS'} \n",
    "    #   'GROSS GAS']\n",
    "    #dfs[well].to_pickle(\"./JulyData/{}.pkl\".format(well))"
   ]
  },
  {
   "cell_type": "code",
   "execution_count": 36,
   "metadata": {},
   "outputs": [
    {
     "data": {
      "text/html": [
       "<div>\n",
       "<style scoped>\n",
       "    .dataframe tbody tr th:only-of-type {\n",
       "        vertical-align: middle;\n",
       "    }\n",
       "\n",
       "    .dataframe tbody tr th {\n",
       "        vertical-align: top;\n",
       "    }\n",
       "\n",
       "    .dataframe thead th {\n",
       "        text-align: right;\n",
       "    }\n",
       "</style>\n",
       "<table border=\"1\" class=\"dataframe\">\n",
       "  <thead>\n",
       "    <tr style=\"text-align: right;\">\n",
       "      <th></th>\n",
       "      <th>LEASE</th>\n",
       "      <th>D_DATE</th>\n",
       "      <th>OIL</th>\n",
       "      <th>GAS</th>\n",
       "    </tr>\n",
       "  </thead>\n",
       "  <tbody>\n",
       "    <tr>\n",
       "      <th>0</th>\n",
       "      <td>FORAKER 1207 9LMH-11</td>\n",
       "      <td>2019-04-01</td>\n",
       "      <td>0.00</td>\n",
       "      <td>0.0</td>\n",
       "    </tr>\n",
       "    <tr>\n",
       "      <th>1</th>\n",
       "      <td>FORAKER 1207 9LMH-11</td>\n",
       "      <td>2019-04-02</td>\n",
       "      <td>0.00</td>\n",
       "      <td>0.0</td>\n",
       "    </tr>\n",
       "    <tr>\n",
       "      <th>2</th>\n",
       "      <td>FORAKER 1207 9LMH-11</td>\n",
       "      <td>2019-04-03</td>\n",
       "      <td>0.00</td>\n",
       "      <td>0.0</td>\n",
       "    </tr>\n",
       "    <tr>\n",
       "      <th>3</th>\n",
       "      <td>FORAKER 1207 9LMH-11</td>\n",
       "      <td>2019-04-04</td>\n",
       "      <td>0.00</td>\n",
       "      <td>0.0</td>\n",
       "    </tr>\n",
       "    <tr>\n",
       "      <th>4</th>\n",
       "      <td>FORAKER 1207 9LMH-11</td>\n",
       "      <td>2019-04-05</td>\n",
       "      <td>0.00</td>\n",
       "      <td>0.0</td>\n",
       "    </tr>\n",
       "    <tr>\n",
       "      <th>5</th>\n",
       "      <td>FORAKER 1207 9LMH-11</td>\n",
       "      <td>2019-04-06</td>\n",
       "      <td>327.41</td>\n",
       "      <td>114.0</td>\n",
       "    </tr>\n",
       "    <tr>\n",
       "      <th>6</th>\n",
       "      <td>FORAKER 1207 9LMH-11</td>\n",
       "      <td>2019-04-07</td>\n",
       "      <td>513.29</td>\n",
       "      <td>691.0</td>\n",
       "    </tr>\n",
       "    <tr>\n",
       "      <th>7</th>\n",
       "      <td>FORAKER 1207 9LMH-11</td>\n",
       "      <td>2019-04-08</td>\n",
       "      <td>611.07</td>\n",
       "      <td>1047.0</td>\n",
       "    </tr>\n",
       "    <tr>\n",
       "      <th>8</th>\n",
       "      <td>FORAKER 1207 9LMH-11</td>\n",
       "      <td>2019-04-09</td>\n",
       "      <td>781.05</td>\n",
       "      <td>1362.0</td>\n",
       "    </tr>\n",
       "    <tr>\n",
       "      <th>9</th>\n",
       "      <td>FORAKER 1207 9LMH-11</td>\n",
       "      <td>2019-04-10</td>\n",
       "      <td>911.47</td>\n",
       "      <td>1704.0</td>\n",
       "    </tr>\n",
       "  </tbody>\n",
       "</table>\n",
       "</div>"
      ],
      "text/plain": [
       "                  LEASE     D_DATE     OIL     GAS\n",
       "0  FORAKER 1207 9LMH-11 2019-04-01    0.00     0.0\n",
       "1  FORAKER 1207 9LMH-11 2019-04-02    0.00     0.0\n",
       "2  FORAKER 1207 9LMH-11 2019-04-03    0.00     0.0\n",
       "3  FORAKER 1207 9LMH-11 2019-04-04    0.00     0.0\n",
       "4  FORAKER 1207 9LMH-11 2019-04-05    0.00     0.0\n",
       "5  FORAKER 1207 9LMH-11 2019-04-06  327.41   114.0\n",
       "6  FORAKER 1207 9LMH-11 2019-04-07  513.29   691.0\n",
       "7  FORAKER 1207 9LMH-11 2019-04-08  611.07  1047.0\n",
       "8  FORAKER 1207 9LMH-11 2019-04-09  781.05  1362.0\n",
       "9  FORAKER 1207 9LMH-11 2019-04-10  911.47  1704.0"
      ]
     },
     "execution_count": 36,
     "metadata": {},
     "output_type": "execute_result"
    }
   ],
   "source": [
    "checkdfs['FORAKER 1207 9LMH-11'].head(10)"
   ]
  },
  {
   "cell_type": "code",
   "execution_count": 37,
   "metadata": {},
   "outputs": [],
   "source": [
    "AllcheckData = pd.concat(checkdfs)"
   ]
  },
  {
   "cell_type": "code",
   "execution_count": 40,
   "metadata": {},
   "outputs": [],
   "source": [
    "AllcheckData.to_csv('../Practice/CheckData.csv')"
   ]
  },
  {
   "cell_type": "code",
   "execution_count": 41,
   "metadata": {},
   "outputs": [],
   "source": [
    "OriginalData = pd.concat(newdfs)\n",
    "OriginalData.to_csv('../Practice/OriginalData.csv')"
   ]
  },
  {
   "cell_type": "code",
   "execution_count": 43,
   "metadata": {},
   "outputs": [
    {
     "name": "stderr",
     "output_type": "stream",
     "text": [
      "/home/jovyan/my-conda-envs/qiime2-2019.1/lib/python3.6/site-packages/ipykernel/__main__.py:3: FutureWarning: Sorting because non-concatenation axis is not aligned. A future version\n",
      "of pandas will change to not sort by default.\n",
      "\n",
      "To accept the future behavior, pass 'sort=False'.\n",
      "\n",
      "To retain the current behavior and silence the warning, pass 'sort=True'.\n",
      "\n",
      "  app.launch_new_instance()\n"
     ]
    }
   ],
   "source": [
    "#combine both datasets\n",
    "Datasets = [AllcheckData,OriginalData]\n",
    "Alldata = pd.concat(Datasets)"
   ]
  },
  {
   "cell_type": "code",
   "execution_count": null,
   "metadata": {},
   "outputs": [],
   "source": []
  }
 ],
 "metadata": {
  "kernelspec": {
   "display_name": "Python [conda env:qiime2-2019.1]",
   "language": "python",
   "name": "conda-env-qiime2-2019.1-py"
  },
  "language_info": {
   "codemirror_mode": {
    "name": "ipython",
    "version": 3
   },
   "file_extension": ".py",
   "mimetype": "text/x-python",
   "name": "python",
   "nbconvert_exporter": "python",
   "pygments_lexer": "ipython3",
   "version": "3.6.7"
  }
 },
 "nbformat": 4,
 "nbformat_minor": 2
}
