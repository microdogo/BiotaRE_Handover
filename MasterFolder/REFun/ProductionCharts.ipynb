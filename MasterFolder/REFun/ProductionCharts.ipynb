{
 "cells": [
  {
   "cell_type": "code",
   "execution_count": 2,
   "metadata": {},
   "outputs": [],
   "source": [
    "# Declaring path variables to make Basemap work in jupyter hub. Make sure that the conda environment path matches yours\n",
    "import os\n",
    "os.environ['PATH'] = '/home/jovyan/my-conda-envs/qiime2-2019.1/bin:' + os.environ['PATH']\n",
    "os.environ['PROJ_LIB'] = '/home/jovyan/my-conda-envs/qiime2-2019.1/share/proj'"
   ]
  },
  {
   "cell_type": "code",
   "execution_count": 3,
   "metadata": {},
   "outputs": [],
   "source": [
    "# General Tool Imports\n",
    "import numpy as np\n",
    "import pandas as pd\n",
    "import matplotlib.pyplot as plt\n",
    "from matplotlib.lines import Line2D\n",
    "from mpl_toolkits.basemap import Basemap\n",
    "import biota\n",
    "import biota.plot as bpl\n",
    "import seaborn as sns\n",
    "import collections\n",
    "import matplotlib.patches as patches\n",
    "from matplotlib.patches import Rectangle\n",
    "import math\n",
    "\n",
    "from biota.database import (get_samples,\n",
    "                            get_sample_data,\n",
    "                            get_pg_connection,\n",
    "                            get_data)\n",
    "from biota.util import (rarefy,\n",
    "                        make_tree,\n",
    "                        get_dms,\n",
    "                        filter_dm_and_map,\n",
    "                        get_tax_table)\n",
    "from IPython.core.display import display, HTML\n",
    "from pickle import dump, load\n",
    "\n",
    "import lasio\n",
    "\n",
    "# SQL Query imports\n",
    "from sqlalchemy import create_engine, engine, inspect\n",
    "\n",
    "from functools import partial\n",
    "\n",
    "from ipyparallel import Client\n",
    "from sourcetracker import gibbs\n",
    "\n",
    "# Clustering imports\n",
    "from scipy.spatial.distance import pdist\n",
    "from scipy.cluster import hierarchy\n",
    "from skbio.stats.ordination import pcoa\n",
    "\n",
    "from biota.util import assign_formations\n",
    "\n",
    "\n",
    "%matplotlib inline"
   ]
  },
  {
   "cell_type": "code",
   "execution_count": 4,
   "metadata": {},
   "outputs": [],
   "source": [
    "ProdData = pd.read_csv('Prod_4H.csv')"
   ]
  },
  {
   "cell_type": "code",
   "execution_count": 5,
   "metadata": {},
   "outputs": [
    {
     "data": {
      "text/html": [
       "<div>\n",
       "<style scoped>\n",
       "    .dataframe tbody tr th:only-of-type {\n",
       "        vertical-align: middle;\n",
       "    }\n",
       "\n",
       "    .dataframe tbody tr th {\n",
       "        vertical-align: top;\n",
       "    }\n",
       "\n",
       "    .dataframe thead th {\n",
       "        text-align: right;\n",
       "    }\n",
       "</style>\n",
       "<table border=\"1\" class=\"dataframe\">\n",
       "  <thead>\n",
       "    <tr style=\"text-align: right;\">\n",
       "      <th></th>\n",
       "      <th>Date</th>\n",
       "      <th>hours</th>\n",
       "      <th>Elasped Time</th>\n",
       "      <th>Choke</th>\n",
       "      <th>THP</th>\n",
       "      <th>WHP</th>\n",
       "      <th>Gas Rate</th>\n",
       "      <th>Oil Rate</th>\n",
       "      <th>Water Rate</th>\n",
       "    </tr>\n",
       "  </thead>\n",
       "  <tbody>\n",
       "    <tr>\n",
       "      <th>0</th>\n",
       "      <td>9/30/2018 0:00:00</td>\n",
       "      <td>0.0</td>\n",
       "      <td>0.0</td>\n",
       "      <td>NaN</td>\n",
       "      <td>NaN</td>\n",
       "      <td>NaN</td>\n",
       "      <td>0.0</td>\n",
       "      <td>0.0</td>\n",
       "      <td>0.0</td>\n",
       "    </tr>\n",
       "    <tr>\n",
       "      <th>1</th>\n",
       "      <td>11/15/2018 0:00:00</td>\n",
       "      <td>1104.0</td>\n",
       "      <td>1104.0</td>\n",
       "      <td>0.0</td>\n",
       "      <td>0.0</td>\n",
       "      <td>0.0</td>\n",
       "      <td>0.0</td>\n",
       "      <td>0.0</td>\n",
       "      <td>0.0</td>\n",
       "    </tr>\n",
       "    <tr>\n",
       "      <th>2</th>\n",
       "      <td>11/16/2018 0:00:00</td>\n",
       "      <td>24.0</td>\n",
       "      <td>1128.0</td>\n",
       "      <td>0.0</td>\n",
       "      <td>0.0</td>\n",
       "      <td>0.0</td>\n",
       "      <td>0.0</td>\n",
       "      <td>0.0</td>\n",
       "      <td>0.0</td>\n",
       "    </tr>\n",
       "    <tr>\n",
       "      <th>3</th>\n",
       "      <td>11/17/2018 0:00:00</td>\n",
       "      <td>24.0</td>\n",
       "      <td>1152.0</td>\n",
       "      <td>0.0</td>\n",
       "      <td>0.0</td>\n",
       "      <td>0.0</td>\n",
       "      <td>0.0</td>\n",
       "      <td>0.0</td>\n",
       "      <td>0.0</td>\n",
       "    </tr>\n",
       "    <tr>\n",
       "      <th>4</th>\n",
       "      <td>11/18/2018 0:00:00</td>\n",
       "      <td>24.0</td>\n",
       "      <td>1176.0</td>\n",
       "      <td>0.0</td>\n",
       "      <td>0.0</td>\n",
       "      <td>0.0</td>\n",
       "      <td>0.0</td>\n",
       "      <td>0.0</td>\n",
       "      <td>0.0</td>\n",
       "    </tr>\n",
       "  </tbody>\n",
       "</table>\n",
       "</div>"
      ],
      "text/plain": [
       "                 Date   hours  Elasped Time  Choke  THP  WHP  Gas Rate  \\\n",
       "0   9/30/2018 0:00:00     0.0           0.0    NaN  NaN  NaN       0.0   \n",
       "1  11/15/2018 0:00:00  1104.0        1104.0    0.0  0.0  0.0       0.0   \n",
       "2  11/16/2018 0:00:00    24.0        1128.0    0.0  0.0  0.0       0.0   \n",
       "3  11/17/2018 0:00:00    24.0        1152.0    0.0  0.0  0.0       0.0   \n",
       "4  11/18/2018 0:00:00    24.0        1176.0    0.0  0.0  0.0       0.0   \n",
       "\n",
       "   Oil Rate  Water Rate  \n",
       "0       0.0         0.0  \n",
       "1       0.0         0.0  \n",
       "2       0.0         0.0  \n",
       "3       0.0         0.0  \n",
       "4       0.0         0.0  "
      ]
     },
     "execution_count": 5,
     "metadata": {},
     "output_type": "execute_result"
    }
   ],
   "source": [
    "ProdData.head()"
   ]
  },
  {
   "cell_type": "code",
   "execution_count": 11,
   "metadata": {},
   "outputs": [],
   "source": [
    "ProdData['WC'] = ProdData['Water Rate'] / (ProdData['Oil Rate'] +ProdData['Water Rate'] )\n",
    "ProdData['WC'] = ProdData['WC'].fillna(0)\n",
    "\n",
    "\n",
    "#ax = sns.lineplot(x=\"Elasped Time\", y=\"Oil Rate\", data=ProdData)"
   ]
  },
  {
   "cell_type": "code",
   "execution_count": null,
   "metadata": {},
   "outputs": [],
   "source": []
  },
  {
   "cell_type": "code",
   "execution_count": 51,
   "metadata": {},
   "outputs": [
    {
     "data": {
      "image/png": "[encoded data removed]",
      "text/plain": [
       "<Figure size 432x288 with 2 Axes>"
      ]
     },
     "metadata": {
      "needs_background": "light"
     },
     "output_type": "display_data"
    }
   ],
   "source": [
    "ax = ProdData.plot(kind='line', x='Elasped Time', y='Oil Rate',\n",
    "                   color='DarkGreen',style='.',markersize=5, label='Group 1');\n",
    "\n",
    "ProdData.plot(kind='line', x='Elasped Time', y='WC',\n",
    "              color='DarkBlue',style='.',markersize=5, label='Group 2', secondary_y=True, ax=ax);"
   ]
  },
  {
   "cell_type": "code",
   "execution_count": 17,
   "metadata": {},
   "outputs": [],
   "source": [
    "SampleDates = pd.read_csv('APC Sample Da.csv')"
   ]
  },
  {
   "cell_type": "code",
   "execution_count": 18,
   "metadata": {},
   "outputs": [
    {
     "data": {
      "text/html": [
       "<div>\n",
       "<style scoped>\n",
       "    .dataframe tbody tr th:only-of-type {\n",
       "        vertical-align: middle;\n",
       "    }\n",
       "\n",
       "    .dataframe tbody tr th {\n",
       "        vertical-align: top;\n",
       "    }\n",
       "\n",
       "    .dataframe thead th {\n",
       "        text-align: right;\n",
       "    }\n",
       "</style>\n",
       "<table border=\"1\" class=\"dataframe\">\n",
       "  <thead>\n",
       "    <tr style=\"text-align: right;\">\n",
       "      <th></th>\n",
       "      <th>wellname</th>\n",
       "      <th>collectiondate</th>\n",
       "      <th>wellapi</th>\n",
       "      <th>welluuid</th>\n",
       "      <th>fieldsampletype</th>\n",
       "      <th>fieldsampleuuid</th>\n",
       "      <th>bridge_id</th>\n",
       "      <th>sequencesampleuuid</th>\n",
       "      <th>sequencingrunid</th>\n",
       "      <th>sequencinggroup</th>\n",
       "    </tr>\n",
       "  </thead>\n",
       "  <tbody>\n",
       "    <tr>\n",
       "      <th>0</th>\n",
       "      <td>silvertip.76.7.unit.a.2h</td>\n",
       "      <td>8/30/2018</td>\n",
       "      <td>4.230130e+13</td>\n",
       "      <td>a8ed5c1b-b28b-4c42-8ab6-6aebb0fc4b5b</td>\n",
       "      <td>produced.fluid</td>\n",
       "      <td>32364227-00ce-4f5e-b9d5-3795320fcb5f</td>\n",
       "      <td>86331.0</td>\n",
       "      <td>009c98a1-2f45-4446-8d6e-ce11b098a16d</td>\n",
       "      <td>20181018_1</td>\n",
       "      <td>72</td>\n",
       "    </tr>\n",
       "    <tr>\n",
       "      <th>1</th>\n",
       "      <td>silvertip.76.7.unit.a.2h</td>\n",
       "      <td>8/30/2018</td>\n",
       "      <td>4.230130e+13</td>\n",
       "      <td>a8ed5c1b-b28b-4c42-8ab6-6aebb0fc4b5b</td>\n",
       "      <td>produced.fluid</td>\n",
       "      <td>8dfbeab4-8bee-468e-97d2-de23f788751a</td>\n",
       "      <td>86332.0</td>\n",
       "      <td>988b4414-cd8a-40b2-8c2a-d2c3762bb297</td>\n",
       "      <td>20181018_1</td>\n",
       "      <td>72</td>\n",
       "    </tr>\n",
       "    <tr>\n",
       "      <th>2</th>\n",
       "      <td>silvertip.76.7.unit.a.2h</td>\n",
       "      <td>8/30/2018</td>\n",
       "      <td>4.230130e+13</td>\n",
       "      <td>a8ed5c1b-b28b-4c42-8ab6-6aebb0fc4b5b</td>\n",
       "      <td>produced.fluid</td>\n",
       "      <td>47a4acf5-1e9c-4dc9-a384-705e2ae55477</td>\n",
       "      <td>86333.0</td>\n",
       "      <td>8d8ab58a-3670-4144-b8bc-2db35a7b8a69</td>\n",
       "      <td>20181018_1</td>\n",
       "      <td>72</td>\n",
       "    </tr>\n",
       "    <tr>\n",
       "      <th>3</th>\n",
       "      <td>silvertip.76.7.unit.a.2h</td>\n",
       "      <td>8/30/2018</td>\n",
       "      <td>4.230130e+13</td>\n",
       "      <td>a8ed5c1b-b28b-4c42-8ab6-6aebb0fc4b5b</td>\n",
       "      <td>produced.fluid</td>\n",
       "      <td>05d256cc-bdf3-4440-98d0-3ab09b346bb4</td>\n",
       "      <td>86334.0</td>\n",
       "      <td>98671e62-de30-45c9-8e8b-175d00e381f5</td>\n",
       "      <td>20181018_1</td>\n",
       "      <td>72</td>\n",
       "    </tr>\n",
       "    <tr>\n",
       "      <th>4</th>\n",
       "      <td>silvertip.76.7.unit.a.2h</td>\n",
       "      <td>8/30/2018</td>\n",
       "      <td>4.230130e+13</td>\n",
       "      <td>a8ed5c1b-b28b-4c42-8ab6-6aebb0fc4b5b</td>\n",
       "      <td>produced.fluid</td>\n",
       "      <td>2e21fa8b-97f4-4dd0-9896-9d6bb5419aaf</td>\n",
       "      <td>86335.0</td>\n",
       "      <td>602ed0cf-a282-488f-8215-11fc53ad88a4</td>\n",
       "      <td>20181018_1</td>\n",
       "      <td>72</td>\n",
       "    </tr>\n",
       "  </tbody>\n",
       "</table>\n",
       "</div>"
      ],
      "text/plain": [
       "                   wellname collectiondate       wellapi  \\\n",
       "0  silvertip.76.7.unit.a.2h      8/30/2018  4.230130e+13   \n",
       "1  silvertip.76.7.unit.a.2h      8/30/2018  4.230130e+13   \n",
       "2  silvertip.76.7.unit.a.2h      8/30/2018  4.230130e+13   \n",
       "3  silvertip.76.7.unit.a.2h      8/30/2018  4.230130e+13   \n",
       "4  silvertip.76.7.unit.a.2h      8/30/2018  4.230130e+13   \n",
       "\n",
       "                               welluuid fieldsampletype  \\\n",
       "0  a8ed5c1b-b28b-4c42-8ab6-6aebb0fc4b5b  produced.fluid   \n",
       "1  a8ed5c1b-b28b-4c42-8ab6-6aebb0fc4b5b  produced.fluid   \n",
       "2  a8ed5c1b-b28b-4c42-8ab6-6aebb0fc4b5b  produced.fluid   \n",
       "3  a8ed5c1b-b28b-4c42-8ab6-6aebb0fc4b5b  produced.fluid   \n",
       "4  a8ed5c1b-b28b-4c42-8ab6-6aebb0fc4b5b  produced.fluid   \n",
       "\n",
       "                        fieldsampleuuid  bridge_id  \\\n",
       "0  32364227-00ce-4f5e-b9d5-3795320fcb5f    86331.0   \n",
       "1  8dfbeab4-8bee-468e-97d2-de23f788751a    86332.0   \n",
       "2  47a4acf5-1e9c-4dc9-a384-705e2ae55477    86333.0   \n",
       "3  05d256cc-bdf3-4440-98d0-3ab09b346bb4    86334.0   \n",
       "4  2e21fa8b-97f4-4dd0-9896-9d6bb5419aaf    86335.0   \n",
       "\n",
       "                     sequencesampleuuid sequencingrunid sequencinggroup  \n",
       "0  009c98a1-2f45-4446-8d6e-ce11b098a16d      20181018_1              72  \n",
       "1  988b4414-cd8a-40b2-8c2a-d2c3762bb297      20181018_1              72  \n",
       "2  8d8ab58a-3670-4144-b8bc-2db35a7b8a69      20181018_1              72  \n",
       "3  98671e62-de30-45c9-8e8b-175d00e381f5      20181018_1              72  \n",
       "4  602ed0cf-a282-488f-8215-11fc53ad88a4      20181018_1              72  "
      ]
     },
     "execution_count": 18,
     "metadata": {},
     "output_type": "execute_result"
    }
   ],
   "source": [
    "SampleDates.head()"
   ]
  },
  {
   "cell_type": "code",
   "execution_count": 25,
   "metadata": {},
   "outputs": [],
   "source": [
    "WellDates = SampleDates.groupby('wellname')['collectiondate'].unique()"
   ]
  },
  {
   "cell_type": "code",
   "execution_count": 40,
   "metadata": {},
   "outputs": [
    {
     "name": "stdout",
     "output_type": "stream",
     "text": [
      "['12/12/2018' '1/9/2019' '1/17/2019' '1/30/2019' '3/12/2019' '3/19/2019'\n",
      " '3/21/2019' '4/4/2019' '4/17/2019' '4/23/2019' '4/30/2019' '5/6/2019'\n",
      " '5/15/2019' '5/20/2019' '5/29/2019']\n",
      "['11/1/2018' '11/8/2018' '12/5/2018' '12/19/2018' '2/14/2019' '3/5/2019'\n",
      " '3/19/2019' '5/6/2019' '5/15/2019' '5/20/2019' '5/29/2019']\n",
      "['8/30/2018' '9/25/2018' '10/23/2018' '12/19/2018' '1/14/2019' '5/6/2019'\n",
      " '5/15/2019' '5/20/2019' '5/29/2019']\n",
      "['9/25/2018' '10/23/2018' '11/1/2018' '12/5/2018' '12/19/2018' '2/14/2019'\n",
      " '3/5/2019' '5/6/2019' '5/15/2019' '5/20/2019' '5/29/2019']\n",
      "['12/12/2018' '3/12/2019' '3/19/2019' '3/21/2019' '4/4/2019' '4/17/2019'\n",
      " '4/23/2019' '4/30/2019' '5/6/2019' '5/15/2019' '5/20/2019' '5/29/2019']\n",
      "['10/23/2018' '11/8/2018' '12/5/2018' '1/14/2019' '1/17/2019' '1/31/2019'\n",
      " '3/12/2019' '3/19/2019' '4/17/2019' '4/23/2019' '4/30/2019' '5/6/2019'\n",
      " '5/15/2019' '5/20/2019' '5/29/2019']\n",
      "['1/17/2019' '3/12/2019' '3/19/2019' '3/21/2019' '4/4/2019' '4/17/2019'\n",
      " '4/23/2019' '4/30/2019' '5/6/2019' '5/15/2019' '5/20/2019' '5/29/2019']\n",
      "['12/5/2018' '12/12/2018' '1/14/2019' '1/17/2019' '1/30/2019' '2/14/2019'\n",
      " '3/5/2019' '3/19/2019' '4/23/2019' '4/30/2019' '5/6/2019' '5/10/2019'\n",
      " '5/15/2019' '5/20/2019' '5/29/2019']\n",
      "['10/23/2018' '11/1/2018' '11/8/2018' '12/5/2018' '12/12/2018' '1/17/2019'\n",
      " '1/30/2019' '2/13/2019' '3/5/2019' '3/19/2019' '4/23/2019' '4/30/2019'\n",
      " '5/6/2019' '5/10/2019' '5/15/2019' '5/20/2019' '5/29/2019']\n",
      "['12/5/2018' '12/12/2018' '12/18/2018' '1/17/2019' '1/30/2019' '2/13/2019'\n",
      " '3/5/2019' '3/19/2019' '4/23/2019' '4/30/2019' '5/6/2019' '5/10/2019'\n",
      " '5/15/2019' '5/20/2019' '5/29/2019']\n",
      "['1/9/2019' '1/17/2019' '3/12/2019' '3/21/2019' '4/4/2019' '4/17/2019'\n",
      " '4/23/2019' '4/30/2019' '5/6/2019' '5/15/2019' '5/20/2019' '5/29/2019']\n",
      "['1/9/2019' '1/17/2019' '3/12/2019' '3/19/2019' '3/21/2019' '4/4/2019'\n",
      " '4/23/2019' '4/30/2019' '5/6/2019' '5/15/2019' '5/20/2019' '5/29/2019']\n"
     ]
    }
   ],
   "source": [
    "df_col = pd.DataFrame()\n",
    "\n",
    "for i in WellDates:\n",
    "    print(i)"
   ]
  },
  {
   "cell_type": "code",
   "execution_count": 37,
   "metadata": {},
   "outputs": [
    {
     "data": {
      "text/plain": [
       "wellname\n",
       "silvertip.76.7.unit.a.10h    [12/12/2018, 1/9/2019, 1/17/2019, 1/30/2019, 3...\n",
       "silvertip.76.7.unit.a.1h     [11/1/2018, 11/8/2018, 12/5/2018, 12/19/2018, ...\n",
       "silvertip.76.7.unit.a.2h     [8/30/2018, 9/25/2018, 10/23/2018, 12/19/2018,...\n",
       "silvertip.76.7.unit.a.3h     [9/25/2018, 10/23/2018, 11/1/2018, 12/5/2018, ...\n",
       "silvertip.76.7.unit.a.4h     [12/12/2018, 3/12/2019, 3/19/2019, 3/21/2019, ...\n",
       "silvertip.76.7.unit.a.5h     [10/23/2018, 11/8/2018, 12/5/2018, 1/14/2019, ...\n",
       "silvertip.76.7.unit.a.6h     [1/17/2019, 3/12/2019, 3/19/2019, 3/21/2019, 4...\n",
       "silvertip.76.7.unit.a.7h     [12/5/2018, 12/12/2018, 1/14/2019, 1/17/2019, ...\n",
       "silvertip.76.7.unit.a.8h     [10/23/2018, 11/1/2018, 11/8/2018, 12/5/2018, ...\n",
       "silvertip.76.7.unit.a.9h     [12/5/2018, 12/12/2018, 12/18/2018, 1/17/2019,...\n",
       "silvertip.76.7.unit.b.2h     [1/9/2019, 1/17/2019, 3/12/2019, 3/21/2019, 4/...\n",
       "silvertip.76.7.unit.b.3h     [1/9/2019, 1/17/2019, 3/12/2019, 3/19/2019, 3/...\n",
       "Name: collectiondate, dtype: object"
      ]
     },
     "execution_count": 37,
     "metadata": {},
     "output_type": "execute_result"
    }
   ],
   "source": [
    "WellDates"
   ]
  },
  {
   "cell_type": "code",
   "execution_count": null,
   "metadata": {},
   "outputs": [],
   "source": []
  }
 ],
 "metadata": {
  "kernelspec": {
   "display_name": "Python [conda env:qiime2-2019.1]",
   "language": "python",
   "name": "conda-env-qiime2-2019.1-py"
  },
  "language_info": {
   "codemirror_mode": {
    "name": "ipython",
    "version": 3
   },
   "file_extension": ".py",
   "mimetype": "text/x-python",
   "name": "python",
   "nbconvert_exporter": "python",
   "pygments_lexer": "ipython3",
   "version": "3.6.7"
  }
 },
 "nbformat": 4,
 "nbformat_minor": 2
}
