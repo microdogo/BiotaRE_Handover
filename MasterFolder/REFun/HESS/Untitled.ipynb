{
 "cells": [
  {
   "cell_type": "code",
   "execution_count": 2,
   "metadata": {},
   "outputs": [],
   "source": [
    "import os\n",
    "\n",
    "# ***IMPORTANT***\n",
    "# Be sure to modify the 'qiime2-20XX.X' to indicate the version of qiime you are using\n",
    "os.environ['PATH'] = '/home/jovyan/my-conda-envs/qiime2-2019.1/bin:' + os.environ['PATH']\n",
    "os.environ['PROJ_LIB'] = '/home/jovyan/my-conda-envs/qiime2-2019.1/share/proj'"
   ]
  },
  {
   "cell_type": "code",
   "execution_count": 3,
   "metadata": {},
   "outputs": [],
   "source": [
    "import pandas as pd\n",
    "import matplotlib.pyplot as plt\n",
    "from matplotlib.patches import Rectangle\n",
    "from IPython.core.display import display, HTML\n",
    "from configparser import ConfigParser\n",
    "import math\n",
    "\n",
    "# SQL Query imports\n",
    "from sqlalchemy import create_engine, engine\n",
    "\n",
    "## Venn\n",
    "#from matplotlib_venn import venn2, venn3, venn3_circles\n",
    "\n",
    "import biota\n",
    "from biota.database import get_pg_connection, get_data\n",
    "\n",
    "from biota.util import assign_formations, rarefy\n",
    "import biota.plot as bpl\n",
    "from sourcetracker import gibbs\n",
    "\n",
    "\n",
    "%matplotlib inline"
   ]
  },
  {
   "cell_type": "code",
   "execution_count": 4,
   "metadata": {},
   "outputs": [],
   "source": [
    "df = pd.read_csv('LOO check.csv')"
   ]
  },
  {
   "cell_type": "code",
   "execution_count": 5,
   "metadata": {},
   "outputs": [
    {
     "data": {
      "text/html": [
       "<div>\n",
       "<style scoped>\n",
       "    .dataframe tbody tr th:only-of-type {\n",
       "        vertical-align: middle;\n",
       "    }\n",
       "\n",
       "    .dataframe tbody tr th {\n",
       "        vertical-align: top;\n",
       "    }\n",
       "\n",
       "    .dataframe thead th {\n",
       "        text-align: right;\n",
       "    }\n",
       "</style>\n",
       "<table border=\"1\" class=\"dataframe\">\n",
       "  <thead>\n",
       "    <tr style=\"text-align: right;\">\n",
       "      <th></th>\n",
       "      <th>wellname</th>\n",
       "      <th>NEC</th>\n",
       "      <th>bakken</th>\n",
       "      <th>three.forks</th>\n",
       "      <th>Unknown</th>\n",
       "    </tr>\n",
       "  </thead>\n",
       "  <tbody>\n",
       "    <tr>\n",
       "      <th>0</th>\n",
       "      <td>en.dobrovolny.a.155.94.1324h.3.st</td>\n",
       "      <td>0.000035</td>\n",
       "      <td>0.610915</td>\n",
       "      <td>0.293037</td>\n",
       "      <td>0.096013</td>\n",
       "    </tr>\n",
       "    <tr>\n",
       "      <th>1</th>\n",
       "      <td>en.dobrovolny.a.155.94.1324h.3.st</td>\n",
       "      <td>0.000037</td>\n",
       "      <td>0.603663</td>\n",
       "      <td>0.298584</td>\n",
       "      <td>0.097716</td>\n",
       "    </tr>\n",
       "    <tr>\n",
       "      <th>2</th>\n",
       "      <td>en.dobrovolny.a.155.94.1324h.3.st</td>\n",
       "      <td>0.000033</td>\n",
       "      <td>0.604383</td>\n",
       "      <td>0.296872</td>\n",
       "      <td>0.098712</td>\n",
       "    </tr>\n",
       "    <tr>\n",
       "      <th>3</th>\n",
       "      <td>en.eva.156.94.1621h.1</td>\n",
       "      <td>0.201522</td>\n",
       "      <td>0.456512</td>\n",
       "      <td>0.221690</td>\n",
       "      <td>0.120275</td>\n",
       "    </tr>\n",
       "    <tr>\n",
       "      <th>4</th>\n",
       "      <td>en.eva.156.94.1621h.1</td>\n",
       "      <td>0.205865</td>\n",
       "      <td>0.448290</td>\n",
       "      <td>0.225415</td>\n",
       "      <td>0.120430</td>\n",
       "    </tr>\n",
       "  </tbody>\n",
       "</table>\n",
       "</div>"
      ],
      "text/plain": [
       "                            wellname       NEC    bakken  three.forks  \\\n",
       "0  en.dobrovolny.a.155.94.1324h.3.st  0.000035  0.610915     0.293037   \n",
       "1  en.dobrovolny.a.155.94.1324h.3.st  0.000037  0.603663     0.298584   \n",
       "2  en.dobrovolny.a.155.94.1324h.3.st  0.000033  0.604383     0.296872   \n",
       "3              en.eva.156.94.1621h.1  0.201522  0.456512     0.221690   \n",
       "4              en.eva.156.94.1621h.1  0.205865  0.448290     0.225415   \n",
       "\n",
       "    Unknown  \n",
       "0  0.096013  \n",
       "1  0.097716  \n",
       "2  0.098712  \n",
       "3  0.120275  \n",
       "4  0.120430  "
      ]
     },
     "execution_count": 5,
     "metadata": {},
     "output_type": "execute_result"
    }
   ],
   "source": [
    "df.head()"
   ]
  },
  {
   "cell_type": "code",
   "execution_count": 6,
   "metadata": {},
   "outputs": [],
   "source": [
    "avg = df.groupby('wellname')"
   ]
  },
  {
   "cell_type": "code",
   "execution_count": 7,
   "metadata": {},
   "outputs": [],
   "source": [
    "dfave = df.groupby('wellname').mean()"
   ]
  },
  {
   "cell_type": "code",
   "execution_count": 8,
   "metadata": {},
   "outputs": [
    {
     "data": {
      "text/html": [
       "<div>\n",
       "<style scoped>\n",
       "    .dataframe tbody tr th:only-of-type {\n",
       "        vertical-align: middle;\n",
       "    }\n",
       "\n",
       "    .dataframe tbody tr th {\n",
       "        vertical-align: top;\n",
       "    }\n",
       "\n",
       "    .dataframe thead th {\n",
       "        text-align: right;\n",
       "    }\n",
       "</style>\n",
       "<table border=\"1\" class=\"dataframe\">\n",
       "  <thead>\n",
       "    <tr style=\"text-align: right;\">\n",
       "      <th></th>\n",
       "      <th>NEC</th>\n",
       "      <th>bakken</th>\n",
       "      <th>three.forks</th>\n",
       "      <th>Unknown</th>\n",
       "    </tr>\n",
       "    <tr>\n",
       "      <th>wellname</th>\n",
       "      <th></th>\n",
       "      <th></th>\n",
       "      <th></th>\n",
       "      <th></th>\n",
       "    </tr>\n",
       "  </thead>\n",
       "  <tbody>\n",
       "    <tr>\n",
       "      <th>en.dobrovolny.a.155.94.1324h.3.st</th>\n",
       "      <td>0.000035</td>\n",
       "      <td>0.606320</td>\n",
       "      <td>0.296164</td>\n",
       "      <td>0.097480</td>\n",
       "    </tr>\n",
       "    <tr>\n",
       "      <th>en.eva.156.94.1621h.1</th>\n",
       "      <td>0.203734</td>\n",
       "      <td>0.448897</td>\n",
       "      <td>0.225919</td>\n",
       "      <td>0.121449</td>\n",
       "    </tr>\n",
       "    <tr>\n",
       "      <th>en.hanson.156.94.3031h.2</th>\n",
       "      <td>0.001288</td>\n",
       "      <td>0.333852</td>\n",
       "      <td>0.465782</td>\n",
       "      <td>0.199078</td>\n",
       "    </tr>\n",
       "    <tr>\n",
       "      <th>en.hanson.a.155.94.0607h.3</th>\n",
       "      <td>0.000656</td>\n",
       "      <td>0.045861</td>\n",
       "      <td>0.539483</td>\n",
       "      <td>0.413999</td>\n",
       "    </tr>\n",
       "    <tr>\n",
       "      <th>en.hegland.155.94.0508h.2</th>\n",
       "      <td>0.000112</td>\n",
       "      <td>0.651510</td>\n",
       "      <td>0.117278</td>\n",
       "      <td>0.231100</td>\n",
       "    </tr>\n",
       "  </tbody>\n",
       "</table>\n",
       "</div>"
      ],
      "text/plain": [
       "                                        NEC    bakken  three.forks   Unknown\n",
       "wellname                                                                    \n",
       "en.dobrovolny.a.155.94.1324h.3.st  0.000035  0.606320     0.296164  0.097480\n",
       "en.eva.156.94.1621h.1              0.203734  0.448897     0.225919  0.121449\n",
       "en.hanson.156.94.3031h.2           0.001288  0.333852     0.465782  0.199078\n",
       "en.hanson.a.155.94.0607h.3         0.000656  0.045861     0.539483  0.413999\n",
       "en.hegland.155.94.0508h.2          0.000112  0.651510     0.117278  0.231100"
      ]
     },
     "execution_count": 8,
     "metadata": {},
     "output_type": "execute_result"
    }
   ],
   "source": [
    "dfave.head()"
   ]
  },
  {
   "cell_type": "code",
   "execution_count": 9,
   "metadata": {},
   "outputs": [],
   "source": [
    "dfave.to_csv('AvgFormations.csv')"
   ]
  },
  {
   "cell_type": "code",
   "execution_count": null,
   "metadata": {},
   "outputs": [],
   "source": []
  }
 ],
 "metadata": {
  "kernelspec": {
   "display_name": "Python [conda env:qiime2-2019.1]",
   "language": "python",
   "name": "conda-env-qiime2-2019.1-py"
  },
  "language_info": {
   "codemirror_mode": {
    "name": "ipython",
    "version": 3
   },
   "file_extension": ".py",
   "mimetype": "text/x-python",
   "name": "python",
   "nbconvert_exporter": "python",
   "pygments_lexer": "ipython3",
   "version": "3.6.7"
  }
 },
 "nbformat": 4,
 "nbformat_minor": 2
}
