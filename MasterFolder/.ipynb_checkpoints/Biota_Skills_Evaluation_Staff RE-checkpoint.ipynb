{
 "cells": [
  {
   "cell_type": "markdown",
   "metadata": {},
   "source": [
    "## Biota Skills Evaluation - Staff Reservoir Engineer / Staff Geologist\n",
    "\n",
    "The goal of this notebook is to assess several sets of skills that are required for Staff Reservoir Engineer & Staff Geologist roles at Biota.\n",
    "\n",
    "Instructions:\n",
    "* Each section contains its own set of questions which should be answered to the best of your ability\n",
    "* Completing the Statistic and Resevoir Engineering / Geology questions are required. Unix and GitHub questions are bonus questions. \n",
    "* If the answer to a question is not known to you currently, state that you have not seen that command or usage before. Then search the internet for the answer and provide it to your best ability.\n",
    "* If you cannot answer a question, provide a list of your thought processes, and what you tried along the way. This is important for Biota since we often want to accomplish the right thing, but may need help on the execution. This is materially different from not knowing what the most appropriate thing to do is in the first place.\n",
    "\n",
    "Packages:\n",
    "* This evaluation should be completable with only the basic packages listed below. If you find yourself needing different packages, please install them and note what and why you are using something specifically."
   ]
  },
  {
   "cell_type": "markdown",
   "metadata": {},
   "source": [
    "Execute the cells below to import the relevant packages and functions"
   ]
  },
  {
   "cell_type": "code",
   "execution_count": 1,
   "metadata": {
    "collapsed": true
   },
   "outputs": [],
   "source": [
    "%matplotlib inline"
   ]
  },
  {
   "cell_type": "code",
   "execution_count": 2,
   "metadata": {
    "collapsed": true
   },
   "outputs": [],
   "source": [
    "# general packages\n",
    "import numpy as np\n",
    "import pandas as pd\n",
    "import seaborn as sns\n",
    "import matplotlib.pyplot as plt\n",
    "import sklearn as sk\n",
    "import scipy as sp"
   ]
  },
  {
   "cell_type": "code",
   "execution_count": null,
   "metadata": {},
   "outputs": [],
   "source": []
  },
  {
   "cell_type": "markdown",
   "metadata": {},
   "source": [
    "## Reservoir Engineering / Geology"
   ]
  },
  {
   "cell_type": "markdown",
   "metadata": {},
   "source": [
    "### Part 1)"
   ]
  },
  {
   "cell_type": "markdown",
   "metadata": {},
   "source": [
    "##### 1) What are the main elements of a `petroleum system`? Which element is produced from in conventional vs. unconventional field development?"
   ]
  },
  {
   "cell_type": "markdown",
   "metadata": {},
   "source": []
  },
  {
   "cell_type": "markdown",
   "metadata": {},
   "source": [
    "##### 2) What are the main `drive mechanisms` of production from conventional and unconventional reservoirs?"
   ]
  },
  {
   "cell_type": "markdown",
   "metadata": {},
   "source": []
  },
  {
   "cell_type": "markdown",
   "metadata": {},
   "source": [
    "##### 3) How does the `In Situ` stress state affect the complexity of resulting hydraulic fracture system? What is the role of pre-existing natural fracturs/faults?"
   ]
  },
  {
   "cell_type": "markdown",
   "metadata": {},
   "source": []
  },
  {
   "cell_type": "markdown",
   "metadata": {},
   "source": [
    "##### 4) Unconventional wells are known for their large decline rates. What are some potential ways of extending the life of an unconventional well?"
   ]
  },
  {
   "cell_type": "markdown",
   "metadata": {},
   "source": []
  },
  {
   "cell_type": "markdown",
   "metadata": {},
   "source": [
    "##### 5) Write a brief `Technical Roadmap` for integrating DNA Diagnostic with production/pressure data, petro-physical logs and reservoir models?"
   ]
  },
  {
   "cell_type": "markdown",
   "metadata": {},
   "source": []
  },
  {
   "cell_type": "markdown",
   "metadata": {},
   "source": [
    "### Part 2)"
   ]
  },
  {
   "cell_type": "markdown",
   "metadata": {},
   "source": [
    "##### 1) Create a variable named `WellData` by reading in the well metadata as a `pandas` dataframe from the file `WellData.csv`. Set the index as the `WellName` column. (The well metadata includes average geologic and completions parameters for 115 wells in addition to their 2-year cumulative oil production.)"
   ]
  },
  {
   "cell_type": "code",
   "execution_count": null,
   "metadata": {},
   "outputs": [],
   "source": []
  },
  {
   "cell_type": "markdown",
   "metadata": {},
   "source": [
    "##### 2) Perform a `groupby` function to show how many wells are landed in formations `A` and `B`. Which target formation seems to be the main focus of the operator?"
   ]
  },
  {
   "cell_type": "code",
   "execution_count": null,
   "metadata": {},
   "outputs": [],
   "source": []
  },
  {
   "cell_type": "markdown",
   "metadata": {},
   "source": [
    "##### 3) Why do you think the operator is putting more capital in developing the formation you determined in task 2) above? Using `matplotlib` and/or `seaborn`, create a visual to summarize how main geologic parameters (porosity, saturation, thickness, pressure) differ between formation `A` and `B`. "
   ]
  },
  {
   "cell_type": "markdown",
   "metadata": {},
   "source": []
  },
  {
   "cell_type": "markdown",
   "metadata": {},
   "source": [
    "##### 4) Is there a significant difference in how formation `A` vs. formation `B` wells have been completed? Using `matplotlib` and/or `seaborn`, create a visual to summarize how main completions parameters (lateral length, injected fluid, injected proppant, average stage length) differ between formation `A`- and formation `B`-landed wells."
   ]
  },
  {
   "cell_type": "code",
   "execution_count": null,
   "metadata": {},
   "outputs": [],
   "source": []
  },
  {
   "cell_type": "markdown",
   "metadata": {},
   "source": [
    "##### 5) How does the production response vary between formation `A`- and formation `B`-landed wells? Create visualization as necessary. What do you think is causing the observed difference in production response from these two formations? "
   ]
  },
  {
   "cell_type": "code",
   "execution_count": null,
   "metadata": {},
   "outputs": [],
   "source": []
  },
  {
   "cell_type": "markdown",
   "metadata": {},
   "source": [
    "##### 6) Perform a statistical test to determine if the observed difference in mean production response (between formations `A` and `B`) is statistically significant."
   ]
  },
  {
   "cell_type": "code",
   "execution_count": null,
   "metadata": {},
   "outputs": [],
   "source": []
  },
  {
   "cell_type": "markdown",
   "metadata": {},
   "source": [
    "##### 7) Using `scikit-learn`, divide the data into training and testing sets (75% training, 25% testing)."
   ]
  },
  {
   "cell_type": "code",
   "execution_count": null,
   "metadata": {},
   "outputs": [],
   "source": []
  },
  {
   "cell_type": "markdown",
   "metadata": {},
   "source": [
    "##### 8) Using `scikit-learn`, train a `multiple linear regression` model for `CumOil_24Months` using `all` the geologic and completions parameters as your explanatory variables. Test the model, plot the results, and summarize relative statistics."
   ]
  },
  {
   "cell_type": "code",
   "execution_count": null,
   "metadata": {},
   "outputs": [],
   "source": []
  },
  {
   "cell_type": "markdown",
   "metadata": {},
   "source": [
    "##### 9) Is it a good practice to include all features in the model? Explain how model complexity may impact in-sample and out-of-sample accuracy?"
   ]
  },
  {
   "cell_type": "code",
   "execution_count": null,
   "metadata": {},
   "outputs": [],
   "source": []
  },
  {
   "cell_type": "markdown",
   "metadata": {},
   "source": [
    "##### 10) What would be your strategy for building the `best parsimonious model`? How would you choose the most important features? "
   ]
  },
  {
   "cell_type": "code",
   "execution_count": null,
   "metadata": {},
   "outputs": [],
   "source": []
  },
  {
   "cell_type": "markdown",
   "metadata": {},
   "source": [
    "##### 11) Using `scikit-learn`, perform principal coordinates analysis of the geologic features. Plot the resulting PC1 and PC2 as a scatter plot and color the points based on `TargetFormation`. "
   ]
  },
  {
   "cell_type": "code",
   "execution_count": null,
   "metadata": {},
   "outputs": [],
   "source": []
  },
  {
   "cell_type": "markdown",
   "metadata": {},
   "source": [
    "##### 12) Is PCA successful in unsupervised clustering of wells into formation `A` vs. formation `B` wells? If yes, which principal component separates formation A from Formation B wells?"
   ]
  },
  {
   "cell_type": "code",
   "execution_count": null,
   "metadata": {},
   "outputs": [],
   "source": []
  },
  {
   "cell_type": "markdown",
   "metadata": {},
   "source": [
    "### Part 3)"
   ]
  },
  {
   "cell_type": "markdown",
   "metadata": {},
   "source": [
    "##### 1) Read the following data files for a given well:\n",
    "- `WellLogs.csv` which includes petro-physical well logs. Each zone (formation) is identified with a label. \n",
    "- `Formations.csv` which includes top and bottom MDs of each zone.\n",
    "- `DNAFormationContributions.csv` which includes an estimate of how much each zone contributes to total liquid production."
   ]
  },
  {
   "cell_type": "code",
   "execution_count": null,
   "metadata": {},
   "outputs": [],
   "source": []
  },
  {
   "cell_type": "markdown",
   "metadata": {},
   "source": [
    "##### 2) Calculate `Brittleness Index` for each depth as defined by the fraction of total rock volume that is made of quartz and calcite. Hint: Use the last 6 columns of `WellLogs.csv`."
   ]
  },
  {
   "cell_type": "code",
   "execution_count": null,
   "metadata": {},
   "outputs": [],
   "source": []
  },
  {
   "cell_type": "markdown",
   "metadata": {},
   "source": [
    "##### 3) Calculate average properties for each zone using `groupby` function."
   ]
  },
  {
   "cell_type": "code",
   "execution_count": null,
   "metadata": {},
   "outputs": [],
   "source": []
  },
  {
   "cell_type": "markdown",
   "metadata": {},
   "source": [
    "##### 4) Create a visualization with 5 log tracks vs. depth: `gamma ray`, `brittleness index`, `oil volume`, `water volume`, and `formation contribution to liquid production`."
   ]
  },
  {
   "cell_type": "code",
   "execution_count": null,
   "metadata": {},
   "outputs": [],
   "source": []
  },
  {
   "cell_type": "markdown",
   "metadata": {},
   "source": [
    "##### 5) How does the brittleness index for zones A4-A6 compare with other zones? How about contribution to production according DNA diagnostics?"
   ]
  },
  {
   "cell_type": "markdown",
   "metadata": {},
   "source": []
  },
  {
   "cell_type": "markdown",
   "metadata": {},
   "source": [
    "##### 6) Generally speaking, how does formation contribution (to liquid production) correlate with formation-average brittleness index? How would you explain the observed relationship?"
   ]
  },
  {
   "cell_type": "markdown",
   "metadata": {},
   "source": []
  },
  {
   "cell_type": "markdown",
   "metadata": {},
   "source": [
    "##### 7) Are zones B3 and B4 more likely to contribute to `water production` or `oil production`? Why?"
   ]
  },
  {
   "cell_type": "markdown",
   "metadata": {},
   "source": []
  },
  {
   "cell_type": "code",
   "execution_count": null,
   "metadata": {},
   "outputs": [],
   "source": [
    "## The Following Sections should be comple"
   ]
  },
  {
   "cell_type": "code",
   "execution_count": null,
   "metadata": {},
   "outputs": [],
   "source": [
    "## Unix\n",
    "\n",
    "Unix commands are often used at Biota and data science in general."
   ]
  },
  {
   "cell_type": "markdown",
   "metadata": {},
   "source": [
    "Write the commands necessary to:\n",
    "1. Create a directory named \"test\"\n",
    "2. Create an empty file name \"foo.txt\"\n",
    "3. Create a directory inside of \"test\" called \"temp\"\n",
    "3. Copy \"foo.txt\" into \"temp\"\n",
    "4. Change the name of \"foo.txt\" to \"bar.txt\"\n",
    "5. Print the path to the current working directory\n",
    "5. Change the current working directory to home\n",
    "5. Explain the difference between a relative and absolute path"
   ]
  },
  {
   "cell_type": "markdown",
   "metadata": {},
   "source": []
  },
  {
   "cell_type": "markdown",
   "metadata": {},
   "source": [
    "## GitHub"
   ]
  },
  {
   "cell_type": "markdown",
   "metadata": {},
   "source": [
    "1. Write the command to clone a directory called \"git@github.com:user/foo\" (not a real repository)\n",
    "2. Change into that directory\n",
    "3. Create a branch called \"test\"\n",
    "4. change into that branch\n",
    "5. Create an empty file name \"foo.txt\"\n",
    "6. Add that file to the staging area\n",
    "7. Commit that file\n",
    "8. Push that file to the master branch on github\n"
   ]
  },
  {
   "cell_type": "markdown",
   "metadata": {},
   "source": []
  },
  {
   "cell_type": "markdown",
   "metadata": {},
   "source": [
    "**Thanks! Please save this jupyter notebook with inline images, and email the resulting jupyter notebook to jsawadogo@biota.com AND mschlecht@biota.com (name this file \"firstname_lastname_eval.ipynb\" for example mine would be \"mathias_schlecht_eval.ipynb\")**"
   ]
  },
  {
   "cell_type": "code",
   "execution_count": null,
   "metadata": {},
   "outputs": [],
   "source": []
  }
 ],
 "metadata": {
  "kernelspec": {
   "display_name": "Python [default]",
   "language": "python",
   "name": "python3"
  },
  "language_info": {
   "codemirror_mode": {
    "name": "ipython",
    "version": 3
   },
   "file_extension": ".py",
   "mimetype": "text/x-python",
   "name": "python",
   "nbconvert_exporter": "python",
   "pygments_lexer": "ipython3",
   "version": "3.6.6"
  }
 },
 "nbformat": 4,
 "nbformat_minor": 2
}
