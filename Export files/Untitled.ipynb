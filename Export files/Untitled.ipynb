{
 "cells": [
  {
   "cell_type": "code",
   "execution_count": 1,
   "metadata": {},
   "outputs": [],
   "source": [
    "# Declaring path variables to make Basemap work in jupyter hub. Make sure that the conda environment path matches yours\n",
    "import os\n",
    "os.environ['PATH'] = '/home/jovyan/my-conda-envs/qiime2-2019.1/bin:' + os.environ['PATH']\n",
    "os.environ['PROJ_LIB'] = '/home/jovyan/my-conda-envs/qiime2-2019.1/share/proj'"
   ]
  },
  {
   "cell_type": "code",
   "execution_count": 2,
   "metadata": {},
   "outputs": [],
   "source": [
    "# General Tool Imports\n",
    "import numpy as np\n",
    "import pandas as pd\n",
    "import matplotlib.pyplot as plt\n",
    "from matplotlib.lines import Line2D\n",
    "from mpl_toolkits.basemap import Basemap\n",
    "import biota\n",
    "import biota.plot as bpl\n",
    "import seaborn as sns\n",
    "import collections\n",
    "import matplotlib.patches as patches\n",
    "from matplotlib.patches import Rectangle\n",
    "import math\n",
    "\n",
    "from biota.database import (get_samples,\n",
    "                            get_sample_data,\n",
    "                            get_pg_connection,\n",
    "                            get_data)\n",
    "from biota.util import (rarefy,\n",
    "                        make_tree,\n",
    "                        get_dms,\n",
    "                        filter_dm_and_map,\n",
    "                        get_tax_table)\n",
    "from IPython.core.display import display, HTML\n",
    "from pickle import dump, load\n",
    "\n",
    "import lasio\n",
    "\n",
    "# SQL Query imports\n",
    "from sqlalchemy import create_engine, engine, inspect\n",
    "\n",
    "from functools import partial\n",
    "\n",
    "from ipyparallel import Client\n",
    "from sourcetracker import gibbs\n",
    "\n",
    "# Clustering imports\n",
    "from scipy.spatial.distance import pdist\n",
    "from scipy.cluster import hierarchy\n",
    "from skbio.stats.ordination import pcoa\n",
    "\n",
    "from biota.util import assign_formations\n",
    "\n",
    "%matplotlib inline"
   ]
  },
  {
   "cell_type": "code",
   "execution_count": 3,
   "metadata": {},
   "outputs": [],
   "source": [
    "Logs = lasio.read(\"Range_Weyer_15_2_GEM_interpV2.las\")"
   ]
  },
  {
   "cell_type": "code",
   "execution_count": 4,
   "metadata": {},
   "outputs": [
    {
     "data": {
      "text/plain": [
       "['DEPT',\n",
       " 'GR',\n",
       " 'RT90',\n",
       " 'RT10',\n",
       " 'RT',\n",
       " 'RXO',\n",
       " 'NLIM',\n",
       " 'CALI',\n",
       " 'RHOB',\n",
       " 'DRHO',\n",
       " 'PE',\n",
       " 'TENS',\n",
       " 'LSPD',\n",
       " 'BS',\n",
       " 'VWF',\n",
       " 'VGAS',\n",
       " 'VCBW',\n",
       " 'QRTZ',\n",
       " 'CALC',\n",
       " 'DOLO',\n",
       " 'KFEL',\n",
       " 'NFEL',\n",
       " 'PYRT',\n",
       " 'ILLI',\n",
       " 'FECL',\n",
       " 'DWPQ',\n",
       " 'DWPC',\n",
       " 'DWPD',\n",
       " 'DWPK',\n",
       " 'DWNF',\n",
       " 'DWPP',\n",
       " 'DWPI',\n",
       " 'DWFC',\n",
       " 'RINC',\n",
       " 'ROMA',\n",
       " 'PHIT',\n",
       " 'PHIE',\n",
       " 'SWE',\n",
       " 'SWT',\n",
       " 'VCL',\n",
       " 'DMG',\n",
       " 'DAL',\n",
       " 'DSI',\n",
       " 'DSUL',\n",
       " 'DK',\n",
       " 'DCA',\n",
       " 'DTI',\n",
       " 'DMN',\n",
       " 'DFE',\n",
       " 'DGD',\n",
       " 'WMG',\n",
       " 'WAL',\n",
       " 'WSI',\n",
       " 'WSUL',\n",
       " 'WK',\n",
       " 'WCA',\n",
       " 'WTI',\n",
       " 'WMN',\n",
       " 'WFE',\n",
       " 'WGD',\n",
       " 'GPE',\n",
       " 'GRTO',\n",
       " 'GRTC',\n",
       " 'POTA',\n",
       " 'URAN',\n",
       " 'THOR']"
      ]
     },
     "execution_count": 4,
     "metadata": {},
     "output_type": "execute_result"
    }
   ],
   "source": [
    "Logs.keys()"
   ]
  },
  {
   "cell_type": "code",
   "execution_count": 5,
   "metadata": {},
   "outputs": [
    {
     "data": {
      "text/plain": [
       "{'Version': [HeaderItem(mnemonic=VERS, unit=, value=2.0, descr=CWLS log ASCII Standard -V...),\n",
       "  HeaderItem(mnemonic=WRAP, unit=, value=NO, descr=One line per depth step)],\n",
       " 'Well': [HeaderItem(mnemonic=STRT, unit=F, value=10990.0, descr=START DEPTH),\n",
       "  HeaderItem(mnemonic=STOP, unit=F, value=13906.0, descr=STOP DEPTH),\n",
       "  HeaderItem(mnemonic=STEP, unit=F, value=0.25, descr=STEP DEPTH),\n",
       "  HeaderItem(mnemonic=NULL, unit=, value=-999.25, descr=NULL VALUE),\n",
       "  HeaderItem(mnemonic=SON, unit=, value=904109112, descr=JOB NUMBER),\n",
       "  HeaderItem(mnemonic=SECT, unit=, value=15, descr=SECTION),\n",
       "  HeaderItem(mnemonic=TOWN, unit=, value=16N, descr=TOWNSHIP),\n",
       "  HeaderItem(mnemonic=RANG, unit=, value=1W, descr=RANGE),\n",
       "  HeaderItem(mnemonic=UWI, unit=, value=170492083400, descr=UNIQUE WELL IDENTI...),\n",
       "  HeaderItem(mnemonic=API, unit=, value=170492083400, descr=API NUMBER),\n",
       "  HeaderItem(mnemonic=BASI, unit=, value=BACIA, descr=BASIN),\n",
       "  HeaderItem(mnemonic=HIDE, unit=, value=, descr=WELLNAMEOPERAT),\n",
       "  HeaderItem(mnemonic=CTRY, unit=, value=USA, descr=COUNTRY NAME),\n",
       "  HeaderItem(mnemonic=PROV, unit=, value=LA, descr=PROVINCE),\n",
       "  HeaderItem(mnemonic=STAT, unit=, value=LA, descr=STATE NAME),\n",
       "  HeaderItem(mnemonic=SVCO, unit=, value=Halliburton, descr=SERVICECONAME),\n",
       "  HeaderItem(mnemonic=DATE, unit=, value=11-Jul-2017, descr=DATE),\n",
       "  HeaderItem(mnemonic=PDAT, unit=, value=GL, descr=PERMANENT DATUM),\n",
       "  HeaderItem(mnemonic=DMF, unit=, value=DF, descr=DRILL MEAS FROM),\n",
       "  HeaderItem(mnemonic=MMDD, unit=, value=0.0, descr=MAG DATA DATE),\n",
       "  HeaderItem(mnemonic=MDS, unit=, value=Operator Entered, descr=MAG DATA SOURCE),\n",
       "  HeaderItem(mnemonic=COMP, unit=, value=RANGE RESOURCES - LOUISIANA, INC, des...),\n",
       "  HeaderItem(mnemonic=WELL, unit=, value=WEYERHAEUSER 15-2, descr=WELL NAME),\n",
       "  HeaderItem(mnemonic=FLD, unit=, value=VERNON, descr=FIELD NAME),\n",
       "  HeaderItem(mnemonic=LUL, unit=, value=KILGORE, descr=LOGGINGUNITLOC),\n",
       "  HeaderItem(mnemonic=CNTY, unit=, value=JACKSON, descr=COUNTY NAME),\n",
       "  HeaderItem(mnemonic=RIG, unit=, value=PATTERSON 209, descr=RIG NAME),\n",
       "  HeaderItem(mnemonic=WTH, unit=, value=OH, descr=WELLTYPEHEADER),\n",
       "  HeaderItem(mnemonic=FL1, unit=, value=Longitude  092º 27' 17.651\" W, descr=L...),\n",
       "  HeaderItem(mnemonic=FL2, unit=, value=Latitude  32º 22' 22.936\" N, descr=LOC...),\n",
       "  HeaderItem(mnemonic=LOC, unit=, value=Longitude  092º 27' 17.651\" W, descr=L...),\n",
       "  HeaderItem(mnemonic=SRVC, unit=, value=Halliburton, descr=SERVICE COMPANY),\n",
       "  HeaderItem(mnemonic=LMF, unit=, value=DF, descr=LOG MEASURED FROM),\n",
       "  HeaderItem(mnemonic=GVFD, unit=g, value=1.0, descr=GRAVITY FIELD),\n",
       "  HeaderItem(mnemonic=BAP, unit=ft, value=0.0, descr=GL ELEV ONSHORE),\n",
       "  HeaderItem(mnemonic=MFLD, unit=nT, value=48686.0, descr=MAGNETIC FIELD),\n",
       "  HeaderItem(mnemonic=AZTC, unit=deg, value=0.59, descr=AZM TOTAL CORR),\n",
       "  HeaderItem(mnemonic=MDEC, unit=deg, value=0.59, descr=MAGNETIC DECL),\n",
       "  HeaderItem(mnemonic=GRDC, unit=deg, value=0.0, descr=GRID CORRECTION),\n",
       "  HeaderItem(mnemonic=EPD, unit=ft, value=233.1, descr=ELEVATION),\n",
       "  HeaderItem(mnemonic=APD, unit=ft, value=29.5, descr=DEPTH ABOVE PD),\n",
       "  HeaderItem(mnemonic=EGL, unit=ft, value=233.1, descr=GROUND ELEVATION),\n",
       "  HeaderItem(mnemonic=TVDS, unit=ft, value=262.6, descr=TVDSS CORRECTN),\n",
       "  HeaderItem(mnemonic=LONG, unit=deg, value=-92.4549, descr=LONGITUDE),\n",
       "  HeaderItem(mnemonic=LATI, unit=deg, value=32.373, descr=LATITUDE),\n",
       "  HeaderItem(mnemonic=EKB, unit=ft, value=262.5, descr=KB ELEVATION),\n",
       "  HeaderItem(mnemonic=EDF, unit=ft, value=262.5, descr=DF ELEVATION),\n",
       "  HeaderItem(mnemonic=TDL, unit=ft, value=14225.0, descr=TOTAL DEPTH (LOGGER)),\n",
       "  HeaderItem(mnemonic=VSC, unit=, value=1, descr=VS TO CLOSURE),\n",
       "  HeaderItem(mnemonic=MAGU, unit=, value=1464710, descr=MAGUTM CHECKSUM)],\n",
       " 'Curves': [CurveItem(mnemonic=DEPT, unit=F, value=00 000 000 000, descr=Depth, original_mnemonic=DEPT, data.shape=(11665,)),\n",
       "  CurveItem(mnemonic=GR, unit=api, value=00 000 000 000, descr=Gamma API, original_mnemonic=GR, data.shape=(11665,)),\n",
       "  CurveItem(mnemonic=RT90, unit=ohmm, value=00 000 000 000, descr=90in Resistivity 2ft Res, original_mnemonic=RT90, data.shape=(11665,)),\n",
       "  CurveItem(mnemonic=RT10, unit=ohmm, value=00 000 000 000, descr=10in Resistivity 2ft Res, original_mnemonic=RT10, data.shape=(11665,)),\n",
       "  CurveItem(mnemonic=RT, unit=ohmm, value=00 000 000 000, descr=RT, original_mnemonic=RT, data.shape=(11665,)),\n",
       "  CurveItem(mnemonic=RXO, unit=ohmm, value=00 000 000 000, descr=RXO, original_mnemonic=RXO, data.shape=(11665,)),\n",
       "  CurveItem(mnemonic=NLIM, unit=decp, value=00 000 000 000, descr=Neu Por Lime, original_mnemonic=NLIM, data.shape=(11665,)),\n",
       "  CurveItem(mnemonic=CALI, unit=in, value=00 000 000 000, descr=Caliper, original_mnemonic=CALI, data.shape=(11665,)),\n",
       "  CurveItem(mnemonic=RHOB, unit=g/cc, value=00 000 000 000, descr=Density, original_mnemonic=RHOB, data.shape=(11665,)),\n",
       "  CurveItem(mnemonic=DRHO, unit=g/cc, value=00 000 000 000, descr=DensityCorr, original_mnemonic=DRHO, data.shape=(11665,)),\n",
       "  CurveItem(mnemonic=PE, unit=NONE, value=00 000 000 000, descr=Pe, original_mnemonic=PE, data.shape=(11665,)),\n",
       "  CurveItem(mnemonic=TENS, unit=lbs, value=00 000 000 000, descr=Tension, original_mnemonic=TENS, data.shape=(11665,)),\n",
       "  CurveItem(mnemonic=LSPD, unit=fpm, value=00 000 000 000, descr=Line Speed, original_mnemonic=LSPD, data.shape=(11665,)),\n",
       "  CurveItem(mnemonic=BS, unit=in, value=00 000 000 000, descr=Bit Size, original_mnemonic=BS, data.shape=(11665,)),\n",
       "  CurveItem(mnemonic=VWF, unit=decp, value=00 000 000 000, descr=Free water volume, original_mnemonic=VWF, data.shape=(11665,)),\n",
       "  CurveItem(mnemonic=VGAS, unit=decp, value=00 000 000 000, descr=Gas Volume, original_mnemonic=VGAS, data.shape=(11665,)),\n",
       "  CurveItem(mnemonic=VCBW, unit=decp, value=00 000 000 000, descr=Clay-bound water volume, original_mnemonic=VCBW, data.shape=(11665,)),\n",
       "  CurveItem(mnemonic=QRTZ, unit=decp, value=00 000 000 000, descr=Quartz Volume, original_mnemonic=QRTZ, data.shape=(11665,)),\n",
       "  CurveItem(mnemonic=CALC, unit=decp, value=00 000 000 000, descr=Calcite Volume, original_mnemonic=CALC, data.shape=(11665,)),\n",
       "  CurveItem(mnemonic=DOLO, unit=decp, value=00 000 000 000, descr=Dolomite Volume, original_mnemonic=DOLO, data.shape=(11665,)),\n",
       "  CurveItem(mnemonic=KFEL, unit=decp, value=00 000 000 000, descr=K Feldspar Volume, original_mnemonic=KFEL, data.shape=(11665,)),\n",
       "  CurveItem(mnemonic=NFEL, unit=decp, value=00 000 000 000, descr=Na Feldspar Volume, original_mnemonic=NFEL, data.shape=(11665,)),\n",
       "  CurveItem(mnemonic=PYRT, unit=decp, value=00 000 000 000, descr=Pyrite Volume, original_mnemonic=PYRT, data.shape=(11665,)),\n",
       "  CurveItem(mnemonic=ILLI, unit=decp, value=00 000 000 000, descr=Illite Volume, original_mnemonic=ILLI, data.shape=(11665,)),\n",
       "  CurveItem(mnemonic=FECL, unit=decp, value=00 000 000 000, descr=Fe Chlorite Volume, original_mnemonic=FECL, data.shape=(11665,)),\n",
       "  CurveItem(mnemonic=DWPQ, unit=decp, value=00 000 000 000, descr=Dry weight % Quartz, original_mnemonic=DWPQ, data.shape=(11665,)),\n",
       "  CurveItem(mnemonic=DWPC, unit=decp, value=00 000 000 000, descr=Dry weight % Calcite, original_mnemonic=DWPC, data.shape=(11665,)),\n",
       "  CurveItem(mnemonic=DWPD, unit=decp, value=00 000 000 000, descr=Dry weight % Dolomite, original_mnemonic=DWPD, data.shape=(11665,)),\n",
       "  CurveItem(mnemonic=DWPK, unit=decp, value=00 000 000 000, descr=Dry weight % K Feldspar, original_mnemonic=DWPK, data.shape=(11665,)),\n",
       "  CurveItem(mnemonic=DWNF, unit=decp, value=00 000 000 000, descr=Dry weight % Na Feldspar, original_mnemonic=DWNF, data.shape=(11665,)),\n",
       "  CurveItem(mnemonic=DWPP, unit=decp, value=00 000 000 000, descr=Dry weight % Pyrite, original_mnemonic=DWPP, data.shape=(11665,)),\n",
       "  CurveItem(mnemonic=DWPI, unit=decp, value=00 000 000 000, descr=Dry weight % Illite, original_mnemonic=DWPI, data.shape=(11665,)),\n",
       "  CurveItem(mnemonic=DWFC, unit=decp, value=00 000 000 000, descr=Dry weight % Fe Chlorite, original_mnemonic=DWFC, data.shape=(11665,)),\n",
       "  CurveItem(mnemonic=RINC, unit=NONE, value=00 000 000 000, descr=Reduced Incoherence, original_mnemonic=RINC, data.shape=(11665,)),\n",
       "  CurveItem(mnemonic=ROMA, unit=g/cc, value=00 000 000 000, descr=App. Mat. Density GEM, original_mnemonic=ROMA, data.shape=(11665,)),\n",
       "  CurveItem(mnemonic=PHIT, unit=decp, value=00 000 000 000, descr=Total Porosity, original_mnemonic=PHIT, data.shape=(11665,)),\n",
       "  CurveItem(mnemonic=PHIE, unit=decp, value=00 000 000 000, descr=Effective Porosity, original_mnemonic=PHIE, data.shape=(11665,)),\n",
       "  CurveItem(mnemonic=SWE, unit=decp, value=00 000 000 000, descr=Effective Water Satn., original_mnemonic=SWE, data.shape=(11665,)),\n",
       "  CurveItem(mnemonic=SWT, unit=decp, value=00 000 000 000, descr=Total Water Saturation, original_mnemonic=SWT, data.shape=(11665,)),\n",
       "  CurveItem(mnemonic=VCL, unit=decp, value=00 000 000 000, descr=Clay Volume, original_mnemonic=VCL, data.shape=(11665,)),\n",
       "  CurveItem(mnemonic=DMG, unit=decp, value=00 000 000 000, descr=DryrockMgWF, original_mnemonic=DMG, data.shape=(11665,)),\n",
       "  CurveItem(mnemonic=DAL, unit=decp, value=00 000 000 000, descr=DryrockAlWF, original_mnemonic=DAL, data.shape=(11665,)),\n",
       "  CurveItem(mnemonic=DSI, unit=decp, value=00 000 000 000, descr=DryrockSiWF, original_mnemonic=DSI, data.shape=(11665,)),\n",
       "  CurveItem(mnemonic=DSUL, unit=decp, value=00 000 000 000, descr=DryrockSuWF, original_mnemonic=DSUL, data.shape=(11665,)),\n",
       "  CurveItem(mnemonic=DK, unit=decp, value=00 000 000 000, descr=DryrockKWF, original_mnemonic=DK, data.shape=(11665,)),\n",
       "  CurveItem(mnemonic=DCA, unit=decp, value=00 000 000 000, descr=DryrockCaWF, original_mnemonic=DCA, data.shape=(11665,)),\n",
       "  CurveItem(mnemonic=DTI, unit=decp, value=00 000 000 000, descr=DryrockTiWF, original_mnemonic=DTI, data.shape=(11665,)),\n",
       "  CurveItem(mnemonic=DMN, unit=decp, value=00 000 000 000, descr=DryrockMnWF, original_mnemonic=DMN, data.shape=(11665,)),\n",
       "  CurveItem(mnemonic=DFE, unit=decp, value=00 000 000 000, descr=DryrockFeWF, original_mnemonic=DFE, data.shape=(11665,)),\n",
       "  CurveItem(mnemonic=DGD, unit=ppm, value=00 000 000 000, descr=DryrockGdWF, original_mnemonic=DGD, data.shape=(11665,)),\n",
       "  CurveItem(mnemonic=WMG, unit=decp, value=00 000 000 000, descr=WetrockMgWF, original_mnemonic=WMG, data.shape=(11665,)),\n",
       "  CurveItem(mnemonic=WAL, unit=decp, value=00 000 000 000, descr=WetrockAlWF, original_mnemonic=WAL, data.shape=(11665,)),\n",
       "  CurveItem(mnemonic=WSI, unit=decp, value=00 000 000 000, descr=WetrockSiWF, original_mnemonic=WSI, data.shape=(11665,)),\n",
       "  CurveItem(mnemonic=WSUL, unit=decp, value=00 000 000 000, descr=WetrockSuWF, original_mnemonic=WSUL, data.shape=(11665,)),\n",
       "  CurveItem(mnemonic=WK, unit=decp, value=00 000 000 000, descr=WetrockKWF, original_mnemonic=WK, data.shape=(11665,)),\n",
       "  CurveItem(mnemonic=WCA, unit=decp, value=00 000 000 000, descr=WetrockCaWF, original_mnemonic=WCA, data.shape=(11665,)),\n",
       "  CurveItem(mnemonic=WTI, unit=decp, value=00 000 000 000, descr=WetrockTiWF, original_mnemonic=WTI, data.shape=(11665,)),\n",
       "  CurveItem(mnemonic=WMN, unit=decp, value=00 000 000 000, descr=WetrockMnWF, original_mnemonic=WMN, data.shape=(11665,)),\n",
       "  CurveItem(mnemonic=WFE, unit=decp, value=00 000 000 000, descr=WetrockFeWF, original_mnemonic=WFE, data.shape=(11665,)),\n",
       "  CurveItem(mnemonic=WGD, unit=ppm, value=00 000 000 000, descr=WetrockGdWF, original_mnemonic=WGD, data.shape=(11665,)),\n",
       "  CurveItem(mnemonic=GPE, unit=b/e, value=00 000 000 000, descr=GeochemicalPE, original_mnemonic=GPE, data.shape=(11665,)),\n",
       "  CurveItem(mnemonic=GRTO, unit=api, value=00 000 000 000, descr=GammaTotal, original_mnemonic=GRTO, data.shape=(11665,)),\n",
       "  CurveItem(mnemonic=GRTC, unit=api, value=00 000 000 000, descr=GammaKT, original_mnemonic=GRTC, data.shape=(11665,)),\n",
       "  CurveItem(mnemonic=POTA, unit=%, value=00 000 000 000, descr=Potassium, original_mnemonic=POTA, data.shape=(11665,)),\n",
       "  CurveItem(mnemonic=URAN, unit=ppm, value=00 000 000 000, descr=Uranium, original_mnemonic=URAN, data.shape=(11665,)),\n",
       "  CurveItem(mnemonic=THOR, unit=ppm, value=00 000 000 000, descr=Thorium, original_mnemonic=THOR, data.shape=(11665,))],\n",
       " 'Parameter': [HeaderItem(mnemonic=BARI, unit=, value=OFF, descr=BARITE CORR),\n",
       "  HeaderItem(mnemonic=BHT, unit=degF, value=330.0, descr=BottomHole Temp),\n",
       "  HeaderItem(mnemonic=BLI, unit=ft, value=14216.0, descr=BotLog Interval),\n",
       "  HeaderItem(mnemonic=BRMP, unit=, value=No, descr=BromidePresent),\n",
       "  HeaderItem(mnemonic=BSZ, unit=in, value=6.75, descr=Bit Size),\n",
       "  HeaderItem(mnemonic=CDS, unit=ft, value=0.0, descr=CasingStartDep),\n",
       "  HeaderItem(mnemonic=CSGD, unit=ft, value=10982.0, descr=Casing Depth),\n",
       "  HeaderItem(mnemonic=CSGL, unit=ft, value=10972.0, descr=Casing Logged),\n",
       "  HeaderItem(mnemonic=CSOD, unit=in, value=7.625, descr=Casing OD),\n",
       "  HeaderItem(mnemonic=DATE, unit=, value=12-Jul-17, descr=Run Date),\n",
       "  HeaderItem(mnemonic=DCS, unit=, value=11-Jul-17, descr=DateCircEndT),\n",
       "  HeaderItem(mnemonic=DFD, unit=ppg, value=18.1, descr=Mud Density),\n",
       "  HeaderItem(mnemonic=DFV:1, unit=cP, value=33.0, descr=Mud Viscosity),\n",
       "  HeaderItem(mnemonic=DLAB, unit=, value=12-Jul-17, descr=LogStartDateT),\n",
       "  HeaderItem(mnemonic=ENGI, unit=, value=R. GLEITZ, descr=Engineer Name),\n",
       "  HeaderItem(mnemonic=FLOS, unit=cptm, value=2.0, descr=Fluid Loss),\n",
       "  HeaderItem(mnemonic=DFT, unit=, value=Water Based Mud, descr=Mud Type),\n",
       "  HeaderItem(mnemonic=IQVR, unit=, value=WL INSITE R5.2.0 (Build 5), descr=WLI...),\n",
       "  HeaderItem(mnemonic=LSTM, unit=ucts, value=13.53.34 12-Jul-17, descr=Log Sta...),\n",
       "  HeaderItem(mnemonic=LTYP, unit=, value=RAW, descr=LogDataType),\n",
       "  HeaderItem(mnemonic=LUL, unit=, value=KILGORE, descr=LoggingUnitLoc),\n",
       "  HeaderItem(mnemonic=LUN, unit=, value=12147665, descr=LoggingUnitNum),\n",
       "  HeaderItem(mnemonic=PH, unit=pH, value=10.5, descr=Mud pH),\n",
       "  HeaderItem(mnemonic=MFSS, unit=, value=MEAS, descr=Rmf Source),\n",
       "  HeaderItem(mnemonic=MRT, unit=degF, value=330.0, descr=Maximum Recorded Temp...),\n",
       "  HeaderItem(mnemonic=MSS, unit=, value=MUD TANK, descr=Mud Sample Source),\n",
       "  HeaderItem(mnemonic=MTD, unit=ft, value=14225.0, descr=Max Temp Depth),\n",
       "  HeaderItem(mnemonic=DFV:2, unit=s/qt, value=47.0, descr=Mud Viscosity),\n",
       "  HeaderItem(mnemonic=RMS, unit=ohmm, value=1.12, descr=Mud Resistivity),\n",
       "  HeaderItem(mnemonic=RMB, unit=ohmm, value=0.32, descr=Rm @ BHT),\n",
       "  HeaderItem(mnemonic=RMCS:1, unit=ohmm, value=1.43, descr=Mud Cake Resistivity),\n",
       "  HeaderItem(mnemonic=RMCS:2, unit=, value=MEAS, descr=Mud Cake Resistivity),\n",
       "  HeaderItem(mnemonic=MCST, unit=degF, value=89.0, descr=Mud Cake Sample Tempe...),\n",
       "  HeaderItem(mnemonic=RMFS, unit=ohmm, value=0.94, descr=Mud Filtrate Resistivity),\n",
       "  HeaderItem(mnemonic=RMFT, unit=degF, value=89.0, descr=Mud Filtrate Sample T...),\n",
       "  HeaderItem(mnemonic=MST, unit=degF, value=88.0, descr=Mud Sample Temperature),\n",
       "  HeaderItem(mnemonic=RUN, unit=, value=THREE, descr=Run Number),\n",
       "  HeaderItem(mnemonic=SCT1, unit=, value=12-Jul-17, descr=StartDateRun1),\n",
       "  HeaderItem(mnemonic=STEM, unit=degF, value=75.0, descr=Surface Temp),\n",
       "  HeaderItem(mnemonic=SVCN, unit=, value=TRIPLE-GREEN-CSNG-GEM-XHP-BN-TS, desc...),\n",
       "  HeaderItem(mnemonic=SVCS, unit=, value=CH_HOS, GTET, GEMT XHP Mandrel, DSNT,...),\n",
       "  HeaderItem(mnemonic=TCS:1, unit=, value=15 16, descr=Time Ciculation Ended),\n",
       "  HeaderItem(mnemonic=TCS:2, unit=hr, value=22.0, descr=Time Ciculation Ended),\n",
       "  HeaderItem(mnemonic=TDCE, unit=ucts, value=15.16.02 11-Jul-17, descr=Time Ci...),\n",
       "  HeaderItem(mnemonic=TDD, unit=ft, value=14220.0, descr=Depth Driller),\n",
       "  HeaderItem(mnemonic=TDL, unit=ft, value=14225.0, descr=Depth Logger),\n",
       "  HeaderItem(mnemonic=TLAB, unit=, value=13 53, descr=LogStartTimeT),\n",
       "  HeaderItem(mnemonic=TSC, unit=, value=22 00, descr=Time Sin Circ),\n",
       "  HeaderItem(mnemonic=WITN, unit=, value=L. FIDLER, descr=Witness Name)],\n",
       " 'Other': ''}"
      ]
     },
     "execution_count": 5,
     "metadata": {},
     "output_type": "execute_result"
    }
   ],
   "source": [
    "Logs.header"
   ]
  },
  {
   "cell_type": "code",
   "execution_count": 6,
   "metadata": {},
   "outputs": [
    {
     "name": "stdout",
     "output_type": "stream",
     "text": [
      "[2.692  2.6952 2.6949 ... 2.6329 2.6305 2.6236]\n"
     ]
    }
   ],
   "source": [
    "print(Logs.curves.RHOB.data)"
   ]
  },
  {
   "cell_type": "code",
   "execution_count": 7,
   "metadata": {},
   "outputs": [
    {
     "data": {
      "text/plain": [
       "(11665,)"
      ]
     },
     "execution_count": 7,
     "metadata": {},
     "output_type": "execute_result"
    }
   ],
   "source": [
    "Logs.curves.RHOB.data.shape"
   ]
  },
  {
   "cell_type": "code",
   "execution_count": 8,
   "metadata": {},
   "outputs": [
    {
     "data": {
      "text/plain": [
       "(11665,)"
      ]
     },
     "execution_count": 8,
     "metadata": {},
     "output_type": "execute_result"
    }
   ],
   "source": [
    "Logs.curves.DEPT.data.shape"
   ]
  },
  {
   "cell_type": "code",
   "execution_count": 9,
   "metadata": {},
   "outputs": [
    {
     "data": {
      "text/plain": [
       "[<matplotlib.lines.Line2D at 0x7fe8b5bd48d0>]"
      ]
     },
     "execution_count": 9,
     "metadata": {},
     "output_type": "execute_result"
    },
    {
     "data": {
      "image/png": "[encoded data removed]",
      "text/plain": [
       "<Figure size 432x288 with 1 Axes>"
      ]
     },
     "metadata": {
      "needs_background": "light"
     },
     "output_type": "display_data"
    }
   ],
   "source": [
    "plt.plot(Logs.index,Logs[\"RHOB\"])"
   ]
  },
  {
   "cell_type": "code",
   "execution_count": 10,
   "metadata": {},
   "outputs": [
    {
     "data": {
      "text/plain": [
       "[<matplotlib.lines.Line2D at 0x7fe8b5bb4be0>]"
      ]
     },
     "execution_count": 10,
     "metadata": {},
     "output_type": "execute_result"
    },
    {
     "data": {
      "image/png": "[encoded data removed]",
      "text/plain": [
       "<Figure size 432x288 with 1 Axes>"
      ]
     },
     "metadata": {
      "needs_background": "light"
     },
     "output_type": "display_data"
    }
   ],
   "source": [
    "plt.plot(Logs[\"DEPT\"],Logs[\"RHOB\"])"
   ]
  },
  {
   "cell_type": "code",
   "execution_count": 11,
   "metadata": {},
   "outputs": [],
   "source": [
    "Logs[\"SYN\"] = Logs[\"RHOB\"]*Logs[\"GR\"]    "
   ]
  },
  {
   "cell_type": "code",
   "execution_count": 12,
   "metadata": {},
   "outputs": [
    {
     "data": {
      "text/plain": [
       "[<matplotlib.lines.Line2D at 0x7fe8b5b12dd8>]"
      ]
     },
     "execution_count": 12,
     "metadata": {},
     "output_type": "execute_result"
    },
    {
     "data": {
      "image/png": "[encoded data removed]",
      "text/plain": [
       "<Figure size 432x288 with 1 Axes>"
      ]
     },
     "metadata": {
      "needs_background": "light"
     },
     "output_type": "display_data"
    }
   ],
   "source": [
    "plt.plot(Logs.index,Logs[\"SYN\"])"
   ]
  },
  {
   "cell_type": "code",
   "execution_count": 13,
   "metadata": {},
   "outputs": [
    {
     "data": {
      "text/plain": [
       "[<matplotlib.lines.Line2D at 0x7fe8b5aa10f0>]"
      ]
     },
     "execution_count": 13,
     "metadata": {},
     "output_type": "execute_result"
    },
    {
     "data": {
      "image/png": "[encoded data removed]",
      "text/plain": [
       "<Figure size 432x288 with 1 Axes>"
      ]
     },
     "metadata": {
      "needs_background": "light"
     },
     "output_type": "display_data"
    }
   ],
   "source": [
    "plt.plot(Logs[\"SYN\"],Logs.index)"
   ]
  },
  {
   "cell_type": "code",
   "execution_count": 14,
   "metadata": {},
   "outputs": [],
   "source": [
    "df = Logs.df() "
   ]
  },
  {
   "cell_type": "code",
   "execution_count": 15,
   "metadata": {},
   "outputs": [
    {
     "data": {
      "text/html": [
       "<div>\n",
       "<style scoped>\n",
       "    .dataframe tbody tr th:only-of-type {\n",
       "        vertical-align: middle;\n",
       "    }\n",
       "\n",
       "    .dataframe tbody tr th {\n",
       "        vertical-align: top;\n",
       "    }\n",
       "\n",
       "    .dataframe thead th {\n",
       "        text-align: right;\n",
       "    }\n",
       "</style>\n",
       "<table border=\"1\" class=\"dataframe\">\n",
       "  <thead>\n",
       "    <tr style=\"text-align: right;\">\n",
       "      <th></th>\n",
       "      <th>GR</th>\n",
       "      <th>RT90</th>\n",
       "      <th>RT10</th>\n",
       "      <th>RT</th>\n",
       "      <th>RXO</th>\n",
       "      <th>NLIM</th>\n",
       "      <th>CALI</th>\n",
       "      <th>RHOB</th>\n",
       "      <th>DRHO</th>\n",
       "      <th>PE</th>\n",
       "      <th>...</th>\n",
       "      <th>WMN</th>\n",
       "      <th>WFE</th>\n",
       "      <th>WGD</th>\n",
       "      <th>GPE</th>\n",
       "      <th>GRTO</th>\n",
       "      <th>GRTC</th>\n",
       "      <th>POTA</th>\n",
       "      <th>URAN</th>\n",
       "      <th>THOR</th>\n",
       "      <th>SYN</th>\n",
       "    </tr>\n",
       "    <tr>\n",
       "      <th>DEPT</th>\n",
       "      <th></th>\n",
       "      <th></th>\n",
       "      <th></th>\n",
       "      <th></th>\n",
       "      <th></th>\n",
       "      <th></th>\n",
       "      <th></th>\n",
       "      <th></th>\n",
       "      <th></th>\n",
       "      <th></th>\n",
       "      <th></th>\n",
       "      <th></th>\n",
       "      <th></th>\n",
       "      <th></th>\n",
       "      <th></th>\n",
       "      <th></th>\n",
       "      <th></th>\n",
       "      <th></th>\n",
       "      <th></th>\n",
       "      <th></th>\n",
       "      <th></th>\n",
       "    </tr>\n",
       "  </thead>\n",
       "  <tbody>\n",
       "    <tr>\n",
       "      <th>10990.00</th>\n",
       "      <td>28.5660</td>\n",
       "      <td>22.4923</td>\n",
       "      <td>30.2969</td>\n",
       "      <td>22.4459</td>\n",
       "      <td>31.7597</td>\n",
       "      <td>0.0815</td>\n",
       "      <td>10.0087</td>\n",
       "      <td>2.6920</td>\n",
       "      <td>-0.0246</td>\n",
       "      <td>5.0471</td>\n",
       "      <td>...</td>\n",
       "      <td>0.0</td>\n",
       "      <td>0.0152</td>\n",
       "      <td>0.0015</td>\n",
       "      <td>3.5777</td>\n",
       "      <td>49.1123</td>\n",
       "      <td>36.0285</td>\n",
       "      <td>1.2314</td>\n",
       "      <td>1.7881</td>\n",
       "      <td>5.0153</td>\n",
       "      <td>76.899672</td>\n",
       "    </tr>\n",
       "    <tr>\n",
       "      <th>10990.25</th>\n",
       "      <td>29.0288</td>\n",
       "      <td>18.8745</td>\n",
       "      <td>23.1374</td>\n",
       "      <td>18.8424</td>\n",
       "      <td>23.9836</td>\n",
       "      <td>0.0952</td>\n",
       "      <td>10.0066</td>\n",
       "      <td>2.6952</td>\n",
       "      <td>-0.0253</td>\n",
       "      <td>5.2001</td>\n",
       "      <td>...</td>\n",
       "      <td>0.0</td>\n",
       "      <td>0.0157</td>\n",
       "      <td>0.0030</td>\n",
       "      <td>3.5213</td>\n",
       "      <td>52.7523</td>\n",
       "      <td>38.6722</td>\n",
       "      <td>1.3487</td>\n",
       "      <td>1.8709</td>\n",
       "      <td>5.2490</td>\n",
       "      <td>78.238422</td>\n",
       "    </tr>\n",
       "    <tr>\n",
       "      <th>10990.50</th>\n",
       "      <td>29.4236</td>\n",
       "      <td>16.4680</td>\n",
       "      <td>18.9027</td>\n",
       "      <td>16.4441</td>\n",
       "      <td>19.4770</td>\n",
       "      <td>0.1121</td>\n",
       "      <td>10.0196</td>\n",
       "      <td>2.6949</td>\n",
       "      <td>-0.0306</td>\n",
       "      <td>5.5896</td>\n",
       "      <td>...</td>\n",
       "      <td>0.0</td>\n",
       "      <td>0.0158</td>\n",
       "      <td>0.0130</td>\n",
       "      <td>3.4440</td>\n",
       "      <td>56.6330</td>\n",
       "      <td>41.6026</td>\n",
       "      <td>1.4679</td>\n",
       "      <td>1.9861</td>\n",
       "      <td>5.5567</td>\n",
       "      <td>79.293660</td>\n",
       "    </tr>\n",
       "    <tr>\n",
       "      <th>10990.75</th>\n",
       "      <td>30.4836</td>\n",
       "      <td>13.4729</td>\n",
       "      <td>14.7268</td>\n",
       "      <td>13.4573</td>\n",
       "      <td>15.0794</td>\n",
       "      <td>0.1382</td>\n",
       "      <td>10.0668</td>\n",
       "      <td>2.6932</td>\n",
       "      <td>-0.0418</td>\n",
       "      <td>6.4211</td>\n",
       "      <td>...</td>\n",
       "      <td>0.0</td>\n",
       "      <td>0.0157</td>\n",
       "      <td>0.0411</td>\n",
       "      <td>3.3601</td>\n",
       "      <td>60.7631</td>\n",
       "      <td>44.5056</td>\n",
       "      <td>1.5776</td>\n",
       "      <td>2.1400</td>\n",
       "      <td>5.8997</td>\n",
       "      <td>82.098432</td>\n",
       "    </tr>\n",
       "    <tr>\n",
       "      <th>10991.00</th>\n",
       "      <td>31.6252</td>\n",
       "      <td>9.5708</td>\n",
       "      <td>10.1617</td>\n",
       "      <td>9.5632</td>\n",
       "      <td>10.3225</td>\n",
       "      <td>0.1765</td>\n",
       "      <td>10.1082</td>\n",
       "      <td>2.6955</td>\n",
       "      <td>-0.0546</td>\n",
       "      <td>7.6480</td>\n",
       "      <td>...</td>\n",
       "      <td>0.0</td>\n",
       "      <td>0.0153</td>\n",
       "      <td>0.1097</td>\n",
       "      <td>3.2922</td>\n",
       "      <td>65.1827</td>\n",
       "      <td>47.4354</td>\n",
       "      <td>1.6761</td>\n",
       "      <td>2.2924</td>\n",
       "      <td>6.3019</td>\n",
       "      <td>85.245727</td>\n",
       "    </tr>\n",
       "  </tbody>\n",
       "</table>\n",
       "<p>5 rows × 66 columns</p>\n",
       "</div>"
      ],
      "text/plain": [
       "               GR     RT90     RT10       RT      RXO    NLIM     CALI  \\\n",
       "DEPT                                                                     \n",
       "10990.00  28.5660  22.4923  30.2969  22.4459  31.7597  0.0815  10.0087   \n",
       "10990.25  29.0288  18.8745  23.1374  18.8424  23.9836  0.0952  10.0066   \n",
       "10990.50  29.4236  16.4680  18.9027  16.4441  19.4770  0.1121  10.0196   \n",
       "10990.75  30.4836  13.4729  14.7268  13.4573  15.0794  0.1382  10.0668   \n",
       "10991.00  31.6252   9.5708  10.1617   9.5632  10.3225  0.1765  10.1082   \n",
       "\n",
       "            RHOB    DRHO      PE    ...      WMN     WFE     WGD     GPE  \\\n",
       "DEPT                                ...                                    \n",
       "10990.00  2.6920 -0.0246  5.0471    ...      0.0  0.0152  0.0015  3.5777   \n",
       "10990.25  2.6952 -0.0253  5.2001    ...      0.0  0.0157  0.0030  3.5213   \n",
       "10990.50  2.6949 -0.0306  5.5896    ...      0.0  0.0158  0.0130  3.4440   \n",
       "10990.75  2.6932 -0.0418  6.4211    ...      0.0  0.0157  0.0411  3.3601   \n",
       "10991.00  2.6955 -0.0546  7.6480    ...      0.0  0.0153  0.1097  3.2922   \n",
       "\n",
       "             GRTO     GRTC    POTA    URAN    THOR        SYN  \n",
       "DEPT                                                           \n",
       "10990.00  49.1123  36.0285  1.2314  1.7881  5.0153  76.899672  \n",
       "10990.25  52.7523  38.6722  1.3487  1.8709  5.2490  78.238422  \n",
       "10990.50  56.6330  41.6026  1.4679  1.9861  5.5567  79.293660  \n",
       "10990.75  60.7631  44.5056  1.5776  2.1400  5.8997  82.098432  \n",
       "10991.00  65.1827  47.4354  1.6761  2.2924  6.3019  85.245727  \n",
       "\n",
       "[5 rows x 66 columns]"
      ]
     },
     "execution_count": 15,
     "metadata": {},
     "output_type": "execute_result"
    }
   ],
   "source": [
    "df.head()"
   ]
  },
  {
   "cell_type": "code",
   "execution_count": 163,
   "metadata": {},
   "outputs": [],
   "source": [
    "df_gr = df.loc[:,'RHOB'].to_frame()"
   ]
  },
  {
   "cell_type": "code",
   "execution_count": 195,
   "metadata": {},
   "outputs": [],
   "source": [
    "df_syn = df.loc[:,['GR','RT']]"
   ]
  },
  {
   "cell_type": "code",
   "execution_count": 177,
   "metadata": {},
   "outputs": [
    {
     "data": {
      "text/html": [
       "<div>\n",
       "<style scoped>\n",
       "    .dataframe tbody tr th:only-of-type {\n",
       "        vertical-align: middle;\n",
       "    }\n",
       "\n",
       "    .dataframe tbody tr th {\n",
       "        vertical-align: top;\n",
       "    }\n",
       "\n",
       "    .dataframe thead th {\n",
       "        text-align: right;\n",
       "    }\n",
       "</style>\n",
       "<table border=\"1\" class=\"dataframe\">\n",
       "  <thead>\n",
       "    <tr style=\"text-align: right;\">\n",
       "      <th></th>\n",
       "      <th>RHOB</th>\n",
       "    </tr>\n",
       "    <tr>\n",
       "      <th>DEPT</th>\n",
       "      <th></th>\n",
       "    </tr>\n",
       "  </thead>\n",
       "  <tbody>\n",
       "    <tr>\n",
       "      <th>10990.00</th>\n",
       "      <td>2.6920</td>\n",
       "    </tr>\n",
       "    <tr>\n",
       "      <th>10990.25</th>\n",
       "      <td>2.6952</td>\n",
       "    </tr>\n",
       "    <tr>\n",
       "      <th>10990.50</th>\n",
       "      <td>2.6949</td>\n",
       "    </tr>\n",
       "    <tr>\n",
       "      <th>10990.75</th>\n",
       "      <td>2.6932</td>\n",
       "    </tr>\n",
       "    <tr>\n",
       "      <th>10991.00</th>\n",
       "      <td>2.6955</td>\n",
       "    </tr>\n",
       "  </tbody>\n",
       "</table>\n",
       "</div>"
      ],
      "text/plain": [
       "            RHOB\n",
       "DEPT            \n",
       "10990.00  2.6920\n",
       "10990.25  2.6952\n",
       "10990.50  2.6949\n",
       "10990.75  2.6932\n",
       "10991.00  2.6955"
      ]
     },
     "execution_count": 177,
     "metadata": {},
     "output_type": "execute_result"
    }
   ],
   "source": [
    "df_gr.head()"
   ]
  },
  {
   "cell_type": "code",
   "execution_count": 201,
   "metadata": {},
   "outputs": [
    {
     "data": {
      "text/html": [
       "<div>\n",
       "<style scoped>\n",
       "    .dataframe tbody tr th:only-of-type {\n",
       "        vertical-align: middle;\n",
       "    }\n",
       "\n",
       "    .dataframe tbody tr th {\n",
       "        vertical-align: top;\n",
       "    }\n",
       "\n",
       "    .dataframe thead th {\n",
       "        text-align: right;\n",
       "    }\n",
       "</style>\n",
       "<table border=\"1\" class=\"dataframe\">\n",
       "  <thead>\n",
       "    <tr style=\"text-align: right;\">\n",
       "      <th></th>\n",
       "      <th>GR</th>\n",
       "      <th>RT</th>\n",
       "    </tr>\n",
       "    <tr>\n",
       "      <th>DEPT</th>\n",
       "      <th></th>\n",
       "      <th></th>\n",
       "    </tr>\n",
       "  </thead>\n",
       "  <tbody>\n",
       "    <tr>\n",
       "      <th>10990.00</th>\n",
       "      <td>28.5660</td>\n",
       "      <td>22.4459</td>\n",
       "    </tr>\n",
       "    <tr>\n",
       "      <th>10990.25</th>\n",
       "      <td>29.0288</td>\n",
       "      <td>18.8424</td>\n",
       "    </tr>\n",
       "    <tr>\n",
       "      <th>10990.50</th>\n",
       "      <td>29.4236</td>\n",
       "      <td>16.4441</td>\n",
       "    </tr>\n",
       "    <tr>\n",
       "      <th>10990.75</th>\n",
       "      <td>30.4836</td>\n",
       "      <td>13.4573</td>\n",
       "    </tr>\n",
       "    <tr>\n",
       "      <th>10991.00</th>\n",
       "      <td>31.6252</td>\n",
       "      <td>9.5632</td>\n",
       "    </tr>\n",
       "  </tbody>\n",
       "</table>\n",
       "</div>"
      ],
      "text/plain": [
       "               GR       RT\n",
       "DEPT                      \n",
       "10990.00  28.5660  22.4459\n",
       "10990.25  29.0288  18.8424\n",
       "10990.50  29.4236  16.4441\n",
       "10990.75  30.4836  13.4573\n",
       "10991.00  31.6252   9.5632"
      ]
     },
     "execution_count": 201,
     "metadata": {},
     "output_type": "execute_result"
    }
   ],
   "source": [
    "df_syn.head()"
   ]
  },
  {
   "cell_type": "code",
   "execution_count": 213,
   "metadata": {},
   "outputs": [
    {
     "data": {
      "text/html": [
       "<div>\n",
       "<style scoped>\n",
       "    .dataframe tbody tr th:only-of-type {\n",
       "        vertical-align: middle;\n",
       "    }\n",
       "\n",
       "    .dataframe tbody tr th {\n",
       "        vertical-align: top;\n",
       "    }\n",
       "\n",
       "    .dataframe thead th {\n",
       "        text-align: right;\n",
       "    }\n",
       "</style>\n",
       "<table border=\"1\" class=\"dataframe\">\n",
       "  <thead>\n",
       "    <tr style=\"text-align: right;\">\n",
       "      <th></th>\n",
       "      <th>GR</th>\n",
       "      <th>RT</th>\n",
       "    </tr>\n",
       "    <tr>\n",
       "      <th>DEPT</th>\n",
       "      <th></th>\n",
       "      <th></th>\n",
       "    </tr>\n",
       "  </thead>\n",
       "  <tbody>\n",
       "    <tr>\n",
       "      <th>10990.00</th>\n",
       "      <td>28.5660</td>\n",
       "      <td>22.4459</td>\n",
       "    </tr>\n",
       "    <tr>\n",
       "      <th>10990.25</th>\n",
       "      <td>29.0288</td>\n",
       "      <td>18.8424</td>\n",
       "    </tr>\n",
       "    <tr>\n",
       "      <th>10990.50</th>\n",
       "      <td>29.4236</td>\n",
       "      <td>16.4441</td>\n",
       "    </tr>\n",
       "    <tr>\n",
       "      <th>10990.75</th>\n",
       "      <td>30.4836</td>\n",
       "      <td>13.4573</td>\n",
       "    </tr>\n",
       "    <tr>\n",
       "      <th>10991.00</th>\n",
       "      <td>31.6252</td>\n",
       "      <td>9.5632</td>\n",
       "    </tr>\n",
       "  </tbody>\n",
       "</table>\n",
       "</div>"
      ],
      "text/plain": [
       "               GR       RT\n",
       "DEPT                      \n",
       "10990.00  28.5660  22.4459\n",
       "10990.25  29.0288  18.8424\n",
       "10990.50  29.4236  16.4441\n",
       "10990.75  30.4836  13.4573\n",
       "10991.00  31.6252   9.5632"
      ]
     },
     "execution_count": 213,
     "metadata": {},
     "output_type": "execute_result"
    }
   ],
   "source": [
    "df_syn.head()\n",
    "\n",
    "#foo = df_syn[\"GR\"] * df_syn.iloc[1,0]\n",
    "#foo"
   ]
  },
  {
   "cell_type": "code",
   "execution_count": 164,
   "metadata": {},
   "outputs": [
    {
     "data": {
      "text/plain": [
       "RHOB    2.4248\n",
       "dtype: float64"
      ]
     },
     "execution_count": 164,
     "metadata": {},
     "output_type": "execute_result"
    }
   ],
   "source": [
    "df_gr.min()"
   ]
  },
  {
   "cell_type": "code",
   "execution_count": 165,
   "metadata": {},
   "outputs": [
    {
     "data": {
      "text/plain": [
       "<Figure size 720x720 with 0 Axes>"
      ]
     },
     "execution_count": 165,
     "metadata": {},
     "output_type": "execute_result"
    },
    {
     "data": {
      "text/plain": [
       "<Figure size 720x720 with 0 Axes>"
      ]
     },
     "metadata": {},
     "output_type": "display_data"
    }
   ],
   "source": [
    "plt.figure(figsize = (10,10))"
   ]
  },
  {
   "cell_type": "code",
   "execution_count": 166,
   "metadata": {},
   "outputs": [
    {
     "data": {
      "image/png": "[encoded data removed]",
      "text/plain": [
       "<Figure size 432x288 with 2 Axes>"
      ]
     },
     "metadata": {
      "needs_background": "light"
     },
     "output_type": "display_data"
    }
   ],
   "source": [
    "ax = sns.heatmap(df_gr,cmap =\"summer\", vmin = df_gr.min(),vmax = df_gr.max())"
   ]
  },
  {
   "cell_type": "code",
   "execution_count": 57,
   "metadata": {},
   "outputs": [
    {
     "data": {
      "text/html": [
       "<div>\n",
       "<style scoped>\n",
       "    .dataframe tbody tr th:only-of-type {\n",
       "        vertical-align: middle;\n",
       "    }\n",
       "\n",
       "    .dataframe tbody tr th {\n",
       "        vertical-align: top;\n",
       "    }\n",
       "\n",
       "    .dataframe thead th {\n",
       "        text-align: right;\n",
       "    }\n",
       "</style>\n",
       "<table border=\"1\" class=\"dataframe\">\n",
       "  <thead>\n",
       "    <tr style=\"text-align: right;\">\n",
       "      <th></th>\n",
       "      <th>GR</th>\n",
       "    </tr>\n",
       "    <tr>\n",
       "      <th>DEPT</th>\n",
       "      <th></th>\n",
       "    </tr>\n",
       "  </thead>\n",
       "  <tbody>\n",
       "    <tr>\n",
       "      <th>10990.00</th>\n",
       "      <td>28.5660</td>\n",
       "    </tr>\n",
       "    <tr>\n",
       "      <th>10990.25</th>\n",
       "      <td>29.0288</td>\n",
       "    </tr>\n",
       "    <tr>\n",
       "      <th>10990.50</th>\n",
       "      <td>29.4236</td>\n",
       "    </tr>\n",
       "    <tr>\n",
       "      <th>10990.75</th>\n",
       "      <td>30.4836</td>\n",
       "    </tr>\n",
       "    <tr>\n",
       "      <th>10991.00</th>\n",
       "      <td>31.6252</td>\n",
       "    </tr>\n",
       "  </tbody>\n",
       "</table>\n",
       "</div>"
      ],
      "text/plain": [
       "               GR\n",
       "DEPT             \n",
       "10990.00  28.5660\n",
       "10990.25  29.0288\n",
       "10990.50  29.4236\n",
       "10990.75  30.4836\n",
       "10991.00  31.6252"
      ]
     },
     "execution_count": 57,
     "metadata": {},
     "output_type": "execute_result"
    }
   ],
   "source": [
    "df_gr.head()"
   ]
  },
  {
   "cell_type": "code",
   "execution_count": 49,
   "metadata": {},
   "outputs": [],
   "source": [
    "sonicdata = pd.read_csv('DTC Range Resources.txt',delimiter=\"\\t\", index_col = 'DEPT')"
   ]
  },
  {
   "cell_type": "code",
   "execution_count": 50,
   "metadata": {},
   "outputs": [],
   "source": [
    "sonicdata = sonicdata[sonicdata.DTC>0]"
   ]
  },
  {
   "cell_type": "code",
   "execution_count": 51,
   "metadata": {},
   "outputs": [
    {
     "data": {
      "text/html": [
       "<div>\n",
       "<style scoped>\n",
       "    .dataframe tbody tr th:only-of-type {\n",
       "        vertical-align: middle;\n",
       "    }\n",
       "\n",
       "    .dataframe tbody tr th {\n",
       "        vertical-align: top;\n",
       "    }\n",
       "\n",
       "    .dataframe thead th {\n",
       "        text-align: right;\n",
       "    }\n",
       "</style>\n",
       "<table border=\"1\" class=\"dataframe\">\n",
       "  <thead>\n",
       "    <tr style=\"text-align: right;\">\n",
       "      <th></th>\n",
       "      <th>DTC</th>\n",
       "    </tr>\n",
       "    <tr>\n",
       "      <th>DEPT</th>\n",
       "      <th></th>\n",
       "    </tr>\n",
       "  </thead>\n",
       "  <tbody>\n",
       "    <tr>\n",
       "      <th>11000.5</th>\n",
       "      <td>64.0521</td>\n",
       "    </tr>\n",
       "    <tr>\n",
       "      <th>11100.5</th>\n",
       "      <td>49.2653</td>\n",
       "    </tr>\n",
       "    <tr>\n",
       "      <th>11200.5</th>\n",
       "      <td>55.9402</td>\n",
       "    </tr>\n",
       "    <tr>\n",
       "      <th>11300.5</th>\n",
       "      <td>63.3536</td>\n",
       "    </tr>\n",
       "    <tr>\n",
       "      <th>11400.5</th>\n",
       "      <td>62.9691</td>\n",
       "    </tr>\n",
       "  </tbody>\n",
       "</table>\n",
       "</div>"
      ],
      "text/plain": [
       "             DTC\n",
       "DEPT            \n",
       "11000.5  64.0521\n",
       "11100.5  49.2653\n",
       "11200.5  55.9402\n",
       "11300.5  63.3536\n",
       "11400.5  62.9691"
      ]
     },
     "execution_count": 51,
     "metadata": {},
     "output_type": "execute_result"
    }
   ],
   "source": [
    "sonicdata.head()"
   ]
  },
  {
   "cell_type": "code",
   "execution_count": 162,
   "metadata": {},
   "outputs": [
    {
     "data": {
      "image/png": "[encoded data removed]",
      "text/plain": [
       "<Figure size 1080x720 with 2 Axes>"
      ]
     },
     "metadata": {
      "needs_background": "light"
     },
     "output_type": "display_data"
    }
   ],
   "source": [
    "plt.subplots(figsize=(15,10))\n",
    "ax2 = sns.heatmap(sonicdata,cmap =\"summer\", vmin = sonicdata.min(),vmax = sonicdata.max())"
   ]
  },
  {
   "cell_type": "code",
   "execution_count": 153,
   "metadata": {},
   "outputs": [
    {
     "data": {
      "text/plain": [
       "11300.5"
      ]
     },
     "execution_count": 153,
     "metadata": {},
     "output_type": "execute_result"
    }
   ],
   "source": [
    "sonicdata"
   ]
  },
  {
   "cell_type": "code",
   "execution_count": 138,
   "metadata": {},
   "outputs": [
    {
     "data": {
      "text/plain": [
       "0      0\n",
       "1      1\n",
       "2      2\n",
       "3      3\n",
       "4      4\n",
       "5      5\n",
       "6      6\n",
       "7      7\n",
       "8      8\n",
       "9      9\n",
       "10    10\n",
       "11    11\n",
       "12    12\n",
       "13    13\n",
       "14    14\n",
       "15    15\n",
       "16    16\n",
       "17    17\n",
       "18    18\n",
       "19    19\n",
       "20    20\n",
       "21    21\n",
       "22    22\n",
       "23    23\n",
       "24    24\n",
       "25    25\n",
       "26    26\n",
       "27    27\n",
       "28    28\n",
       "29    29\n",
       "30    30\n",
       "dtype: int64"
      ]
     },
     "execution_count": 138,
     "metadata": {},
     "output_type": "execute_result"
    }
   ],
   "source": [
    "sonicdata.shape\n",
    "sonicdata.shape[0]\n",
    "indx_sonic = pd.Series(range(0,sonicdata.shape[0]))\n",
    "indx_sonic "
   ]
  },
  {
   "cell_type": "code",
   "execution_count": 152,
   "metadata": {},
   "outputs": [
    {
     "data": {
      "text/plain": [
       "GR    26.2258\n",
       "Name: 11200.0, dtype: float64"
      ]
     },
     "execution_count": 152,
     "metadata": {},
     "output_type": "execute_result"
    }
   ],
   "source": [
    "#df1.join(df2, how='outer')\n",
    "df_gr.iloc[840]"
   ]
  },
  {
   "cell_type": "code",
   "execution_count": 62,
   "metadata": {},
   "outputs": [],
   "source": [
    "#df_syn = df_gr.join(sonicdata,how = 'outer')"
   ]
  },
  {
   "cell_type": "code",
   "execution_count": 216,
   "metadata": {},
   "outputs": [
    {
     "data": {
      "text/html": [
       "<div>\n",
       "<style scoped>\n",
       "    .dataframe tbody tr th:only-of-type {\n",
       "        vertical-align: middle;\n",
       "    }\n",
       "\n",
       "    .dataframe tbody tr th {\n",
       "        vertical-align: top;\n",
       "    }\n",
       "\n",
       "    .dataframe thead th {\n",
       "        text-align: right;\n",
       "    }\n",
       "</style>\n",
       "<table border=\"1\" class=\"dataframe\">\n",
       "  <thead>\n",
       "    <tr style=\"text-align: right;\">\n",
       "      <th></th>\n",
       "      <th>RHOB</th>\n",
       "    </tr>\n",
       "    <tr>\n",
       "      <th>DEPT</th>\n",
       "      <th></th>\n",
       "    </tr>\n",
       "  </thead>\n",
       "  <tbody>\n",
       "    <tr>\n",
       "      <th>10990.00</th>\n",
       "      <td>2.6920</td>\n",
       "    </tr>\n",
       "    <tr>\n",
       "      <th>10990.25</th>\n",
       "      <td>2.6952</td>\n",
       "    </tr>\n",
       "    <tr>\n",
       "      <th>10990.50</th>\n",
       "      <td>2.6949</td>\n",
       "    </tr>\n",
       "    <tr>\n",
       "      <th>10990.75</th>\n",
       "      <td>2.6932</td>\n",
       "    </tr>\n",
       "    <tr>\n",
       "      <th>10991.00</th>\n",
       "      <td>2.6955</td>\n",
       "    </tr>\n",
       "  </tbody>\n",
       "</table>\n",
       "</div>"
      ],
      "text/plain": [
       "            RHOB\n",
       "DEPT            \n",
       "10990.00  2.6920\n",
       "10990.25  2.6952\n",
       "10990.50  2.6949\n",
       "10990.75  2.6932\n",
       "10991.00  2.6955"
      ]
     },
     "execution_count": 216,
     "metadata": {},
     "output_type": "execute_result"
    }
   ],
   "source": [
    "#df_syn['SYN'] = df_syn['GR']*df_syn['DTC']\n",
    "#df_gr.iloc[2]\n",
    "df_syn = df_gr.iloc[2]*sonicdata.iloc[3]\n",
    "\n",
    "df_gr.head()\n",
    "sonicdata.iloc[3]"
   ]
  },
  {
   "cell_type": "code",
   "execution_count": 187,
   "metadata": {},
   "outputs": [
    {
     "data": {
      "text/plain": [
       "RHOB    2.6949\n",
       "Name: 10990.5, dtype: float64"
      ]
     },
     "execution_count": 187,
     "metadata": {},
     "output_type": "execute_result"
    }
   ],
   "source": [
    "df_gr.iloc[2]"
   ]
  },
  {
   "cell_type": "code",
   "execution_count": 248,
   "metadata": {},
   "outputs": [],
   "source": [
    "#baba = df_gr.iloc[2] + sonicdata.iloc[3]\n",
    "#baba = df_gr.loc[:,\"RHOB\"]+sonicdata.loc[:,\"DTC\"]\n",
    "#baba\n",
    "\n",
    "#df_gr.loc[1,'syn'] = df_gr.loc[10990.25]+df_gr.loc[10990.50]"
   ]
  },
  {
   "cell_type": "code",
   "execution_count": 89,
   "metadata": {},
   "outputs": [
    {
     "data": {
      "text/plain": [
       "Float64Index([ 10990.0, 10990.25,  10990.5, 10990.75,  10991.0, 10991.25,\n",
       "               10991.5, 10991.75,  10992.0, 10992.25,\n",
       "              ...\n",
       "              13903.75,  13904.0, 13904.25,  13904.5, 13904.75,  13905.0,\n",
       "              13905.25,  13905.5, 13905.75,  13906.0],\n",
       "             dtype='float64', name='DEPT', length=11665)"
      ]
     },
     "execution_count": 89,
     "metadata": {},
     "output_type": "execute_result"
    }
   ],
   "source": [
    "#ax3 = sns.heatmap(df_syn['SYN'],cmap =\"summer\", vmin = df_syn['SYN'].min(),vmax = df_syn['SYN'].max())\n",
    "Depth_gr = df_gr.index"
   ]
  },
  {
   "cell_type": "code",
   "execution_count": 243,
   "metadata": {},
   "outputs": [
    {
     "data": {
      "text/html": [
       "<div>\n",
       "<style scoped>\n",
       "    .dataframe tbody tr th:only-of-type {\n",
       "        vertical-align: middle;\n",
       "    }\n",
       "\n",
       "    .dataframe tbody tr th {\n",
       "        vertical-align: top;\n",
       "    }\n",
       "\n",
       "    .dataframe thead th {\n",
       "        text-align: right;\n",
       "    }\n",
       "</style>\n",
       "<table border=\"1\" class=\"dataframe\">\n",
       "  <thead>\n",
       "    <tr style=\"text-align: right;\">\n",
       "      <th></th>\n",
       "      <th>AI</th>\n",
       "    </tr>\n",
       "  </thead>\n",
       "  <tbody>\n",
       "    <tr>\n",
       "      <th>4</th>\n",
       "      <td>30723.20745</td>\n",
       "    </tr>\n",
       "  </tbody>\n",
       "</table>\n",
       "</div>"
      ],
      "text/plain": [
       "            AI\n",
       "4  30723.20745"
      ]
     },
     "execution_count": 243,
     "metadata": {},
     "output_type": "execute_result"
    }
   ],
   "source": [
    "impedance = pd.DataFrame(columns = ['AI'])\n",
    "fifi = df_gr.loc[10990.50]*sonicdata.index[4]\n",
    "#fifi ['RHOB']\n",
    "impedance.loc[4] = fifi ['RHOB']\n",
    "impedance.head()"
   ]
  },
  {
   "cell_type": "code",
   "execution_count": 244,
   "metadata": {},
   "outputs": [],
   "source": [
    "counter_gr = 0\n",
    "counter_sonic = 0\n",
    "i = 0\n",
    "AI = 0\n",
    "impedance = pd.DataFrame(columns = ['AI'])\n",
    "\n",
    "indx_gr = counter_gr\n",
    "for indx_gr, value in df_gr.iterrows():\n",
    "    if indx_gr < sonicdata.index[counter_sonic]:\n",
    "        #print('value is', value[\"RHOB\"], 'counter_rho is',indx_gr, 'sonic depth is',sonicdata.index[counter_sonic])\n",
    "        AI = df_gr.loc[indx_gr] *sonicdata.index[counter_sonic]\n",
    "        impedance.loc[indx_gr] = AI['RHOB']\n",
    "        #print('impedance is',impedance[indx_gr])\n",
    "    else: \n",
    "        counter_gr = indx_gr\n",
    "        counter_sonic = counter_sonic + 1\n",
    "       # print('sonic counter is', counter_sonic, 'new sonic depth is', sonicdata.index[counter_sonic])"
   ]
  },
  {
   "cell_type": "code",
   "execution_count": 229,
   "metadata": {},
   "outputs": [],
   "source": [
    "#impedance = impedance.to_frame()"
   ]
  },
  {
   "cell_type": "code",
   "execution_count": 249,
   "metadata": {},
   "outputs": [],
   "source": [
    "#impedance"
   ]
  },
  {
   "cell_type": "code",
   "execution_count": 259,
   "metadata": {},
   "outputs": [
    {
     "data": {
      "image/png": "[encoded data removed]",
      "text/plain": [
       "<Figure size 1440x864 with 2 Axes>"
      ]
     },
     "metadata": {
      "needs_background": "light"
     },
     "output_type": "display_data"
    }
   ],
   "source": [
    "plt.subplots(figsize=(20,12))\n",
    "ax3 = sns.heatmap(impedance,cmap =\"summer\", vmin = 30000,vmax = impedance.max())"
   ]
  },
  {
   "cell_type": "code",
   "execution_count": null,
   "metadata": {},
   "outputs": [],
   "source": []
  }
 ],
 "metadata": {
  "kernelspec": {
   "display_name": "Python [conda env:qiime2-2019.1]",
   "language": "python",
   "name": "conda-env-qiime2-2019.1-py"
  },
  "language_info": {
   "codemirror_mode": {
    "name": "ipython",
    "version": 3
   },
   "file_extension": ".py",
   "mimetype": "text/x-python",
   "name": "python",
   "nbconvert_exporter": "python",
   "pygments_lexer": "ipython3",
   "version": "3.6.7"
  }
 },
 "nbformat": 4,
 "nbformat_minor": 2
}
